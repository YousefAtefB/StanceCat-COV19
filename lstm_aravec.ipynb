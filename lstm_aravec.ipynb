{
  "cells": [
    {
      "cell_type": "markdown",
      "metadata": {
        "colab_type": "text",
        "id": "view-in-github"
      },
      "source": [
        "<a href=\"https://colab.research.google.com/github/YousefAtefB/StanceCat-COV19/blob/main/main.ipynb\" target=\"_parent\"><img src=\"https://colab.research.google.com/assets/colab-badge.svg\" alt=\"Open In Colab\"/></a>"
      ]
    },
    {
      "cell_type": "markdown",
      "metadata": {
        "id": "WcQI7NXfDOf_"
      },
      "source": [
        "# Setting up colab environment and downad word2vec\n",
        "\n"
      ]
    },
    {
      "cell_type": "markdown",
      "metadata": {
        "id": "dwlU2w5iDd-4"
      },
      "source": [
        "## Mount google drive"
      ]
    },
    {
      "cell_type": "code",
      "execution_count": 1,
      "metadata": {
        "colab": {
          "base_uri": "https://localhost:8080/"
        },
        "id": "dsVQZR-J6Sm2",
        "outputId": "a68b234d-09aa-4bae-d2c1-42763425d685"
      },
      "outputs": [
        {
          "name": "stdout",
          "output_type": "stream",
          "text": [
            "Drive already mounted at /content/drive; to attempt to forcibly remount, call drive.mount(\"/content/drive\", force_remount=True).\n",
            "/content/drive/MyDrive/StanceCat-COV19\n"
          ]
        }
      ],
      "source": [
        "from google.colab import drive\n",
        "drive.mount('/content/drive')\n",
        "%cd /content/drive/MyDrive/StanceCat-COV19"
      ]
    },
    {
      "cell_type": "markdown",
      "metadata": {
        "id": "Zpk_JG4NDjqQ"
      },
      "source": [
        "## Download word2vec CBOW model ~ 2.64 GB"
      ]
    },
    {
      "cell_type": "code",
      "execution_count": 2,
      "metadata": {
        "id": "oUBOKt9W58s8"
      },
      "outputs": [],
      "source": [
        "# !pip install wget\n",
        "# import wget\n",
        "# url = \"https://bakrianoo.ewr1.vultrobjects.com/aravec/full_uni_cbow_300_twitter.zip\"\n",
        "# wget.download(url, './Downloads')"
      ]
    },
    {
      "cell_type": "markdown",
      "metadata": {
        "id": "wetfh0a2Dvco"
      },
      "source": [
        "## unzip the model"
      ]
    },
    {
      "cell_type": "code",
      "execution_count": 3,
      "metadata": {
        "id": "OB26xXsXCOHz"
      },
      "outputs": [],
      "source": [
        "# import zipfile\n",
        "# with zipfile.ZipFile('./Downloads/full_uni_cbow_300_twitter.zip', 'r') as zip_ref:\n",
        "#   zip_ref.extractall('./Downloads')"
      ]
    },
    {
      "cell_type": "markdown",
      "metadata": {
        "id": "76FZTz_krd5a"
      },
      "source": [
        "# Importing libraries"
      ]
    },
    {
      "cell_type": "code",
      "execution_count": 4,
      "metadata": {
        "colab": {
          "base_uri": "https://localhost:8080/"
        },
        "id": "ywTU_lpard5b",
        "outputId": "f404600d-5433-497f-d4d3-536ef896e6d9"
      },
      "outputs": [
        {
          "name": "stderr",
          "output_type": "stream",
          "text": [
            "[nltk_data] Downloading package punkt to /root/nltk_data...\n",
            "[nltk_data]   Package punkt is already up-to-date!\n",
            "[nltk_data] Downloading package stopwords to /root/nltk_data...\n",
            "[nltk_data]   Package stopwords is already up-to-date!\n"
          ]
        },
        {
          "name": "stdout",
          "output_type": "stream",
          "text": [
            "Looking in indexes: https://pypi.org/simple, https://us-python.pkg.dev/colab-wheels/public/simple/\n",
            "Requirement already satisfied: emoji==1.4.2 in /usr/local/lib/python3.8/dist-packages (1.4.2)\n"
          ]
        }
      ],
      "source": [
        "import pandas as pd\n",
        "import numpy as np\n",
        "import torch\n",
        "import torch.nn as nn\n",
        "import torch.nn.functional as F\n",
        "import torch.optim as optim\n",
        "import re\n",
        "import nltk\n",
        "nltk.download('punkt')\n",
        "nltk.download('stopwords')\n",
        "from tqdm import tqdm\n",
        "from sklearn.metrics import f1_score\n",
        "import string\n",
        "\n",
        "!pip install emoji==1.4.2\n",
        "import emoji"
      ]
    },
    {
      "cell_type": "markdown",
      "metadata": {
        "id": "1VijNZrNrd5c"
      },
      "source": [
        "# Data PreProcessing"
      ]
    },
    {
      "cell_type": "code",
      "execution_count": 5,
      "metadata": {
        "id": "dEQBDR91rd5d"
      },
      "outputs": [],
      "source": [
        "train = pd.read_csv('Dataset/train.csv')\n",
        "text_train, category_train, stance_train = train['text'], train['category'], train['stance']\n",
        "\n",
        "dev = pd.read_csv('Dataset/dev.csv')\n",
        "text_dev, category_dev, stance_dev = dev['text'], dev['category'], dev['stance']"
      ]
    },
    {
      "cell_type": "code",
      "execution_count": 6,
      "metadata": {
        "colab": {
          "base_uri": "https://localhost:8080/",
          "height": 363
        },
        "id": "UMeRhzy8rd5d",
        "outputId": "ddf8d307-29ab-422d-ebb6-367669bbf2e2"
      },
      "outputs": [
        {
          "data": {
            "text/html": [
              "\n",
              "  <div id=\"df-8bc29c30-b497-413e-b646-04e571c6cbf0\">\n",
              "    <div class=\"colab-df-container\">\n",
              "      <div>\n",
              "<style scoped>\n",
              "    .dataframe tbody tr th:only-of-type {\n",
              "        vertical-align: middle;\n",
              "    }\n",
              "\n",
              "    .dataframe tbody tr th {\n",
              "        vertical-align: top;\n",
              "    }\n",
              "\n",
              "    .dataframe thead th {\n",
              "        text-align: right;\n",
              "    }\n",
              "</style>\n",
              "<table border=\"1\" class=\"dataframe\">\n",
              "  <thead>\n",
              "    <tr style=\"text-align: right;\">\n",
              "      <th></th>\n",
              "      <th>text</th>\n",
              "      <th>category</th>\n",
              "      <th>stance</th>\n",
              "    </tr>\n",
              "  </thead>\n",
              "  <tbody>\n",
              "    <tr>\n",
              "      <th>0</th>\n",
              "      <td>بيل غيتس يتلقى لقاح #كوفيد19 من غير تصوير الاب...</td>\n",
              "      <td>celebrity</td>\n",
              "      <td>1</td>\n",
              "    </tr>\n",
              "    <tr>\n",
              "      <th>1</th>\n",
              "      <td>وزير الصحة لحد اليوم وتحديدا هلأ بمؤتمروا الصح...</td>\n",
              "      <td>info_news</td>\n",
              "      <td>1</td>\n",
              "    </tr>\n",
              "    <tr>\n",
              "      <th>2</th>\n",
              "      <td>قولكن  رح يكونو اد المسؤولية ب لبنان لما يوصل ...</td>\n",
              "      <td>info_news</td>\n",
              "      <td>1</td>\n",
              "    </tr>\n",
              "    <tr>\n",
              "      <th>3</th>\n",
              "      <td>#تركيا.. وزير الصحة فخر الدين قوجة يتلقى أول ج...</td>\n",
              "      <td>celebrity</td>\n",
              "      <td>1</td>\n",
              "    </tr>\n",
              "    <tr>\n",
              "      <th>4</th>\n",
              "      <td>وئام وهاب يشتم الدول الخليجية في كل طلة اعلامي...</td>\n",
              "      <td>personal</td>\n",
              "      <td>0</td>\n",
              "    </tr>\n",
              "    <tr>\n",
              "      <th>5</th>\n",
              "      <td>لقاح #كورونا في أميركا.. قلق متزايد من \"التوزي...</td>\n",
              "      <td>info_news</td>\n",
              "      <td>0</td>\n",
              "    </tr>\n",
              "    <tr>\n",
              "      <th>6</th>\n",
              "      <td>لبنان اشترى مليونان لقاح امريكي اذا شلنا يلي ع...</td>\n",
              "      <td>info_news</td>\n",
              "      <td>1</td>\n",
              "    </tr>\n",
              "    <tr>\n",
              "      <th>7</th>\n",
              "      <td>من عوارض لقاح كورونا&lt;LF&gt;هو تهكير حسابك عتويتر&lt;...</td>\n",
              "      <td>personal</td>\n",
              "      <td>0</td>\n",
              "    </tr>\n",
              "    <tr>\n",
              "      <th>8</th>\n",
              "      <td>هناك 1780 مليونيراً في لبنان. ماذا لو فُرضت ال...</td>\n",
              "      <td>unrelated</td>\n",
              "      <td>0</td>\n",
              "    </tr>\n",
              "    <tr>\n",
              "      <th>9</th>\n",
              "      <td>دعبول حضرتك منو انت وتطلب من قائد دولة إسلامية...</td>\n",
              "      <td>info_news</td>\n",
              "      <td>1</td>\n",
              "    </tr>\n",
              "  </tbody>\n",
              "</table>\n",
              "</div>\n",
              "      <button class=\"colab-df-convert\" onclick=\"convertToInteractive('df-8bc29c30-b497-413e-b646-04e571c6cbf0')\"\n",
              "              title=\"Convert this dataframe to an interactive table.\"\n",
              "              style=\"display:none;\">\n",
              "        \n",
              "  <svg xmlns=\"http://www.w3.org/2000/svg\" height=\"24px\"viewBox=\"0 0 24 24\"\n",
              "       width=\"24px\">\n",
              "    <path d=\"M0 0h24v24H0V0z\" fill=\"none\"/>\n",
              "    <path d=\"M18.56 5.44l.94 2.06.94-2.06 2.06-.94-2.06-.94-.94-2.06-.94 2.06-2.06.94zm-11 1L8.5 8.5l.94-2.06 2.06-.94-2.06-.94L8.5 2.5l-.94 2.06-2.06.94zm10 10l.94 2.06.94-2.06 2.06-.94-2.06-.94-.94-2.06-.94 2.06-2.06.94z\"/><path d=\"M17.41 7.96l-1.37-1.37c-.4-.4-.92-.59-1.43-.59-.52 0-1.04.2-1.43.59L10.3 9.45l-7.72 7.72c-.78.78-.78 2.05 0 2.83L4 21.41c.39.39.9.59 1.41.59.51 0 1.02-.2 1.41-.59l7.78-7.78 2.81-2.81c.8-.78.8-2.07 0-2.86zM5.41 20L4 18.59l7.72-7.72 1.47 1.35L5.41 20z\"/>\n",
              "  </svg>\n",
              "      </button>\n",
              "      \n",
              "  <style>\n",
              "    .colab-df-container {\n",
              "      display:flex;\n",
              "      flex-wrap:wrap;\n",
              "      gap: 12px;\n",
              "    }\n",
              "\n",
              "    .colab-df-convert {\n",
              "      background-color: #E8F0FE;\n",
              "      border: none;\n",
              "      border-radius: 50%;\n",
              "      cursor: pointer;\n",
              "      display: none;\n",
              "      fill: #1967D2;\n",
              "      height: 32px;\n",
              "      padding: 0 0 0 0;\n",
              "      width: 32px;\n",
              "    }\n",
              "\n",
              "    .colab-df-convert:hover {\n",
              "      background-color: #E2EBFA;\n",
              "      box-shadow: 0px 1px 2px rgba(60, 64, 67, 0.3), 0px 1px 3px 1px rgba(60, 64, 67, 0.15);\n",
              "      fill: #174EA6;\n",
              "    }\n",
              "\n",
              "    [theme=dark] .colab-df-convert {\n",
              "      background-color: #3B4455;\n",
              "      fill: #D2E3FC;\n",
              "    }\n",
              "\n",
              "    [theme=dark] .colab-df-convert:hover {\n",
              "      background-color: #434B5C;\n",
              "      box-shadow: 0px 1px 3px 1px rgba(0, 0, 0, 0.15);\n",
              "      filter: drop-shadow(0px 1px 2px rgba(0, 0, 0, 0.3));\n",
              "      fill: #FFFFFF;\n",
              "    }\n",
              "  </style>\n",
              "\n",
              "      <script>\n",
              "        const buttonEl =\n",
              "          document.querySelector('#df-8bc29c30-b497-413e-b646-04e571c6cbf0 button.colab-df-convert');\n",
              "        buttonEl.style.display =\n",
              "          google.colab.kernel.accessAllowed ? 'block' : 'none';\n",
              "\n",
              "        async function convertToInteractive(key) {\n",
              "          const element = document.querySelector('#df-8bc29c30-b497-413e-b646-04e571c6cbf0');\n",
              "          const dataTable =\n",
              "            await google.colab.kernel.invokeFunction('convertToInteractive',\n",
              "                                                     [key], {});\n",
              "          if (!dataTable) return;\n",
              "\n",
              "          const docLinkHtml = 'Like what you see? Visit the ' +\n",
              "            '<a target=\"_blank\" href=https://colab.research.google.com/notebooks/data_table.ipynb>data table notebook</a>'\n",
              "            + ' to learn more about interactive tables.';\n",
              "          element.innerHTML = '';\n",
              "          dataTable['output_type'] = 'display_data';\n",
              "          await google.colab.output.renderOutput(dataTable, element);\n",
              "          const docLink = document.createElement('div');\n",
              "          docLink.innerHTML = docLinkHtml;\n",
              "          element.appendChild(docLink);\n",
              "        }\n",
              "      </script>\n",
              "    </div>\n",
              "  </div>\n",
              "  "
            ],
            "text/plain": [
              "                                                text   category  stance\n",
              "0  بيل غيتس يتلقى لقاح #كوفيد19 من غير تصوير الاب...  celebrity       1\n",
              "1  وزير الصحة لحد اليوم وتحديدا هلأ بمؤتمروا الصح...  info_news       1\n",
              "2  قولكن  رح يكونو اد المسؤولية ب لبنان لما يوصل ...  info_news       1\n",
              "3  #تركيا.. وزير الصحة فخر الدين قوجة يتلقى أول ج...  celebrity       1\n",
              "4  وئام وهاب يشتم الدول الخليجية في كل طلة اعلامي...   personal       0\n",
              "5  لقاح #كورونا في أميركا.. قلق متزايد من \"التوزي...  info_news       0\n",
              "6  لبنان اشترى مليونان لقاح امريكي اذا شلنا يلي ع...  info_news       1\n",
              "7  من عوارض لقاح كورونا<LF>هو تهكير حسابك عتويتر<...   personal       0\n",
              "8  هناك 1780 مليونيراً في لبنان. ماذا لو فُرضت ال...  unrelated       0\n",
              "9  دعبول حضرتك منو انت وتطلب من قائد دولة إسلامية...  info_news       1"
            ]
          },
          "execution_count": 6,
          "metadata": {},
          "output_type": "execute_result"
        }
      ],
      "source": [
        "train.head(10)"
      ]
    },
    {
      "cell_type": "code",
      "execution_count": 7,
      "metadata": {
        "colab": {
          "base_uri": "https://localhost:8080/",
          "height": 363
        },
        "id": "Bpq0eUk-rd5e",
        "outputId": "0e7ed975-a0cf-48d1-c34b-88bc11c0bb5d"
      },
      "outputs": [
        {
          "data": {
            "text/html": [
              "\n",
              "  <div id=\"df-437d8d6f-3199-450f-98e0-adaafbc0d4f5\">\n",
              "    <div class=\"colab-df-container\">\n",
              "      <div>\n",
              "<style scoped>\n",
              "    .dataframe tbody tr th:only-of-type {\n",
              "        vertical-align: middle;\n",
              "    }\n",
              "\n",
              "    .dataframe tbody tr th {\n",
              "        vertical-align: top;\n",
              "    }\n",
              "\n",
              "    .dataframe thead th {\n",
              "        text-align: right;\n",
              "    }\n",
              "</style>\n",
              "<table border=\"1\" class=\"dataframe\">\n",
              "  <thead>\n",
              "    <tr style=\"text-align: right;\">\n",
              "      <th></th>\n",
              "      <th>text</th>\n",
              "      <th>category</th>\n",
              "      <th>stance</th>\n",
              "    </tr>\n",
              "  </thead>\n",
              "  <tbody>\n",
              "    <tr>\n",
              "      <th>0</th>\n",
              "      <td>#مريم_رجوي: &lt;LF&gt;حظر خامنئي المجرم شراء #لقاح_ك...</td>\n",
              "      <td>info_news</td>\n",
              "      <td>1</td>\n",
              "    </tr>\n",
              "    <tr>\n",
              "      <th>1</th>\n",
              "      <td>#الصحة:&lt;LF&gt;•تم إعطاء 259.530 جرعة من لقاح #كور...</td>\n",
              "      <td>plan</td>\n",
              "      <td>1</td>\n",
              "    </tr>\n",
              "    <tr>\n",
              "      <th>2</th>\n",
              "      <td>#خادم_الحرمين - حفظه الله - يتلقى الجرعة الأول...</td>\n",
              "      <td>celebrity</td>\n",
              "      <td>1</td>\n",
              "    </tr>\n",
              "    <tr>\n",
              "      <th>3</th>\n",
              "      <td>#الصحه_العالميه: لقاحات #كورونا آمنة ولا خوف م...</td>\n",
              "      <td>info_news</td>\n",
              "      <td>1</td>\n",
              "    </tr>\n",
              "    <tr>\n",
              "      <th>4</th>\n",
              "      <td>#وزيرة_الصحة \"#هالة_زايد\" تقول إنه يجرى مراجعة...</td>\n",
              "      <td>info_news</td>\n",
              "      <td>1</td>\n",
              "    </tr>\n",
              "    <tr>\n",
              "      <th>5</th>\n",
              "      <td>2️⃣ وانتهى الفريق من الدراسات قبل السريرية ونش...</td>\n",
              "      <td>info_news</td>\n",
              "      <td>1</td>\n",
              "    </tr>\n",
              "    <tr>\n",
              "      <th>6</th>\n",
              "      <td>عاجل 🔴 &lt;LF&gt;.&lt;LF&gt;&lt;LF&gt;.&lt;LF&gt;&lt;LF&gt;وزارة الصحة :&lt;LF&gt;...</td>\n",
              "      <td>plan</td>\n",
              "      <td>1</td>\n",
              "    </tr>\n",
              "    <tr>\n",
              "      <th>7</th>\n",
              "      <td>#فيديو | السفير الأميركي لدى السعودية بعد تلقي...</td>\n",
              "      <td>info_news</td>\n",
              "      <td>1</td>\n",
              "    </tr>\n",
              "    <tr>\n",
              "      <th>8</th>\n",
              "      <td>تصريحات وبس الحكومة مع السيسي علي حسب اللقطة! ...</td>\n",
              "      <td>info_news</td>\n",
              "      <td>0</td>\n",
              "    </tr>\n",
              "    <tr>\n",
              "      <th>9</th>\n",
              "      <td>الاتحاد الاوروبي تفاوض لشراء لقاحات الكورونا م...</td>\n",
              "      <td>info_news</td>\n",
              "      <td>1</td>\n",
              "    </tr>\n",
              "  </tbody>\n",
              "</table>\n",
              "</div>\n",
              "      <button class=\"colab-df-convert\" onclick=\"convertToInteractive('df-437d8d6f-3199-450f-98e0-adaafbc0d4f5')\"\n",
              "              title=\"Convert this dataframe to an interactive table.\"\n",
              "              style=\"display:none;\">\n",
              "        \n",
              "  <svg xmlns=\"http://www.w3.org/2000/svg\" height=\"24px\"viewBox=\"0 0 24 24\"\n",
              "       width=\"24px\">\n",
              "    <path d=\"M0 0h24v24H0V0z\" fill=\"none\"/>\n",
              "    <path d=\"M18.56 5.44l.94 2.06.94-2.06 2.06-.94-2.06-.94-.94-2.06-.94 2.06-2.06.94zm-11 1L8.5 8.5l.94-2.06 2.06-.94-2.06-.94L8.5 2.5l-.94 2.06-2.06.94zm10 10l.94 2.06.94-2.06 2.06-.94-2.06-.94-.94-2.06-.94 2.06-2.06.94z\"/><path d=\"M17.41 7.96l-1.37-1.37c-.4-.4-.92-.59-1.43-.59-.52 0-1.04.2-1.43.59L10.3 9.45l-7.72 7.72c-.78.78-.78 2.05 0 2.83L4 21.41c.39.39.9.59 1.41.59.51 0 1.02-.2 1.41-.59l7.78-7.78 2.81-2.81c.8-.78.8-2.07 0-2.86zM5.41 20L4 18.59l7.72-7.72 1.47 1.35L5.41 20z\"/>\n",
              "  </svg>\n",
              "      </button>\n",
              "      \n",
              "  <style>\n",
              "    .colab-df-container {\n",
              "      display:flex;\n",
              "      flex-wrap:wrap;\n",
              "      gap: 12px;\n",
              "    }\n",
              "\n",
              "    .colab-df-convert {\n",
              "      background-color: #E8F0FE;\n",
              "      border: none;\n",
              "      border-radius: 50%;\n",
              "      cursor: pointer;\n",
              "      display: none;\n",
              "      fill: #1967D2;\n",
              "      height: 32px;\n",
              "      padding: 0 0 0 0;\n",
              "      width: 32px;\n",
              "    }\n",
              "\n",
              "    .colab-df-convert:hover {\n",
              "      background-color: #E2EBFA;\n",
              "      box-shadow: 0px 1px 2px rgba(60, 64, 67, 0.3), 0px 1px 3px 1px rgba(60, 64, 67, 0.15);\n",
              "      fill: #174EA6;\n",
              "    }\n",
              "\n",
              "    [theme=dark] .colab-df-convert {\n",
              "      background-color: #3B4455;\n",
              "      fill: #D2E3FC;\n",
              "    }\n",
              "\n",
              "    [theme=dark] .colab-df-convert:hover {\n",
              "      background-color: #434B5C;\n",
              "      box-shadow: 0px 1px 3px 1px rgba(0, 0, 0, 0.15);\n",
              "      filter: drop-shadow(0px 1px 2px rgba(0, 0, 0, 0.3));\n",
              "      fill: #FFFFFF;\n",
              "    }\n",
              "  </style>\n",
              "\n",
              "      <script>\n",
              "        const buttonEl =\n",
              "          document.querySelector('#df-437d8d6f-3199-450f-98e0-adaafbc0d4f5 button.colab-df-convert');\n",
              "        buttonEl.style.display =\n",
              "          google.colab.kernel.accessAllowed ? 'block' : 'none';\n",
              "\n",
              "        async function convertToInteractive(key) {\n",
              "          const element = document.querySelector('#df-437d8d6f-3199-450f-98e0-adaafbc0d4f5');\n",
              "          const dataTable =\n",
              "            await google.colab.kernel.invokeFunction('convertToInteractive',\n",
              "                                                     [key], {});\n",
              "          if (!dataTable) return;\n",
              "\n",
              "          const docLinkHtml = 'Like what you see? Visit the ' +\n",
              "            '<a target=\"_blank\" href=https://colab.research.google.com/notebooks/data_table.ipynb>data table notebook</a>'\n",
              "            + ' to learn more about interactive tables.';\n",
              "          element.innerHTML = '';\n",
              "          dataTable['output_type'] = 'display_data';\n",
              "          await google.colab.output.renderOutput(dataTable, element);\n",
              "          const docLink = document.createElement('div');\n",
              "          docLink.innerHTML = docLinkHtml;\n",
              "          element.appendChild(docLink);\n",
              "        }\n",
              "      </script>\n",
              "    </div>\n",
              "  </div>\n",
              "  "
            ],
            "text/plain": [
              "                                                text   category  stance\n",
              "0  #مريم_رجوي: <LF>حظر خامنئي المجرم شراء #لقاح_ك...  info_news       1\n",
              "1  #الصحة:<LF>•تم إعطاء 259.530 جرعة من لقاح #كور...       plan       1\n",
              "2  #خادم_الحرمين - حفظه الله - يتلقى الجرعة الأول...  celebrity       1\n",
              "3  #الصحه_العالميه: لقاحات #كورونا آمنة ولا خوف م...  info_news       1\n",
              "4  #وزيرة_الصحة \"#هالة_زايد\" تقول إنه يجرى مراجعة...  info_news       1\n",
              "5  2️⃣ وانتهى الفريق من الدراسات قبل السريرية ونش...  info_news       1\n",
              "6  عاجل 🔴 <LF>.<LF><LF>.<LF><LF>وزارة الصحة :<LF>...       plan       1\n",
              "7  #فيديو | السفير الأميركي لدى السعودية بعد تلقي...  info_news       1\n",
              "8  تصريحات وبس الحكومة مع السيسي علي حسب اللقطة! ...  info_news       0\n",
              "9  الاتحاد الاوروبي تفاوض لشراء لقاحات الكورونا م...  info_news       1"
            ]
          },
          "execution_count": 7,
          "metadata": {},
          "output_type": "execute_result"
        }
      ],
      "source": [
        "dev.head(10)"
      ]
    },
    {
      "cell_type": "code",
      "execution_count": 8,
      "metadata": {
        "colab": {
          "base_uri": "https://localhost:8080/"
        },
        "id": "kh3WXuubrd5e",
        "outputId": "3817ca68-4609-4493-ff30-aa63fad7e2c1"
      },
      "outputs": [
        {
          "name": "stdout",
          "output_type": "stream",
          "text": [
            "(6988,) (6988,) (6988,)\n",
            "(1000,) (1000,) (1000,)\n"
          ]
        }
      ],
      "source": [
        "text_train, category_train, stance_train = np.array(train['text']), np.array(train['category']), np.array(train['stance'])\n",
        "text_dev, category_dev, stance_dev = np.array(dev['text']), np.array(dev['category']), np.array(dev['stance'])\n",
        "\n",
        "print(text_train.shape, category_train.shape, stance_train.shape)\n",
        "print(text_dev.shape, category_dev.shape, stance_dev.shape)"
      ]
    },
    {
      "cell_type": "code",
      "execution_count": 9,
      "metadata": {
        "id": "PvBTBwhtrd5e"
      },
      "outputs": [],
      "source": [
        "# Clean/Normalize Arabic Text \n",
        "# taskeel, longation, ... etc\n",
        "def clean_str(text):\n",
        "    search = [\"أ\",\"إ\",\"آ\",\"ة\",\"_\",\"-\",\"/\",\".\",\"،\",\" و \",\" يا \",'\"',\"ـ\",\"'\",\"ى\",\"\\\\\",'\\n', '\\t','\"','?','؟','!']\n",
        "    replace = [\"ا\",\"ا\",\"ا\",\"ه\",\" \",\" \",\"\",\"\",\"\",\" و\",\" يا\",\"\",\"\",\"\",\"ي\",\"\",' ', ' ',' ',' ? ',' ؟ ',' ! ']\n",
        "    \n",
        "    #remove tashkeel\n",
        "    p_tashkeel = re.compile(r'[\\u0617-\\u061A\\u064B-\\u0652]')\n",
        "    text = re.sub(p_tashkeel,\"\", text)\n",
        "    \n",
        "    #remove longation\n",
        "    p_longation = re.compile(r'(.)\\1+')\n",
        "    subst = r\"\\1\\1\"\n",
        "    text = re.sub(p_longation, subst, text)\n",
        "    \n",
        "    text = text.replace('وو', 'و')\n",
        "    text = text.replace('يي', 'ي')\n",
        "    text = text.replace('اا', 'ا')\n",
        "    \n",
        "    for i in range(0, len(search)):\n",
        "        text = text.replace(search[i], replace[i])\n",
        "    \n",
        "    #trim    \n",
        "    text = text.strip()\n",
        "\n",
        "    return text\n",
        "\n",
        "def PreProcessing(text, unk='<UNK>'):\n",
        "\n",
        "  for i in range(len(text)):\n",
        "\n",
        "    # remove links\n",
        "    text[i] = re.sub(r'https?:\\/\\/.*[\\r\\n]*', '', text[i], flags=re.MULTILINE)\n",
        "\n",
        "    # limit repeated emojis to 2\n",
        "    prev_emoji = None\n",
        "    cnt = 0\n",
        "    remove_duplicate_emoji = []\n",
        "    for c in text[i]:\n",
        "        if c in emoji.UNICODE_EMOJI['en']:\n",
        "            if prev_emoji == c and cnt >=2:\n",
        "                continue\n",
        "            if prev_emoji != c:\n",
        "              cnt = 0\n",
        "            prev_emoji = c\n",
        "            cnt+=1\n",
        "        remove_duplicate_emoji.append(c)\n",
        "    text[i] = \"\".join(remove_duplicate_emoji)\n",
        "\n",
        "    # seperate emojis\n",
        "    text[i] = ''.join((' '+c+' ') if c in emoji.UNICODE_EMOJI['en'] else c for c in text[i])\n",
        "\n",
        "    # Clean/Normalize Arabic Text\n",
        "    text[i] = clean_str(text[i]) \n",
        "\n",
        "    # remove english words\n",
        "    text[i] = re.sub(r'\\s*[A-Za-z]+\\b', '' , text[i])\n",
        "\n",
        "    # remove numbers\n",
        "    text[i] = re.sub(\"\\d+\", \" \", text[i])\n",
        "\n",
        "    # remove punctuations\n",
        "    text[i] = text[i].translate(str.maketrans('', '', string.punctuation))\n",
        "\n",
        "    # tokenize\n",
        "    text[i] = nltk.tokenize.word_tokenize(text[i])\n",
        "\n",
        "    # remove stop-words\n",
        "    stopwords = set(nltk.corpus.stopwords.words(\"arabic\"))\n",
        "    text[i] = [word for word in text[i] if word not in stopwords]\n",
        "\n",
        "    # remove emojis\n",
        "    text[i] = [word for word in text[i] if word not in emoji.UNICODE_EMOJI['en']]\n",
        "\n",
        "    # remove empty words\n",
        "    text[i] = [word for word in text[i] if len(word)>2]\n",
        "\n",
        "    # if the tweet became empty just add add <UNK> token \n",
        "    if len(text[i])==0:\n",
        "      text[i] = [unk]\n",
        "\n",
        "  return text"
      ]
    },
    {
      "cell_type": "code",
      "execution_count": 11,
      "metadata": {
        "colab": {
          "base_uri": "https://localhost:8080/"
        },
        "id": "LDLCPKlErd5f",
        "outputId": "2a0b5f3f-566b-4467-e631-2bfa73455401"
      },
      "outputs": [
        {
          "name": "stdout",
          "output_type": "stream",
          "text": [
            "بيل غيتس يتلقى لقاح #كوفيد19 من غير تصوير الابرة و لا السيرنجة و لا الدواء و لابس بولو صيفي في عز الشتاء و يقول ان إحدى مزايا عمر ال 65 عامًا هي انه مؤهل للحصول على اللقاح ... يعنى ما كان يحتاج اللقاح لو كان عمره اصغر من 65 🤔 https://t.co/QQKFFUNwBn \n",
            " ['بيل', 'غيتس', 'يتلقي', 'لقاح', 'كوفيد', 'تصوير', 'الابره', 'السيرنجه', 'الدواء', 'ولابس', 'بولو', 'صيفي', 'الشتاء', 'ويقول', 'احدي', 'مزايا', 'عمر', 'عاما', 'انه', 'مؤهل', 'للحصول', 'علي', 'اللقاح', 'يعني', 'يحتاج', 'اللقاح', 'عمره', 'اصغر']\n",
            "#مريم_رجوي: <LF>حظر خامنئي المجرم شراء #لقاح_كورونا يعد مجزرة متعمدة بحق الشعب الإيراني<LF><LF>نقل موقع مريم رجوي موقف رئيسة الجمهورية المنتخبة للمقاومة الإيرانية من تصريحات خامنئي المجرم حول حظر استيراد لقاح كورونا من الولايات المتحدة و بريطانيا و فرنسا. <LF>#اللقاح_حق_للناس https://t.co/AYXMbXjVKn \n",
            " ['مريم', 'رجوي', 'حظر', 'خامنئي', 'المجرم', 'شراء', 'لقاح', 'كورونا', 'يعد', 'مجزره', 'متعمده', 'بحق', 'الشعب', 'الايرانينقل', 'موقع', 'مريم', 'رجوي', 'موقف', 'رئيسه', 'الجمهوريه', 'المنتخبه', 'للمقاومه', 'الايرانيه', 'تصريحات', 'خامنئي', 'المجرم', 'حول', 'حظر', 'استيراد', 'لقاح', 'كورونا', 'الولايات', 'المتحده', 'وبريطانيا', 'وفرنسا', 'اللقاح', 'للناس']\n",
            "98\n",
            "بيل\n",
            "غيتس\n",
            "يتلقي\n",
            "لقاح\n",
            "كوفيد\n",
            "تصوير\n",
            "الابره\n",
            "السيرنجه\n",
            "الدواء\n",
            "ولابس\n",
            "بولو\n",
            "صيفي\n",
            "الشتاء\n",
            "ويقول\n",
            "احدي\n",
            "مزايا\n",
            "عمر\n",
            "عاما\n",
            "انه\n",
            "مؤهل\n",
            "للحصول\n",
            "علي\n",
            "اللقاح\n",
            "يعني\n",
            "يحتاج\n",
            "اللقاح\n",
            "عمره\n",
            "اصغر\n"
          ]
        }
      ],
      "source": [
        "pre_text_train = PreProcessing(np.array(text_train))\n",
        "pre_text_dev = PreProcessing(np.array(text_dev))\n",
        "print(text_train[0], '\\n', pre_text_train[0])\n",
        "print(text_dev[0], '\\n', pre_text_dev[0])\n",
        "print(len(max(pre_text_train,key=len)))\n",
        "for word in pre_text_train[0]:\n",
        "  print(word)"
      ]
    },
    {
      "attachments": {},
      "cell_type": "markdown",
      "metadata": {},
      "source": [
        "### Saving preprocessed data"
      ]
    },
    {
      "cell_type": "code",
      "execution_count": 13,
      "metadata": {
        "colab": {
          "base_uri": "https://localhost:8080/"
        },
        "id": "Ld8pW0r2rd5f",
        "outputId": "d73c616c-8c12-4f3e-e4c4-c9d36485e8d9"
      },
      "outputs": [
        {
          "name": "stdout",
          "output_type": "stream",
          "text": [
            "['بيل', 'غيتس', 'يتلقي', 'لقاح', 'كوفيد', 'تصوير', 'الابره', 'السيرنجه', 'الدواء', 'ولابس', 'بولو', 'صيفي', 'الشتاء', 'ويقول', 'احدي', 'مزايا', 'عمر', 'عاما', 'انه', 'مؤهل', 'للحصول', 'علي', 'اللقاح', 'يعني', 'يحتاج', 'اللقاح', 'عمره', 'اصغر']\n"
          ]
        }
      ],
      "source": [
        "with open('our_processed_train.txt','w', encoding='utf8') as f:\n",
        "\tfor i in pre_text_train:\n",
        "\t\tf.write('%s\\n'%i)\n",
        "print(pre_text_train[0])"
      ]
    },
    {
      "attachments": {},
      "cell_type": "markdown",
      "metadata": {},
      "source": [
        "### Loading aravec cbow using gensim"
      ]
    },
    {
      "cell_type": "code",
      "execution_count": 14,
      "metadata": {
        "colab": {
          "base_uri": "https://localhost:8080/"
        },
        "id": "voMeahEZ1NZV",
        "outputId": "805d2d6d-31e8-41c8-ed8a-6c5ea00ff4da"
      },
      "outputs": [
        {
          "name": "stdout",
          "output_type": "stream",
          "text": [
            "Looking in indexes: https://pypi.org/simple, https://us-python.pkg.dev/colab-wheels/public/simple/\n",
            "Requirement already satisfied: gensim in /usr/local/lib/python3.8/dist-packages (3.6.0)\n",
            "Requirement already satisfied: nltk in /usr/local/lib/python3.8/dist-packages (3.7)\n",
            "Requirement already satisfied: scipy>=0.18.1 in /usr/local/lib/python3.8/dist-packages (from gensim) (1.7.3)\n",
            "Requirement already satisfied: six>=1.5.0 in /usr/local/lib/python3.8/dist-packages (from gensim) (1.15.0)\n",
            "Requirement already satisfied: smart-open>=1.2.1 in /usr/local/lib/python3.8/dist-packages (from gensim) (6.3.0)\n",
            "Requirement already satisfied: numpy>=1.11.3 in /usr/local/lib/python3.8/dist-packages (from gensim) (1.21.6)\n",
            "Requirement already satisfied: regex>=2021.8.3 in /usr/local/lib/python3.8/dist-packages (from nltk) (2022.6.2)\n",
            "Requirement already satisfied: joblib in /usr/local/lib/python3.8/dist-packages (from nltk) (1.2.0)\n",
            "Requirement already satisfied: tqdm in /usr/local/lib/python3.8/dist-packages (from nltk) (4.64.1)\n",
            "Requirement already satisfied: click in /usr/local/lib/python3.8/dist-packages (from nltk) (7.1.2)\n"
          ]
        }
      ],
      "source": [
        "!pip install gensim nltk\n",
        "import gensim\n",
        "from gensim.models import word2vec\n",
        "\n",
        "t_model = gensim.models.Word2Vec.load('./Downloads/full_uni_cbow_300_twitter.mdl')"
      ]
    },
    {
      "attachments": {},
      "cell_type": "markdown",
      "metadata": {},
      "source": [
        "### Building vocabulary"
      ]
    },
    {
      "cell_type": "code",
      "execution_count": 16,
      "metadata": {
        "id": "CaRmYInYaXzw"
      },
      "outputs": [],
      "source": [
        "def BuildVocab(pad='<PAD>', unk='<UNK>'):\n",
        "\n",
        "    vocab = [word for word in t_model.wv.index2word]\n",
        "    vocab = [pad, unk] + vocab\n",
        "\n",
        "    id2word = {i: word for i, word in enumerate(vocab)}\n",
        "    word2id = {word: i for i, word in id2word.items()}\n",
        "    vocab_size = len(vocab)\n",
        "\n",
        "    return vocab_size, vocab, id2word, word2id    "
      ]
    },
    {
      "cell_type": "code",
      "execution_count": 17,
      "metadata": {
        "colab": {
          "base_uri": "https://localhost:8080/"
        },
        "id": "ACTDBbQyc4oa",
        "outputId": "0afd9cb7-2371-40d7-a3a3-b486eda06027"
      },
      "outputs": [
        {
          "name": "stdout",
          "output_type": "stream",
          "text": [
            "1259758\n"
          ]
        }
      ],
      "source": [
        "vocab_size, vocab, id2word, word2id = BuildVocab()\n",
        "print(vocab_size)"
      ]
    },
    {
      "attachments": {},
      "cell_type": "markdown",
      "metadata": {},
      "source": [
        "### Building embedding matrix to finetune later"
      ]
    },
    {
      "cell_type": "code",
      "execution_count": 18,
      "metadata": {
        "id": "KXKlQZa6YWs_"
      },
      "outputs": [],
      "source": [
        "def BuildingEmbeddingMatrix():\n",
        "  matrix_len = vocab_size\n",
        "  emb_dim = 300\n",
        "\n",
        "  emb_matrix = np.zeros((matrix_len, emb_dim))\n",
        "\n",
        "  for i, word in enumerate(vocab):\n",
        "      try: \n",
        "          emb_matrix[i] = t_model.wv[word]\n",
        "      except KeyError:\n",
        "          emb_matrix[i] = np.random.normal(scale=0.6, size=(emb_dim, ))\n",
        "  \n",
        "  return emb_matrix"
      ]
    },
    {
      "cell_type": "code",
      "execution_count": 19,
      "metadata": {
        "id": "pu4moegJeQZg"
      },
      "outputs": [],
      "source": [
        "emb_matrix = BuildingEmbeddingMatrix()\n",
        "emb_matrix = torch.from_numpy(emb_matrix)"
      ]
    },
    {
      "cell_type": "code",
      "execution_count": 20,
      "metadata": {
        "colab": {
          "base_uri": "https://localhost:8080/"
        },
        "id": "acffqlMAyJo_",
        "outputId": "1e8e4e66-545d-4dd2-e91b-b5a3624692b9"
      },
      "outputs": [
        {
          "data": {
            "text/plain": [
              "0"
            ]
          },
          "execution_count": 20,
          "metadata": {},
          "output_type": "execute_result"
        }
      ],
      "source": [
        "import gc\n",
        "del t_model\n",
        "gc.collect()"
      ]
    },
    {
      "cell_type": "code",
      "execution_count": 21,
      "metadata": {
        "colab": {
          "base_uri": "https://localhost:8080/"
        },
        "id": "Fx9vfUb-rd5g",
        "outputId": "e5ba1999-765c-452d-8595-d410783fbaae"
      },
      "outputs": [
        {
          "name": "stdout",
          "output_type": "stream",
          "text": [
            "{'celebrity', 'personal', 'unrelated', 'requests', 'others', 'rumors', 'plan', 'restrictions', 'advice', 'info_news'}\n",
            "0\n"
          ]
        }
      ],
      "source": [
        "categories = set(category_train)\n",
        "print(categories)\n",
        "category2id = {word:i for i, word in enumerate(list(categories))}\n",
        "print(category2id['celebrity'])"
      ]
    },
    {
      "cell_type": "markdown",
      "metadata": {
        "id": "JkC59A38rd5g"
      },
      "source": [
        "# Model Building"
      ]
    },
    {
      "cell_type": "markdown",
      "metadata": {
        "id": "q_nWgk6hrd5g"
      },
      "source": [
        "### Ideas to try\n",
        "1) bi-directional\n",
        "2) pre-training\n",
        "3) multi-layers\n",
        "4) BERT\n",
        "5) transformers notebook\n",
        "6) packed_padded_sequences\n",
        "7) pre-trained embedding"
      ]
    },
    {
      "cell_type": "markdown",
      "metadata": {
        "id": "lRfuLFcArd5h"
      },
      "source": [
        "### Building datasets"
      ]
    },
    {
      "cell_type": "code",
      "execution_count": 22,
      "metadata": {
        "id": "DwS45gP9rd5h"
      },
      "outputs": [],
      "source": [
        "class Dataset(torch.utils.data.Dataset):\n",
        "\n",
        "  def __init__(self, x, y, pad='<PAD>', unk='<UNK>', word2id=word2id):\n",
        "\n",
        "    x = x.copy()\n",
        "\n",
        "    # src lengths to be used in pack padded\n",
        "    self.seq_lengths = torch.LongTensor(list(map(len, x)))\n",
        "\n",
        "    for i in range(len(x)):\n",
        "      x[i] = [word2id[word] if word in word2id else word2id[unk] for word in x[i]]\n",
        "    \n",
        "    self.X = torch.nn.utils.rnn.pad_sequence([torch.tensor(sentence) for sentence in x], batch_first=True, padding_value=word2id[pad])\n",
        "\n",
        "    print(self.X[0])\n",
        "\n",
        "    # sort sequeces decreasing in size\n",
        "    self.seq_lengths, perm_idx = self.seq_lengths.sort(0, descending=True)\n",
        "    self.X = self.X[perm_idx]\n",
        "\n",
        "    print(self.X.shape)\n",
        "\n",
        "    print(min(self.seq_lengths))\n",
        "    \n",
        "    self.Y = torch.tensor(y)\n",
        "    self.len = len(x)\n",
        "    self.pad = pad\n",
        "\n",
        "  def __len__(self):\n",
        "    return self.len\n",
        "\n",
        "  def __getitem__(self, idx):\n",
        "    return self.X[idx], self.Y[idx], self.seq_lengths[idx]"
      ]
    },
    {
      "cell_type": "code",
      "execution_count": 23,
      "metadata": {
        "colab": {
          "base_uri": "https://localhost:8080/"
        },
        "id": "gPb16UsPrd5h",
        "outputId": "f6906fae-17fa-4549-8fd7-c9213a7c7cfb"
      },
      "outputs": [
        {
          "name": "stdout",
          "output_type": "stream",
          "text": [
            "tensor([ 9280, 40161, 16060, 43868,     1,  3557, 32246,     1, 10460, 39927,\n",
            "        74361, 17413,  2353,  2362,  3345, 25753,   554,  3283,    98, 38562,\n",
            "        10166,    11, 92234,   141,  1872, 92234,  1624,  4666,     0,     0,\n",
            "            0,     0,     0,     0,     0,     0,     0,     0,     0,     0,\n",
            "            0,     0,     0,     0,     0,     0,     0,     0,     0,     0,\n",
            "            0,     0,     0,     0,     0,     0,     0,     0,     0,     0,\n",
            "            0,     0,     0,     0,     0,     0,     0,     0,     0,     0,\n",
            "            0,     0,     0,     0,     0,     0,     0,     0,     0,     0,\n",
            "            0,     0,     0,     0,     0,     0,     0,     0,     0,     0,\n",
            "            0,     0,     0,     0,     0,     0,     0,     0])\n",
            "torch.Size([6988, 98])\n",
            "tensor(1)\n",
            "tensor([ 9280, 40161, 16060, 43868,     1,  3557, 32246,     1, 10460, 39927,\n",
            "        74361, 17413,  2353,  2362,  3345, 25753,   554,  3283,    98, 38562,\n",
            "        10166,    11, 92234,   141,  1872, 92234,  1624,  4666,     0,     0,\n",
            "            0,     0,     0,     0,     0,     0,     0,     0,     0,     0,\n",
            "            0,     0,     0,     0,     0,     0,     0,     0,     0,     0,\n",
            "            0,     0,     0,     0,     0,     0,     0,     0,     0,     0,\n",
            "            0,     0,     0,     0,     0,     0,     0,     0,     0,     0,\n",
            "            0,     0,     0,     0,     0,     0,     0,     0,     0,     0,\n",
            "            0,     0,     0,     0,     0,     0,     0,     0,     0,     0,\n",
            "            0,     0,     0,     0,     0,     0,     0,     0])\n",
            "torch.Size([6988, 98])\n",
            "tensor(1)\n",
            "tensor([ 1152, 17492,  6484, 16525,  8625,  5980, 43868, 21509,  2731,  8653,\n",
            "        68615,  1849,   416,     1,   855,  1152, 17492,  2094, 13655,  6095,\n",
            "        18610, 22974,  5646,  7673, 16525,  8625,   289,  6484, 31782, 43868,\n",
            "        21509,  5787,  2199, 38107, 25588, 92234,   310,     0,     0,     0,\n",
            "            0,     0,     0])\n",
            "torch.Size([1000, 43])\n",
            "tensor(2)\n",
            "tensor([ 1152, 17492,  6484, 16525,  8625,  5980, 43868, 21509,  2731,  8653,\n",
            "        68615,  1849,   416,     1,   855,  1152, 17492,  2094, 13655,  6095,\n",
            "        18610, 22974,  5646,  7673, 16525,  8625,   289,  6484, 31782, 43868,\n",
            "        21509,  5787,  2199, 38107, 25588, 92234,   310,     0,     0,     0,\n",
            "            0,     0,     0])\n",
            "torch.Size([1000, 43])\n",
            "tensor(2)\n"
          ]
        }
      ],
      "source": [
        "stance_train_dataset = Dataset(pre_text_train, stance_train + 1)\n",
        "category_train_dataset = Dataset(pre_text_train, [category2id[category] for category in category_train])\n",
        "\n",
        "stance_dev_dataset = Dataset(pre_text_dev, stance_dev + 1)\n",
        "category_dev_dataset = Dataset(pre_text_dev, [category2id[category] for category in category_dev])"
      ]
    },
    {
      "attachments": {},
      "cell_type": "markdown",
      "metadata": {},
      "source": [
        "### The LSTM model"
      ]
    },
    {
      "cell_type": "code",
      "execution_count": 24,
      "metadata": {
        "id": "L42QcTDDrd5h"
      },
      "outputs": [],
      "source": [
        "def create_emb_layer(emb_matrix, non_trainable=False):\n",
        "    num_embeddings, embedding_dim = emb_matrix.shape\n",
        "    emb_layer = nn.Embedding(num_embeddings, embedding_dim)\n",
        "    emb_layer.load_state_dict({'weight': emb_matrix})\n",
        "    \n",
        "    if non_trainable:\n",
        "        emb_layer.weight.requires_grad = False\n",
        "\n",
        "    return emb_layer, num_embeddings, embedding_dim\n",
        "\n",
        "class LSTM(nn.Module):\n",
        "    def __init__(self, input_dim, emb_dim, hid_dim, output_dim, dropout):\n",
        "        super().__init__()\n",
        "\n",
        "        self.hid_dim = hid_dim\n",
        "        self.output_dim = output_dim\n",
        "\n",
        "        self.embedding, num_embeddings, embedding_dim = create_emb_layer(emb_matrix, True)\n",
        "        self.lstm = nn.LSTM(emb_dim, hid_dim, dropout=dropout)\n",
        "\n",
        "        self.fc_out = nn.Linear(hid_dim, output_dim)\n",
        "\n",
        "        self.dropout = nn.Dropout(dropout)\n",
        "\n",
        "    def forward(self, src, src_len):\n",
        "        #src = [src len, batch size]\n",
        "        \n",
        "        embedded = self.embedding(src)\n",
        "        embedded = self.dropout(embedded)\n",
        "        #embedded = [src len, batch size, emb dim]\n",
        "\n",
        "        packed_embedded =  torch.nn.utils.rnn.pack_padded_sequence(embedded, src_len.cpu().numpy(), batch_first=False)\n",
        "\n",
        "        outputs, (hidden, cell) = self.lstm(packed_embedded)\n",
        "        #outputs = [src len, batch size, hid dim]\n",
        "        #hidden = [n layers * n directions, batch size, hid dim]\n",
        "        #cell = [n layers * n directions, batch size, hid dim]\n",
        "        #outputs are always from the top hidden layer\n",
        "\n",
        "        prediction = self.fc_out(hidden)\n",
        "        #prediction = [1, batch size, output dim]\n",
        "\n",
        "        prediction = prediction.squeeze(0)\n",
        "        #prediction = [batch size, output dim]\n",
        "\n",
        "        return prediction        "
      ]
    },
    {
      "attachments": {},
      "cell_type": "markdown",
      "metadata": {},
      "source": [
        "### Use GPU if any"
      ]
    },
    {
      "cell_type": "code",
      "execution_count": 25,
      "metadata": {
        "id": "I6IVDLwErd5i"
      },
      "outputs": [],
      "source": [
        "device = torch.device('cuda' if torch.cuda.is_available() else 'cpu')"
      ]
    },
    {
      "cell_type": "markdown",
      "metadata": {
        "id": "3TDwiyZ1rd5i"
      },
      "source": [
        "### Training function"
      ]
    },
    {
      "cell_type": "code",
      "execution_count": 26,
      "metadata": {
        "id": "36jndiE0rd5i"
      },
      "outputs": [],
      "source": [
        "def train(model, train_dataset, train_dataloader, optimizer, criterion, clip):\n",
        "    \n",
        "    model.train()\n",
        "        \n",
        "    total_acc_train = 0.0\n",
        "    total_loss_train = 0.0\n",
        "\n",
        "    for train_input, train_label, src_len in tqdm(train_dataloader):\n",
        "\n",
        "        train_input = train_input.to(device).permute(1, 0)\n",
        "        # print(train_input.shape)\n",
        "        train_label = train_label.to(device)\n",
        "\n",
        "        output = model(train_input, src_len)\n",
        "        # print(output.shape, train_label.shape)\n",
        "        \n",
        "        output_dim = output.shape[-1]\n",
        "        output = output.view(-1, output_dim)\n",
        "        train_label = train_label.view(-1)\n",
        "\n",
        "        batch_loss = criterion(output, train_label)\n",
        "\n",
        "        total_loss_train += batch_loss\n",
        "        \n",
        "        acc = torch.sum(torch.argmax(output, -1) == train_label) \n",
        "        total_acc_train += acc\n",
        "\n",
        "        optimizer.zero_grad()\n",
        "\n",
        "        batch_loss.backward()\n",
        "\n",
        "        # torch.nn.utils.clip_grad_norm_(model.parameters(), clip)\n",
        "        \n",
        "        optimizer.step()\n",
        "\n",
        "    # calculate loss    \n",
        "    epoch_loss = total_loss_train / len(train_dataset)\n",
        "    \n",
        "    # calculate accuracy\n",
        "    epoch_acc = total_acc_train / len(train_dataset)\n",
        "\n",
        "    # calculate f1 score\n",
        "    train_input, train_label, src_len = train_dataset[:]\n",
        "    train_input = train_input.to(device).permute(1, 0)\n",
        "    train_label = train_label.to(device)\n",
        "    output = model(train_input, src_len)\n",
        "\n",
        "    output_dim = output.shape[-1]\n",
        "    output = output.view(-1, output_dim)\n",
        "    train_label = train_label.view(-1)\n",
        "    y_true, y_pred = train_label, torch.argmax(output, -1)\n",
        "\n",
        "    f1_macro = f1_score(y_true.cpu(), y_pred.cpu(), average='macro')\n",
        "\n",
        "    return epoch_loss, epoch_acc, f1_macro"
      ]
    },
    {
      "attachments": {},
      "cell_type": "markdown",
      "metadata": {},
      "source": [
        "### Evaluating function"
      ]
    },
    {
      "cell_type": "code",
      "execution_count": 27,
      "metadata": {
        "id": "MJ6lazqerd5i"
      },
      "outputs": [],
      "source": [
        "def evaluate(model, test_dataset, test_dataloader, criterion):\n",
        "\n",
        "  model.eval()\n",
        "\n",
        "  total_acc_test = 0.0\n",
        "  total_loss_test = 0.0\n",
        "  \n",
        "  with torch.no_grad():\n",
        "\n",
        "    for test_input, test_label, src_len in tqdm(test_dataloader):\n",
        "\n",
        "      test_input = test_input.to(device).permute(1, 0)\n",
        "      test_label = test_label.to(device)\n",
        "\n",
        "\n",
        "      output = model(test_input, src_len)\n",
        "\n",
        "      batch_loss = criterion(output.view(-1, model.output_dim), test_label.view(-1))\n",
        "\n",
        "      total_loss_test += batch_loss\n",
        "\n",
        "      acc = torch.sum(torch.argmax(output, -1)==test_label)\n",
        "      total_acc_test += acc\n",
        "\n",
        "    # calculate loss\n",
        "    total_loss_test /= len(test_dataset)\n",
        "\n",
        "    # calculate accuracy\n",
        "    total_acc_test /= len(test_dataset)\n",
        "\n",
        "    # calculate f1 score\n",
        "    test_input, test_label, src_len = test_dataset[:]\n",
        "    test_input = test_input.to(device).permute(1, 0)\n",
        "    test_label = test_label.to(device)\n",
        "    output = model(test_input, src_len)\n",
        "\n",
        "    output_dim = output.shape[-1]\n",
        "    output = output.view(-1, output_dim)\n",
        "    test_label = test_label.view(-1)\n",
        "    y_true, y_pred = test_label, torch.argmax(output, -1)\n",
        "\n",
        "    f1_macro = f1_score(y_true.cpu(), y_pred.cpu(), average='macro')\n",
        "  \n",
        "  return total_loss_test, total_acc_test, f1_macro"
      ]
    },
    {
      "attachments": {},
      "cell_type": "markdown",
      "metadata": {},
      "source": [
        "### Training and evaluating the model each epoch"
      ]
    },
    {
      "cell_type": "code",
      "execution_count": 28,
      "metadata": {
        "id": "vYqgoxmird5j"
      },
      "outputs": [],
      "source": [
        "def train_evaluate(model, train_dataset, dev_dataset, model_name, batch_size=512, epochs=20, learning_rate=0.01, clip=1):\n",
        "\n",
        "  train_dataloader = torch.utils.data.DataLoader(train_dataset, batch_size=batch_size)\n",
        "\n",
        "  dev_dataloader = torch.utils.data.DataLoader(dev_dataset, batch_size=batch_size)\n",
        "\n",
        "  # criterion = nn.CrossEntropyLoss(ignore_index = TRG_PAD_IDX)\n",
        "  criterion = nn.CrossEntropyLoss()\n",
        "\n",
        "  optimizer = torch.optim.Adam(model.parameters(), lr=learning_rate)\n",
        "\n",
        "  use_cuda = torch.cuda.is_available()\n",
        "  device = torch.device(\"cuda\" if use_cuda else \"cpu\")\n",
        "  \n",
        "  model = model.to(device)\n",
        "  criterion = criterion.to(device)\n",
        "\n",
        "  best_f1_macro = 0\n",
        "\n",
        "  for epoch_num in range(epochs):\n",
        "\n",
        "    epoch_loss, epoch_acc, train_f1_macro = train(model, train_dataset, train_dataloader, optimizer, criterion, clip)\n",
        "    dev_loss, dev_acc, dev_f1_macro = evaluate(model, dev_dataset, dev_dataloader, criterion)\n",
        "\n",
        "    if dev_f1_macro > best_f1_macro:\n",
        "      best_f1_macro = dev_f1_macro\n",
        "      torch.save(model.state_dict(), 'best_'+model_name+'.pt')\n",
        "\n",
        "    print(f'Train = Epochs: {epoch_num + 1} | Loss: {epoch_loss} | Accuracy: {epoch_acc} | f1_macro : {train_f1_macro}')\n",
        "    print(f'Dev = Epochs: {epoch_num + 1} | Loss: {dev_loss} | Accuracy: {dev_acc} | f1_macro : {dev_f1_macro}')    \n",
        "\n",
        "  model.load_state_dict(torch.load('best_'+model_name+'.pt'))\n",
        "\n",
        "  dev_loss, dev_acc, dev_f1_macro = evaluate(model, dev_dataset, dev_dataloader, criterion)\n",
        "\n",
        "  print(f'Best Dev = Loss: {dev_loss} | Accuracy: {dev_acc} | f1_macro : {dev_f1_macro}')"
      ]
    },
    {
      "attachments": {},
      "cell_type": "markdown",
      "metadata": {},
      "source": [
        "### Stance Model"
      ]
    },
    {
      "cell_type": "code",
      "execution_count": 29,
      "metadata": {
        "colab": {
          "base_uri": "https://localhost:8080/"
        },
        "id": "8aoD3ZRurd5j",
        "outputId": "12ac2009-5219-4c02-e11d-bd03bc184655"
      },
      "outputs": [
        {
          "name": "stderr",
          "output_type": "stream",
          "text": [
            "/usr/local/lib/python3.8/dist-packages/torch/nn/modules/rnn.py:67: UserWarning: dropout option adds dropout after all but last recurrent layer, so non-zero dropout expects num_layers greater than 1, but got dropout=0.5 and num_layers=1\n",
            "  warnings.warn(\"dropout option adds dropout after all but last \"\n"
          ]
        },
        {
          "name": "stdout",
          "output_type": "stream",
          "text": [
            "The model has 1,668,611 trainable parameters\n"
          ]
        }
      ],
      "source": [
        "INPUT_DIM = vocab_size\n",
        "OUTPUT_DIM = 3\n",
        "EMB_DIM = 300 #256\n",
        "HID_DIM = 512 #512\n",
        "DROPOUT = 0.5\n",
        "\n",
        "emb_matrix.to(device)\n",
        "stance_model = LSTM(INPUT_DIM, EMB_DIM, HID_DIM, OUTPUT_DIM, DROPOUT).to(device)\n",
        "\n",
        "def init_weights(m):\n",
        "    for name, param in m.named_parameters():\n",
        "      if param.requires_grad:\n",
        "        nn.init.uniform_(param.data, -0.08, 0.08)\n",
        "        \n",
        "stance_model.apply(init_weights)\n",
        "\n",
        "def count_parameters(model):\n",
        "    return sum(p.numel() for p in model.parameters() if p.requires_grad)\n",
        "\n",
        "print(f'The model has {count_parameters(stance_model):,} trainable parameters')"
      ]
    },
    {
      "cell_type": "code",
      "execution_count": 30,
      "metadata": {
        "colab": {
          "base_uri": "https://localhost:8080/"
        },
        "id": "7jSm5kHWrd5j",
        "outputId": "cd40adf3-5e4c-49b4-df9e-01523d72bdbb"
      },
      "outputs": [
        {
          "name": "stderr",
          "output_type": "stream",
          "text": [
            "100%|██████████| 14/14 [00:01<00:00,  9.14it/s]\n",
            "100%|██████████| 2/2 [00:00<00:00, 96.32it/s]\n"
          ]
        },
        {
          "name": "stdout",
          "output_type": "stream",
          "text": [
            "Train = Epochs: 1 | Loss: 0.0015660615172237158 | Accuracy: 0.7246708273887634 | f1_macro : 0.29656651358407354\n",
            "Dev = Epochs: 1 | Loss: 0.0012819812400266528 | Accuracy: 0.8030000329017639 | f1_macro : 0.2969125531521538\n"
          ]
        },
        {
          "name": "stderr",
          "output_type": "stream",
          "text": [
            "100%|██████████| 14/14 [00:00<00:00, 26.67it/s]\n",
            "100%|██████████| 2/2 [00:00<00:00, 87.95it/s]\n"
          ]
        },
        {
          "name": "stdout",
          "output_type": "stream",
          "text": [
            "Train = Epochs: 2 | Loss: 0.0012623704969882965 | Accuracy: 0.7920721173286438 | f1_macro : 0.3033833173075721\n",
            "Dev = Epochs: 2 | Loss: 0.0012719965307042003 | Accuracy: 0.8040000200271606 | f1_macro : 0.2972823072656683\n"
          ]
        },
        {
          "name": "stderr",
          "output_type": "stream",
          "text": [
            "100%|██████████| 14/14 [00:00<00:00, 27.63it/s]\n",
            "100%|██████████| 2/2 [00:00<00:00, 90.27it/s]\n"
          ]
        },
        {
          "name": "stdout",
          "output_type": "stream",
          "text": [
            "Train = Epochs: 3 | Loss: 0.0012211467837914824 | Accuracy: 0.7942186594009399 | f1_macro : 0.3173917538522845\n",
            "Dev = Epochs: 3 | Loss: 0.0012790235923603177 | Accuracy: 0.8040000200271606 | f1_macro : 0.2974472807991121\n"
          ]
        },
        {
          "name": "stderr",
          "output_type": "stream",
          "text": [
            "100%|██████████| 14/14 [00:00<00:00, 26.97it/s]\n",
            "100%|██████████| 2/2 [00:00<00:00, 93.12it/s]\n"
          ]
        },
        {
          "name": "stdout",
          "output_type": "stream",
          "text": [
            "Train = Epochs: 4 | Loss: 0.0011769754346460104 | Accuracy: 0.7957927584648132 | f1_macro : 0.3518359573802286\n",
            "Dev = Epochs: 4 | Loss: 0.0013002263149246573 | Accuracy: 0.8020000457763672 | f1_macro : 0.3020857214830162\n"
          ]
        },
        {
          "name": "stderr",
          "output_type": "stream",
          "text": [
            "100%|██████████| 14/14 [00:00<00:00, 29.48it/s]\n",
            "100%|██████████| 2/2 [00:00<00:00, 93.28it/s]\n"
          ]
        },
        {
          "name": "stdout",
          "output_type": "stream",
          "text": [
            "Train = Epochs: 5 | Loss: 0.0011434426996856928 | Accuracy: 0.8013737797737122 | f1_macro : 0.3760375903905984\n",
            "Dev = Epochs: 5 | Loss: 0.0013428753009065986 | Accuracy: 0.8010000586509705 | f1_macro : 0.30670048088249563\n"
          ]
        },
        {
          "name": "stderr",
          "output_type": "stream",
          "text": [
            "100%|██████████| 14/14 [00:00<00:00, 28.37it/s]\n",
            "100%|██████████| 2/2 [00:00<00:00, 88.33it/s]\n"
          ]
        },
        {
          "name": "stdout",
          "output_type": "stream",
          "text": [
            "Train = Epochs: 6 | Loss: 0.0010933292796835303 | Accuracy: 0.8069547414779663 | f1_macro : 0.4308354455566434\n",
            "Dev = Epochs: 6 | Loss: 0.0013823116896674037 | Accuracy: 0.7970000505447388 | f1_macro : 0.3103334398636412\n"
          ]
        },
        {
          "name": "stderr",
          "output_type": "stream",
          "text": [
            "100%|██████████| 14/14 [00:00<00:00, 27.13it/s]\n",
            "100%|██████████| 2/2 [00:00<00:00, 90.17it/s]\n"
          ]
        },
        {
          "name": "stdout",
          "output_type": "stream",
          "text": [
            "Train = Epochs: 7 | Loss: 0.0010535253677517176 | Accuracy: 0.812678873538971 | f1_macro : 0.4699245481036856\n",
            "Dev = Epochs: 7 | Loss: 0.001424893969669938 | Accuracy: 0.7920000553131104 | f1_macro : 0.31327167571148307\n"
          ]
        },
        {
          "name": "stderr",
          "output_type": "stream",
          "text": [
            "100%|██████████| 14/14 [00:00<00:00, 23.75it/s]\n",
            "100%|██████████| 2/2 [00:00<00:00, 93.03it/s]\n"
          ]
        },
        {
          "name": "stdout",
          "output_type": "stream",
          "text": [
            "Train = Epochs: 8 | Loss: 0.0010182048426941037 | Accuracy: 0.8172581195831299 | f1_macro : 0.5040767374029874\n",
            "Dev = Epochs: 8 | Loss: 0.0015109597006812692 | Accuracy: 0.7780000567436218 | f1_macro : 0.30927974755834325\n"
          ]
        },
        {
          "name": "stderr",
          "output_type": "stream",
          "text": [
            "100%|██████████| 14/14 [00:00<00:00, 28.79it/s]\n",
            "100%|██████████| 2/2 [00:00<00:00, 33.57it/s]\n"
          ]
        },
        {
          "name": "stdout",
          "output_type": "stream",
          "text": [
            "Train = Epochs: 9 | Loss: 0.0009803861612454057 | Accuracy: 0.8251287937164307 | f1_macro : 0.5312486602518911\n",
            "Dev = Epochs: 9 | Loss: 0.0015129664679989219 | Accuracy: 0.7880000472068787 | f1_macro : 0.31584874348032244\n"
          ]
        },
        {
          "name": "stderr",
          "output_type": "stream",
          "text": [
            "100%|██████████| 14/14 [00:00<00:00, 27.41it/s]\n",
            "100%|██████████| 2/2 [00:00<00:00, 93.84it/s]\n"
          ]
        },
        {
          "name": "stdout",
          "output_type": "stream",
          "text": [
            "Train = Epochs: 10 | Loss: 0.0009522525360807776 | Accuracy: 0.8258442878723145 | f1_macro : 0.5282960339044135\n",
            "Dev = Epochs: 10 | Loss: 0.0016301769064739347 | Accuracy: 0.7870000600814819 | f1_macro : 0.3159495384646015\n"
          ]
        },
        {
          "name": "stderr",
          "output_type": "stream",
          "text": [
            "100%|██████████| 14/14 [00:00<00:00, 29.12it/s]\n",
            "100%|██████████| 2/2 [00:00<00:00, 91.83it/s]\n"
          ]
        },
        {
          "name": "stdout",
          "output_type": "stream",
          "text": [
            "Train = Epochs: 11 | Loss: 0.0009347827290184796 | Accuracy: 0.8318545818328857 | f1_macro : 0.5780870400170256\n",
            "Dev = Epochs: 11 | Loss: 0.001606310484930873 | Accuracy: 0.7760000228881836 | f1_macro : 0.3204005870672537\n"
          ]
        },
        {
          "name": "stderr",
          "output_type": "stream",
          "text": [
            "100%|██████████| 14/14 [00:00<00:00, 28.11it/s]\n",
            "100%|██████████| 2/2 [00:00<00:00, 91.58it/s]\n"
          ]
        },
        {
          "name": "stdout",
          "output_type": "stream",
          "text": [
            "Train = Epochs: 12 | Loss: 0.0008996042888611555 | Accuracy: 0.8381510972976685 | f1_macro : 0.5947991089059435\n",
            "Dev = Epochs: 12 | Loss: 0.001648504170589149 | Accuracy: 0.7780000567436218 | f1_macro : 0.31692664019663447\n"
          ]
        },
        {
          "name": "stderr",
          "output_type": "stream",
          "text": [
            "100%|██████████| 14/14 [00:00<00:00, 32.18it/s]\n",
            "100%|██████████| 2/2 [00:00<00:00, 91.89it/s]\n"
          ]
        },
        {
          "name": "stdout",
          "output_type": "stream",
          "text": [
            "Train = Epochs: 13 | Loss: 0.0008796005859039724 | Accuracy: 0.8362907767295837 | f1_macro : 0.6368345579083844\n",
            "Dev = Epochs: 13 | Loss: 0.0017378800548613071 | Accuracy: 0.7600000500679016 | f1_macro : 0.3143745279746913\n"
          ]
        },
        {
          "name": "stderr",
          "output_type": "stream",
          "text": [
            "100%|██████████| 14/14 [00:00<00:00, 31.87it/s]\n",
            "100%|██████████| 2/2 [00:00<00:00, 88.76it/s]\n"
          ]
        },
        {
          "name": "stdout",
          "output_type": "stream",
          "text": [
            "Train = Epochs: 14 | Loss: 0.0008452655747532845 | Accuracy: 0.8494561910629272 | f1_macro : 0.6288811776979134\n",
            "Dev = Epochs: 14 | Loss: 0.0017544880975037813 | Accuracy: 0.7710000276565552 | f1_macro : 0.3300097136115384\n"
          ]
        },
        {
          "name": "stderr",
          "output_type": "stream",
          "text": [
            "100%|██████████| 14/14 [00:00<00:00, 27.44it/s]\n",
            "100%|██████████| 2/2 [00:00<00:00, 87.24it/s]\n"
          ]
        },
        {
          "name": "stdout",
          "output_type": "stream",
          "text": [
            "Train = Epochs: 15 | Loss: 0.0008232418913394213 | Accuracy: 0.851316511631012 | f1_macro : 0.6481175958201015\n",
            "Dev = Epochs: 15 | Loss: 0.0017368484986945987 | Accuracy: 0.7610000371932983 | f1_macro : 0.3166723075881676\n"
          ]
        },
        {
          "name": "stderr",
          "output_type": "stream",
          "text": [
            "100%|██████████| 14/14 [00:00<00:00, 32.87it/s]\n",
            "100%|██████████| 2/2 [00:00<00:00, 94.32it/s]\n"
          ]
        },
        {
          "name": "stdout",
          "output_type": "stream",
          "text": [
            "Train = Epochs: 16 | Loss: 0.0008168529020622373 | Accuracy: 0.8470234274864197 | f1_macro : 0.6465477769474546\n",
            "Dev = Epochs: 16 | Loss: 0.0018274947069585323 | Accuracy: 0.7700000405311584 | f1_macro : 0.311431623931624\n"
          ]
        },
        {
          "name": "stderr",
          "output_type": "stream",
          "text": [
            "100%|██████████| 14/14 [00:00<00:00, 32.07it/s]\n",
            "100%|██████████| 2/2 [00:00<00:00, 87.63it/s]\n"
          ]
        },
        {
          "name": "stdout",
          "output_type": "stream",
          "text": [
            "Train = Epochs: 17 | Loss: 0.0007924974197521806 | Accuracy: 0.8568975329399109 | f1_macro : 0.6487289590558826\n",
            "Dev = Epochs: 17 | Loss: 0.001886748126707971 | Accuracy: 0.7780000567436218 | f1_macro : 0.31692664019663447\n"
          ]
        },
        {
          "name": "stderr",
          "output_type": "stream",
          "text": [
            "100%|██████████| 14/14 [00:00<00:00, 32.47it/s]\n",
            "100%|██████████| 2/2 [00:00<00:00, 85.03it/s]\n"
          ]
        },
        {
          "name": "stdout",
          "output_type": "stream",
          "text": [
            "Train = Epochs: 18 | Loss: 0.0007723393500782549 | Accuracy: 0.8596164584159851 | f1_macro : 0.6535840824478588\n",
            "Dev = Epochs: 18 | Loss: 0.0019451141124591231 | Accuracy: 0.7660000324249268 | f1_macro : 0.30918166353299315\n"
          ]
        },
        {
          "name": "stderr",
          "output_type": "stream",
          "text": [
            "100%|██████████| 14/14 [00:00<00:00, 32.38it/s]\n",
            "100%|██████████| 2/2 [00:00<00:00, 90.26it/s]\n"
          ]
        },
        {
          "name": "stdout",
          "output_type": "stream",
          "text": [
            "Train = Epochs: 19 | Loss: 0.0007830747053958476 | Accuracy: 0.857469916343689 | f1_macro : 0.654371589915396\n",
            "Dev = Epochs: 19 | Loss: 0.00200795941054821 | Accuracy: 0.7780000567436218 | f1_macro : 0.32826233709767844\n"
          ]
        },
        {
          "name": "stderr",
          "output_type": "stream",
          "text": [
            "100%|██████████| 14/14 [00:00<00:00, 31.92it/s]\n",
            "100%|██████████| 2/2 [00:00<00:00, 87.32it/s]\n"
          ]
        },
        {
          "name": "stdout",
          "output_type": "stream",
          "text": [
            "Train = Epochs: 20 | Loss: 0.000770277576521039 | Accuracy: 0.8631940484046936 | f1_macro : 0.682276073325314\n",
            "Dev = Epochs: 20 | Loss: 0.0019924493972212076 | Accuracy: 0.7610000371932983 | f1_macro : 0.3223524669566291\n"
          ]
        },
        {
          "name": "stderr",
          "output_type": "stream",
          "text": [
            "100%|██████████| 2/2 [00:00<00:00, 67.23it/s]"
          ]
        },
        {
          "name": "stdout",
          "output_type": "stream",
          "text": [
            "Best Dev = Loss: 0.0017544880975037813 | Accuracy: 0.7710000276565552 | f1_macro : 0.3300097136115384\n"
          ]
        },
        {
          "name": "stderr",
          "output_type": "stream",
          "text": [
            "\n"
          ]
        }
      ],
      "source": [
        "train_evaluate(stance_model, stance_train_dataset, stance_dev_dataset, 'LSTM_stance_model')"
      ]
    },
    {
      "attachments": {},
      "cell_type": "markdown",
      "metadata": {},
      "source": [
        "### Category model"
      ]
    },
    {
      "cell_type": "code",
      "execution_count": 31,
      "metadata": {
        "colab": {
          "base_uri": "https://localhost:8080/"
        },
        "id": "Pj3MGpk6rd5j",
        "outputId": "e189e6b8-3307-4919-de3f-0cd9c0709b7c"
      },
      "outputs": [
        {
          "name": "stderr",
          "output_type": "stream",
          "text": [
            "/usr/local/lib/python3.8/dist-packages/torch/nn/modules/rnn.py:67: UserWarning: dropout option adds dropout after all but last recurrent layer, so non-zero dropout expects num_layers greater than 1, but got dropout=0.5 and num_layers=1\n",
            "  warnings.warn(\"dropout option adds dropout after all but last \"\n"
          ]
        },
        {
          "name": "stdout",
          "output_type": "stream",
          "text": [
            "The model has 1,672,202 trainable parameters\n"
          ]
        }
      ],
      "source": [
        "INPUT_DIM = vocab_size\n",
        "OUTPUT_DIM = 10\n",
        "EMB_DIM = 300 #256\n",
        "HID_DIM = 512 #512\n",
        "DROPOUT = 0.5\n",
        "\n",
        "category_model = LSTM(INPUT_DIM, EMB_DIM, HID_DIM, OUTPUT_DIM, DROPOUT).to(device)\n",
        "\n",
        "def init_weights(m):\n",
        "    for name, param in m.named_parameters():\n",
        "      if param.requires_grad:\n",
        "        nn.init.uniform_(param.data, -0.08, 0.08)\n",
        "        \n",
        "category_model.apply(init_weights)\n",
        "\n",
        "def count_parameters(model):\n",
        "    return sum(p.numel() for p in model.parameters() if p.requires_grad)\n",
        "\n",
        "print(f'The model has {count_parameters(category_model):,} trainable parameters')"
      ]
    },
    {
      "cell_type": "code",
      "execution_count": 32,
      "metadata": {
        "colab": {
          "base_uri": "https://localhost:8080/"
        },
        "id": "7ko0HjsFrd5k",
        "outputId": "eec0199a-3487-472c-821e-99463a0a21e1"
      },
      "outputs": [
        {
          "name": "stderr",
          "output_type": "stream",
          "text": [
            "100%|██████████| 14/14 [00:00<00:00, 28.32it/s]\n",
            "100%|██████████| 2/2 [00:00<00:00, 71.35it/s]\n"
          ]
        },
        {
          "name": "stdout",
          "output_type": "stream",
          "text": [
            "Train = Epochs: 1 | Loss: 0.0034703644923865795 | Accuracy: 0.4287349581718445 | f1_macro : 0.07318558712477792\n",
            "Dev = Epochs: 1 | Loss: 0.002991356421262026 | Accuracy: 0.5440000295639038 | f1_macro : 0.07323958333333333\n"
          ]
        },
        {
          "name": "stderr",
          "output_type": "stream",
          "text": [
            "100%|██████████| 14/14 [00:00<00:00, 28.46it/s]\n",
            "100%|██████████| 2/2 [00:00<00:00, 83.74it/s]\n"
          ]
        },
        {
          "name": "stdout",
          "output_type": "stream",
          "text": [
            "Train = Epochs: 2 | Loss: 0.0029923003166913986 | Accuracy: 0.518460214138031 | f1_macro : 0.08050333182023076\n",
            "Dev = Epochs: 2 | Loss: 0.0029726296197623014 | Accuracy: 0.5440000295639038 | f1_macro : 0.07074122236671002\n"
          ]
        },
        {
          "name": "stderr",
          "output_type": "stream",
          "text": [
            "100%|██████████| 14/14 [00:00<00:00, 32.72it/s]\n",
            "100%|██████████| 2/2 [00:00<00:00, 105.66it/s]\n"
          ]
        },
        {
          "name": "stdout",
          "output_type": "stream",
          "text": [
            "Train = Epochs: 3 | Loss: 0.0028868878725916147 | Accuracy: 0.5223239660263062 | f1_macro : 0.1134319128970982\n",
            "Dev = Epochs: 3 | Loss: 0.002992903348058462 | Accuracy: 0.5390000343322754 | f1_macro : 0.07290233720015057\n"
          ]
        },
        {
          "name": "stderr",
          "output_type": "stream",
          "text": [
            "100%|██████████| 14/14 [00:00<00:00, 31.99it/s]\n",
            "100%|██████████| 2/2 [00:00<00:00, 87.66it/s]\n"
          ]
        },
        {
          "name": "stdout",
          "output_type": "stream",
          "text": [
            "Train = Epochs: 4 | Loss: 0.0027986562345176935 | Accuracy: 0.5316256284713745 | f1_macro : 0.14416406324385272\n",
            "Dev = Epochs: 4 | Loss: 0.0030393474735319614 | Accuracy: 0.534000039100647 | f1_macro : 0.07021696252465484\n"
          ]
        },
        {
          "name": "stderr",
          "output_type": "stream",
          "text": [
            "100%|██████████| 14/14 [00:00<00:00, 32.41it/s]\n",
            "100%|██████████| 2/2 [00:00<00:00, 91.02it/s]\n"
          ]
        },
        {
          "name": "stdout",
          "output_type": "stream",
          "text": [
            "Train = Epochs: 5 | Loss: 0.0026826346293091774 | Accuracy: 0.5409272909164429 | f1_macro : 0.2103952272903305\n",
            "Dev = Epochs: 5 | Loss: 0.003117951098829508 | Accuracy: 0.5330000519752502 | f1_macro : 0.07768298395288496\n"
          ]
        },
        {
          "name": "stderr",
          "output_type": "stream",
          "text": [
            "100%|██████████| 14/14 [00:00<00:00, 25.42it/s]\n",
            "100%|██████████| 2/2 [00:00<00:00, 78.66it/s]\n"
          ]
        },
        {
          "name": "stdout",
          "output_type": "stream",
          "text": [
            "Train = Epochs: 6 | Loss: 0.002593248151242733 | Accuracy: 0.5548081994056702 | f1_macro : 0.255405368059301\n",
            "Dev = Epochs: 6 | Loss: 0.0032174931839108467 | Accuracy: 0.5240000486373901 | f1_macro : 0.08584048667297525\n"
          ]
        },
        {
          "name": "stderr",
          "output_type": "stream",
          "text": [
            "100%|██████████| 14/14 [00:00<00:00, 28.54it/s]\n",
            "100%|██████████| 2/2 [00:00<00:00, 93.69it/s]\n"
          ]
        },
        {
          "name": "stdout",
          "output_type": "stream",
          "text": [
            "Train = Epochs: 7 | Loss: 0.00248194532468915 | Accuracy: 0.5709788203239441 | f1_macro : 0.3082704953358741\n",
            "Dev = Epochs: 7 | Loss: 0.003330627689138055 | Accuracy: 0.5040000081062317 | f1_macro : 0.0811664284325477\n"
          ]
        },
        {
          "name": "stderr",
          "output_type": "stream",
          "text": [
            "100%|██████████| 14/14 [00:00<00:00, 32.36it/s]\n",
            "100%|██████████| 2/2 [00:00<00:00, 85.06it/s]\n"
          ]
        },
        {
          "name": "stdout",
          "output_type": "stream",
          "text": [
            "Train = Epochs: 8 | Loss: 0.002418725984171033 | Accuracy: 0.581139087677002 | f1_macro : 0.34250274842466\n",
            "Dev = Epochs: 8 | Loss: 0.00338585558347404 | Accuracy: 0.4910000264644623 | f1_macro : 0.08141450670319876\n"
          ]
        },
        {
          "name": "stderr",
          "output_type": "stream",
          "text": [
            "100%|██████████| 14/14 [00:00<00:00, 31.91it/s]\n",
            "100%|██████████| 2/2 [00:00<00:00, 87.60it/s]\n"
          ]
        },
        {
          "name": "stdout",
          "output_type": "stream",
          "text": [
            "Train = Epochs: 9 | Loss: 0.0023277627769857645 | Accuracy: 0.5921579599380493 | f1_macro : 0.36610242995762193\n",
            "Dev = Epochs: 9 | Loss: 0.0034798518754541874 | Accuracy: 0.4690000116825104 | f1_macro : 0.07373236010325204\n"
          ]
        },
        {
          "name": "stderr",
          "output_type": "stream",
          "text": [
            "100%|██████████| 14/14 [00:00<00:00, 32.43it/s]\n",
            "100%|██████████| 2/2 [00:00<00:00, 73.94it/s]\n"
          ]
        },
        {
          "name": "stdout",
          "output_type": "stream",
          "text": [
            "Train = Epochs: 10 | Loss: 0.0022484525106847286 | Accuracy: 0.6093302369117737 | f1_macro : 0.41811730874186015\n",
            "Dev = Epochs: 10 | Loss: 0.00364738330245018 | Accuracy: 0.4750000238418579 | f1_macro : 0.09014376746872835\n"
          ]
        },
        {
          "name": "stderr",
          "output_type": "stream",
          "text": [
            "100%|██████████| 14/14 [00:00<00:00, 28.46it/s]\n",
            "100%|██████████| 2/2 [00:00<00:00, 95.54it/s]\n"
          ]
        },
        {
          "name": "stdout",
          "output_type": "stream",
          "text": [
            "Train = Epochs: 11 | Loss: 0.0022171891760081053 | Accuracy: 0.6083285212516785 | f1_macro : 0.4280502865158543\n",
            "Dev = Epochs: 11 | Loss: 0.00372522696852684 | Accuracy: 0.46700000762939453 | f1_macro : 0.0850383003027441\n"
          ]
        },
        {
          "name": "stderr",
          "output_type": "stream",
          "text": [
            "100%|██████████| 14/14 [00:00<00:00, 32.34it/s]\n",
            "100%|██████████| 2/2 [00:00<00:00, 91.06it/s]\n"
          ]
        },
        {
          "name": "stdout",
          "output_type": "stream",
          "text": [
            "Train = Epochs: 12 | Loss: 0.002143568592146039 | Accuracy: 0.6219232678413391 | f1_macro : 0.4434377180134176\n",
            "Dev = Epochs: 12 | Loss: 0.003847050480544567 | Accuracy: 0.4650000333786011 | f1_macro : 0.07885962572932245\n"
          ]
        },
        {
          "name": "stderr",
          "output_type": "stream",
          "text": [
            "100%|██████████| 14/14 [00:00<00:00, 31.88it/s]\n",
            "100%|██████████| 2/2 [00:00<00:00, 90.43it/s]\n"
          ]
        },
        {
          "name": "stdout",
          "output_type": "stream",
          "text": [
            "Train = Epochs: 13 | Loss: 0.002131518442183733 | Accuracy: 0.6210646629333496 | f1_macro : 0.43174440598989855\n",
            "Dev = Epochs: 13 | Loss: 0.003883521305397153 | Accuracy: 0.4570000171661377 | f1_macro : 0.0793268199193809\n"
          ]
        },
        {
          "name": "stderr",
          "output_type": "stream",
          "text": [
            "100%|██████████| 14/14 [00:00<00:00, 31.99it/s]\n",
            "100%|██████████| 2/2 [00:00<00:00, 81.69it/s]\n"
          ]
        },
        {
          "name": "stdout",
          "output_type": "stream",
          "text": [
            "Train = Epochs: 14 | Loss: 0.002072888193652034 | Accuracy: 0.6315111517906189 | f1_macro : 0.4682079732433566\n",
            "Dev = Epochs: 14 | Loss: 0.003918742295354605 | Accuracy: 0.4490000307559967 | f1_macro : 0.08365374606287726\n"
          ]
        },
        {
          "name": "stderr",
          "output_type": "stream",
          "text": [
            "100%|██████████| 14/14 [00:00<00:00, 31.92it/s]\n",
            "100%|██████████| 2/2 [00:00<00:00, 91.42it/s]\n"
          ]
        },
        {
          "name": "stdout",
          "output_type": "stream",
          "text": [
            "Train = Epochs: 15 | Loss: 0.0020218149293214083 | Accuracy: 0.6389524936676025 | f1_macro : 0.4540655471881602\n",
            "Dev = Epochs: 15 | Loss: 0.004052526783198118 | Accuracy: 0.46300002932548523 | f1_macro : 0.08723124602308881\n"
          ]
        },
        {
          "name": "stderr",
          "output_type": "stream",
          "text": [
            "100%|██████████| 14/14 [00:00<00:00, 32.30it/s]\n",
            "100%|██████████| 2/2 [00:00<00:00, 94.19it/s]\n"
          ]
        },
        {
          "name": "stdout",
          "output_type": "stream",
          "text": [
            "Train = Epochs: 16 | Loss: 0.0020237036515027285 | Accuracy: 0.6419576406478882 | f1_macro : 0.45525762847058127\n",
            "Dev = Epochs: 16 | Loss: 0.004062669817358255 | Accuracy: 0.45600003004074097 | f1_macro : 0.09349724043907903\n"
          ]
        },
        {
          "name": "stderr",
          "output_type": "stream",
          "text": [
            "100%|██████████| 14/14 [00:00<00:00, 28.30it/s]\n",
            "100%|██████████| 2/2 [00:00<00:00, 93.01it/s]\n"
          ]
        },
        {
          "name": "stdout",
          "output_type": "stream",
          "text": [
            "Train = Epochs: 17 | Loss: 0.002003101631999016 | Accuracy: 0.6436748504638672 | f1_macro : 0.4978745137489926\n",
            "Dev = Epochs: 17 | Loss: 0.004017534665763378 | Accuracy: 0.44300001859664917 | f1_macro : 0.09457056234497026\n"
          ]
        },
        {
          "name": "stderr",
          "output_type": "stream",
          "text": [
            "100%|██████████| 14/14 [00:00<00:00, 27.68it/s]\n",
            "100%|██████████| 2/2 [00:00<00:00, 93.99it/s]\n"
          ]
        },
        {
          "name": "stdout",
          "output_type": "stream",
          "text": [
            "Train = Epochs: 18 | Loss: 0.001975283958017826 | Accuracy: 0.6489696502685547 | f1_macro : 0.5291046295163634\n",
            "Dev = Epochs: 18 | Loss: 0.0040560453198850155 | Accuracy: 0.46300002932548523 | f1_macro : 0.11056037495731733\n"
          ]
        },
        {
          "name": "stderr",
          "output_type": "stream",
          "text": [
            "100%|██████████| 14/14 [00:00<00:00, 27.78it/s]\n",
            "100%|██████████| 2/2 [00:00<00:00, 94.07it/s]\n"
          ]
        },
        {
          "name": "stdout",
          "output_type": "stream",
          "text": [
            "Train = Epochs: 19 | Loss: 0.0019327620975673199 | Accuracy: 0.659988522529602 | f1_macro : 0.5182668611981727\n",
            "Dev = Epochs: 19 | Loss: 0.004227809142321348 | Accuracy: 0.4620000123977661 | f1_macro : 0.0943029239739992\n"
          ]
        },
        {
          "name": "stderr",
          "output_type": "stream",
          "text": [
            "100%|██████████| 14/14 [00:00<00:00, 33.08it/s]\n",
            "100%|██████████| 2/2 [00:00<00:00, 88.26it/s]\n"
          ]
        },
        {
          "name": "stdout",
          "output_type": "stream",
          "text": [
            "Train = Epochs: 20 | Loss: 0.0018963465699926019 | Accuracy: 0.6631367802619934 | f1_macro : 0.5207172463851457\n",
            "Dev = Epochs: 20 | Loss: 0.0042904154397547245 | Accuracy: 0.4270000159740448 | f1_macro : 0.08887634324478662\n"
          ]
        },
        {
          "name": "stderr",
          "output_type": "stream",
          "text": [
            "100%|██████████| 2/2 [00:00<00:00, 60.42it/s]"
          ]
        },
        {
          "name": "stdout",
          "output_type": "stream",
          "text": [
            "Best Dev = Loss: 0.0040560453198850155 | Accuracy: 0.46300002932548523 | f1_macro : 0.11056037495731733\n"
          ]
        },
        {
          "name": "stderr",
          "output_type": "stream",
          "text": [
            "\n"
          ]
        }
      ],
      "source": [
        "train_evaluate(category_model, category_train_dataset, category_dev_dataset, 'LSTM_category_model')"
      ]
    }
  ],
  "metadata": {
    "accelerator": "GPU",
    "colab": {
      "include_colab_link": true,
      "provenance": []
    },
    "gpuClass": "standard",
    "kernelspec": {
      "display_name": "pytorch",
      "language": "python",
      "name": "python3"
    },
    "language_info": {
      "codemirror_mode": {
        "name": "ipython",
        "version": 3
      },
      "file_extension": ".py",
      "mimetype": "text/x-python",
      "name": "python",
      "nbconvert_exporter": "python",
      "pygments_lexer": "ipython3",
      "version": "3.10.6"
    },
    "orig_nbformat": 4,
    "vscode": {
      "interpreter": {
        "hash": "f707ed687e1cc7dca614d866740125e744cc3f7963ec2d63a60d682146be2e45"
      }
    }
  },
  "nbformat": 4,
  "nbformat_minor": 0
}
