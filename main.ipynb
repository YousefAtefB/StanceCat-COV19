{
  "cells": [
    {
      "cell_type": "markdown",
      "metadata": {
        "id": "view-in-github",
        "colab_type": "text"
      },
      "source": [
        "<a href=\"https://colab.research.google.com/github/YousefAtefB/StanceCat-COV19/blob/main/main.ipynb\" target=\"_parent\"><img src=\"https://colab.research.google.com/assets/colab-badge.svg\" alt=\"Open In Colab\"/></a>"
      ]
    },
    {
      "cell_type": "markdown",
      "source": [
        "# Setting up colab environment and downad word2vec\n",
        "\n"
      ],
      "metadata": {
        "id": "WcQI7NXfDOf_"
      }
    },
    {
      "cell_type": "markdown",
      "source": [
        "## Mount google drive"
      ],
      "metadata": {
        "id": "dwlU2w5iDd-4"
      }
    },
    {
      "cell_type": "code",
      "source": [
        "from google.colab import drive\n",
        "drive.mount('/content/drive')\n",
        "%cd /content/drive/MyDrive/StanceCat-COV19"
      ],
      "metadata": {
        "colab": {
          "base_uri": "https://localhost:8080/"
        },
        "id": "dsVQZR-J6Sm2",
        "outputId": "21732348-761e-4841-d5d8-81e6db43a42b"
      },
      "execution_count": null,
      "outputs": [
        {
          "output_type": "stream",
          "name": "stdout",
          "text": [
            "Drive already mounted at /content/drive; to attempt to forcibly remount, call drive.mount(\"/content/drive\", force_remount=True).\n",
            "/content/drive/MyDrive/StanceCat-COV19\n"
          ]
        }
      ]
    },
    {
      "cell_type": "markdown",
      "source": [
        "## Download word2vec CBOW model ~ 2.64 GB"
      ],
      "metadata": {
        "id": "Zpk_JG4NDjqQ"
      }
    },
    {
      "cell_type": "code",
      "source": [
        "# !pip install wget\n",
        "# import wget\n",
        "# url = \"https://bakrianoo.ewr1.vultrobjects.com/aravec/full_uni_cbow_300_twitter.zip\"\n",
        "# wget.download(url, './Downloads')"
      ],
      "metadata": {
        "id": "oUBOKt9W58s8"
      },
      "execution_count": null,
      "outputs": []
    },
    {
      "cell_type": "markdown",
      "source": [
        "## unzip the model"
      ],
      "metadata": {
        "id": "wetfh0a2Dvco"
      }
    },
    {
      "cell_type": "code",
      "source": [
        "# import zipfile\n",
        "# with zipfile.ZipFile('./Downloads/full_uni_cbow_300_twitter.zip', 'r') as zip_ref:\n",
        "#   zip_ref.extractall('./Downloads')"
      ],
      "metadata": {
        "id": "OB26xXsXCOHz"
      },
      "execution_count": null,
      "outputs": []
    },
    {
      "cell_type": "markdown",
      "metadata": {
        "id": "76FZTz_krd5a"
      },
      "source": [
        "# Importing libraries"
      ]
    },
    {
      "cell_type": "code",
      "execution_count": null,
      "metadata": {
        "id": "ywTU_lpard5b",
        "colab": {
          "base_uri": "https://localhost:8080/"
        },
        "outputId": "9adbd6aa-3e2b-4d30-9e69-ba8c79be8532"
      },
      "outputs": [
        {
          "output_type": "stream",
          "name": "stderr",
          "text": [
            "[nltk_data] Downloading package punkt to /root/nltk_data...\n",
            "[nltk_data]   Package punkt is already up-to-date!\n"
          ]
        }
      ],
      "source": [
        "import pandas as pd\n",
        "import numpy as np\n",
        "import torch\n",
        "import torch.nn as nn\n",
        "import torch.nn.functional as F\n",
        "import torch.optim as optim\n",
        "import re\n",
        "import nltk\n",
        "nltk.download('punkt')\n",
        "from tqdm import tqdm\n",
        "from sklearn.metrics import f1_score"
      ]
    },
    {
      "cell_type": "markdown",
      "metadata": {
        "id": "1VijNZrNrd5c"
      },
      "source": [
        "# Data PreProcessing"
      ]
    },
    {
      "cell_type": "code",
      "execution_count": null,
      "metadata": {
        "id": "dEQBDR91rd5d"
      },
      "outputs": [],
      "source": [
        "train = pd.read_csv('Dataset/train.csv')\n",
        "text_train, category_train, stance_train = train['text'], train['category'], train['stance']\n",
        "\n",
        "dev = pd.read_csv('Dataset/dev.csv')\n",
        "text_dev, category_dev, stance_dev = dev['text'], dev['category'], dev['stance']"
      ]
    },
    {
      "cell_type": "code",
      "execution_count": null,
      "metadata": {
        "id": "UMeRhzy8rd5d",
        "outputId": "17ba2293-cfae-4762-bee4-aa2d502b4e78",
        "colab": {
          "base_uri": "https://localhost:8080/",
          "height": 363
        }
      },
      "outputs": [
        {
          "output_type": "execute_result",
          "data": {
            "text/plain": [
              "                                                text   category  stance\n",
              "0  بيل غيتس يتلقى لقاح #كوفيد19 من غير تصوير الاب...  celebrity       1\n",
              "1  وزير الصحة لحد اليوم وتحديدا هلأ بمؤتمروا الصح...  info_news       1\n",
              "2  قولكن  رح يكونو اد المسؤولية ب لبنان لما يوصل ...  info_news       1\n",
              "3  #تركيا.. وزير الصحة فخر الدين قوجة يتلقى أول ج...  celebrity       1\n",
              "4  وئام وهاب يشتم الدول الخليجية في كل طلة اعلامي...   personal       0\n",
              "5  لقاح #كورونا في أميركا.. قلق متزايد من \"التوزي...  info_news       0\n",
              "6  لبنان اشترى مليونان لقاح امريكي اذا شلنا يلي ع...  info_news       1\n",
              "7  من عوارض لقاح كورونا<LF>هو تهكير حسابك عتويتر<...   personal       0\n",
              "8  هناك 1780 مليونيراً في لبنان. ماذا لو فُرضت ال...  unrelated       0\n",
              "9  دعبول حضرتك منو انت وتطلب من قائد دولة إسلامية...  info_news       1"
            ],
            "text/html": [
              "\n",
              "  <div id=\"df-464a29b5-a4b2-4385-91d7-1f6c2fd6ba3b\">\n",
              "    <div class=\"colab-df-container\">\n",
              "      <div>\n",
              "<style scoped>\n",
              "    .dataframe tbody tr th:only-of-type {\n",
              "        vertical-align: middle;\n",
              "    }\n",
              "\n",
              "    .dataframe tbody tr th {\n",
              "        vertical-align: top;\n",
              "    }\n",
              "\n",
              "    .dataframe thead th {\n",
              "        text-align: right;\n",
              "    }\n",
              "</style>\n",
              "<table border=\"1\" class=\"dataframe\">\n",
              "  <thead>\n",
              "    <tr style=\"text-align: right;\">\n",
              "      <th></th>\n",
              "      <th>text</th>\n",
              "      <th>category</th>\n",
              "      <th>stance</th>\n",
              "    </tr>\n",
              "  </thead>\n",
              "  <tbody>\n",
              "    <tr>\n",
              "      <th>0</th>\n",
              "      <td>بيل غيتس يتلقى لقاح #كوفيد19 من غير تصوير الاب...</td>\n",
              "      <td>celebrity</td>\n",
              "      <td>1</td>\n",
              "    </tr>\n",
              "    <tr>\n",
              "      <th>1</th>\n",
              "      <td>وزير الصحة لحد اليوم وتحديدا هلأ بمؤتمروا الصح...</td>\n",
              "      <td>info_news</td>\n",
              "      <td>1</td>\n",
              "    </tr>\n",
              "    <tr>\n",
              "      <th>2</th>\n",
              "      <td>قولكن  رح يكونو اد المسؤولية ب لبنان لما يوصل ...</td>\n",
              "      <td>info_news</td>\n",
              "      <td>1</td>\n",
              "    </tr>\n",
              "    <tr>\n",
              "      <th>3</th>\n",
              "      <td>#تركيا.. وزير الصحة فخر الدين قوجة يتلقى أول ج...</td>\n",
              "      <td>celebrity</td>\n",
              "      <td>1</td>\n",
              "    </tr>\n",
              "    <tr>\n",
              "      <th>4</th>\n",
              "      <td>وئام وهاب يشتم الدول الخليجية في كل طلة اعلامي...</td>\n",
              "      <td>personal</td>\n",
              "      <td>0</td>\n",
              "    </tr>\n",
              "    <tr>\n",
              "      <th>5</th>\n",
              "      <td>لقاح #كورونا في أميركا.. قلق متزايد من \"التوزي...</td>\n",
              "      <td>info_news</td>\n",
              "      <td>0</td>\n",
              "    </tr>\n",
              "    <tr>\n",
              "      <th>6</th>\n",
              "      <td>لبنان اشترى مليونان لقاح امريكي اذا شلنا يلي ع...</td>\n",
              "      <td>info_news</td>\n",
              "      <td>1</td>\n",
              "    </tr>\n",
              "    <tr>\n",
              "      <th>7</th>\n",
              "      <td>من عوارض لقاح كورونا&lt;LF&gt;هو تهكير حسابك عتويتر&lt;...</td>\n",
              "      <td>personal</td>\n",
              "      <td>0</td>\n",
              "    </tr>\n",
              "    <tr>\n",
              "      <th>8</th>\n",
              "      <td>هناك 1780 مليونيراً في لبنان. ماذا لو فُرضت ال...</td>\n",
              "      <td>unrelated</td>\n",
              "      <td>0</td>\n",
              "    </tr>\n",
              "    <tr>\n",
              "      <th>9</th>\n",
              "      <td>دعبول حضرتك منو انت وتطلب من قائد دولة إسلامية...</td>\n",
              "      <td>info_news</td>\n",
              "      <td>1</td>\n",
              "    </tr>\n",
              "  </tbody>\n",
              "</table>\n",
              "</div>\n",
              "      <button class=\"colab-df-convert\" onclick=\"convertToInteractive('df-464a29b5-a4b2-4385-91d7-1f6c2fd6ba3b')\"\n",
              "              title=\"Convert this dataframe to an interactive table.\"\n",
              "              style=\"display:none;\">\n",
              "        \n",
              "  <svg xmlns=\"http://www.w3.org/2000/svg\" height=\"24px\"viewBox=\"0 0 24 24\"\n",
              "       width=\"24px\">\n",
              "    <path d=\"M0 0h24v24H0V0z\" fill=\"none\"/>\n",
              "    <path d=\"M18.56 5.44l.94 2.06.94-2.06 2.06-.94-2.06-.94-.94-2.06-.94 2.06-2.06.94zm-11 1L8.5 8.5l.94-2.06 2.06-.94-2.06-.94L8.5 2.5l-.94 2.06-2.06.94zm10 10l.94 2.06.94-2.06 2.06-.94-2.06-.94-.94-2.06-.94 2.06-2.06.94z\"/><path d=\"M17.41 7.96l-1.37-1.37c-.4-.4-.92-.59-1.43-.59-.52 0-1.04.2-1.43.59L10.3 9.45l-7.72 7.72c-.78.78-.78 2.05 0 2.83L4 21.41c.39.39.9.59 1.41.59.51 0 1.02-.2 1.41-.59l7.78-7.78 2.81-2.81c.8-.78.8-2.07 0-2.86zM5.41 20L4 18.59l7.72-7.72 1.47 1.35L5.41 20z\"/>\n",
              "  </svg>\n",
              "      </button>\n",
              "      \n",
              "  <style>\n",
              "    .colab-df-container {\n",
              "      display:flex;\n",
              "      flex-wrap:wrap;\n",
              "      gap: 12px;\n",
              "    }\n",
              "\n",
              "    .colab-df-convert {\n",
              "      background-color: #E8F0FE;\n",
              "      border: none;\n",
              "      border-radius: 50%;\n",
              "      cursor: pointer;\n",
              "      display: none;\n",
              "      fill: #1967D2;\n",
              "      height: 32px;\n",
              "      padding: 0 0 0 0;\n",
              "      width: 32px;\n",
              "    }\n",
              "\n",
              "    .colab-df-convert:hover {\n",
              "      background-color: #E2EBFA;\n",
              "      box-shadow: 0px 1px 2px rgba(60, 64, 67, 0.3), 0px 1px 3px 1px rgba(60, 64, 67, 0.15);\n",
              "      fill: #174EA6;\n",
              "    }\n",
              "\n",
              "    [theme=dark] .colab-df-convert {\n",
              "      background-color: #3B4455;\n",
              "      fill: #D2E3FC;\n",
              "    }\n",
              "\n",
              "    [theme=dark] .colab-df-convert:hover {\n",
              "      background-color: #434B5C;\n",
              "      box-shadow: 0px 1px 3px 1px rgba(0, 0, 0, 0.15);\n",
              "      filter: drop-shadow(0px 1px 2px rgba(0, 0, 0, 0.3));\n",
              "      fill: #FFFFFF;\n",
              "    }\n",
              "  </style>\n",
              "\n",
              "      <script>\n",
              "        const buttonEl =\n",
              "          document.querySelector('#df-464a29b5-a4b2-4385-91d7-1f6c2fd6ba3b button.colab-df-convert');\n",
              "        buttonEl.style.display =\n",
              "          google.colab.kernel.accessAllowed ? 'block' : 'none';\n",
              "\n",
              "        async function convertToInteractive(key) {\n",
              "          const element = document.querySelector('#df-464a29b5-a4b2-4385-91d7-1f6c2fd6ba3b');\n",
              "          const dataTable =\n",
              "            await google.colab.kernel.invokeFunction('convertToInteractive',\n",
              "                                                     [key], {});\n",
              "          if (!dataTable) return;\n",
              "\n",
              "          const docLinkHtml = 'Like what you see? Visit the ' +\n",
              "            '<a target=\"_blank\" href=https://colab.research.google.com/notebooks/data_table.ipynb>data table notebook</a>'\n",
              "            + ' to learn more about interactive tables.';\n",
              "          element.innerHTML = '';\n",
              "          dataTable['output_type'] = 'display_data';\n",
              "          await google.colab.output.renderOutput(dataTable, element);\n",
              "          const docLink = document.createElement('div');\n",
              "          docLink.innerHTML = docLinkHtml;\n",
              "          element.appendChild(docLink);\n",
              "        }\n",
              "      </script>\n",
              "    </div>\n",
              "  </div>\n",
              "  "
            ]
          },
          "metadata": {},
          "execution_count": 6
        }
      ],
      "source": [
        "train.head(10)"
      ]
    },
    {
      "cell_type": "code",
      "execution_count": null,
      "metadata": {
        "id": "Bpq0eUk-rd5e",
        "outputId": "8ed12b22-7573-4d8d-f8d1-723bb2177449",
        "colab": {
          "base_uri": "https://localhost:8080/",
          "height": 363
        }
      },
      "outputs": [
        {
          "output_type": "execute_result",
          "data": {
            "text/plain": [
              "                                                text   category  stance\n",
              "0  #مريم_رجوي: <LF>حظر خامنئي المجرم شراء #لقاح_ك...  info_news       1\n",
              "1  #الصحة:<LF>•تم إعطاء 259.530 جرعة من لقاح #كور...       plan       1\n",
              "2  #خادم_الحرمين - حفظه الله - يتلقى الجرعة الأول...  celebrity       1\n",
              "3  #الصحه_العالميه: لقاحات #كورونا آمنة ولا خوف م...  info_news       1\n",
              "4  #وزيرة_الصحة \"#هالة_زايد\" تقول إنه يجرى مراجعة...  info_news       1\n",
              "5  2️⃣ وانتهى الفريق من الدراسات قبل السريرية ونش...  info_news       1\n",
              "6  عاجل 🔴 <LF>.<LF><LF>.<LF><LF>وزارة الصحة :<LF>...       plan       1\n",
              "7  #فيديو | السفير الأميركي لدى السعودية بعد تلقي...  info_news       1\n",
              "8  تصريحات وبس الحكومة مع السيسي علي حسب اللقطة! ...  info_news       0\n",
              "9  الاتحاد الاوروبي تفاوض لشراء لقاحات الكورونا م...  info_news       1"
            ],
            "text/html": [
              "\n",
              "  <div id=\"df-264e6547-4023-4276-811b-d06c8a311c3b\">\n",
              "    <div class=\"colab-df-container\">\n",
              "      <div>\n",
              "<style scoped>\n",
              "    .dataframe tbody tr th:only-of-type {\n",
              "        vertical-align: middle;\n",
              "    }\n",
              "\n",
              "    .dataframe tbody tr th {\n",
              "        vertical-align: top;\n",
              "    }\n",
              "\n",
              "    .dataframe thead th {\n",
              "        text-align: right;\n",
              "    }\n",
              "</style>\n",
              "<table border=\"1\" class=\"dataframe\">\n",
              "  <thead>\n",
              "    <tr style=\"text-align: right;\">\n",
              "      <th></th>\n",
              "      <th>text</th>\n",
              "      <th>category</th>\n",
              "      <th>stance</th>\n",
              "    </tr>\n",
              "  </thead>\n",
              "  <tbody>\n",
              "    <tr>\n",
              "      <th>0</th>\n",
              "      <td>#مريم_رجوي: &lt;LF&gt;حظر خامنئي المجرم شراء #لقاح_ك...</td>\n",
              "      <td>info_news</td>\n",
              "      <td>1</td>\n",
              "    </tr>\n",
              "    <tr>\n",
              "      <th>1</th>\n",
              "      <td>#الصحة:&lt;LF&gt;•تم إعطاء 259.530 جرعة من لقاح #كور...</td>\n",
              "      <td>plan</td>\n",
              "      <td>1</td>\n",
              "    </tr>\n",
              "    <tr>\n",
              "      <th>2</th>\n",
              "      <td>#خادم_الحرمين - حفظه الله - يتلقى الجرعة الأول...</td>\n",
              "      <td>celebrity</td>\n",
              "      <td>1</td>\n",
              "    </tr>\n",
              "    <tr>\n",
              "      <th>3</th>\n",
              "      <td>#الصحه_العالميه: لقاحات #كورونا آمنة ولا خوف م...</td>\n",
              "      <td>info_news</td>\n",
              "      <td>1</td>\n",
              "    </tr>\n",
              "    <tr>\n",
              "      <th>4</th>\n",
              "      <td>#وزيرة_الصحة \"#هالة_زايد\" تقول إنه يجرى مراجعة...</td>\n",
              "      <td>info_news</td>\n",
              "      <td>1</td>\n",
              "    </tr>\n",
              "    <tr>\n",
              "      <th>5</th>\n",
              "      <td>2️⃣ وانتهى الفريق من الدراسات قبل السريرية ونش...</td>\n",
              "      <td>info_news</td>\n",
              "      <td>1</td>\n",
              "    </tr>\n",
              "    <tr>\n",
              "      <th>6</th>\n",
              "      <td>عاجل 🔴 &lt;LF&gt;.&lt;LF&gt;&lt;LF&gt;.&lt;LF&gt;&lt;LF&gt;وزارة الصحة :&lt;LF&gt;...</td>\n",
              "      <td>plan</td>\n",
              "      <td>1</td>\n",
              "    </tr>\n",
              "    <tr>\n",
              "      <th>7</th>\n",
              "      <td>#فيديو | السفير الأميركي لدى السعودية بعد تلقي...</td>\n",
              "      <td>info_news</td>\n",
              "      <td>1</td>\n",
              "    </tr>\n",
              "    <tr>\n",
              "      <th>8</th>\n",
              "      <td>تصريحات وبس الحكومة مع السيسي علي حسب اللقطة! ...</td>\n",
              "      <td>info_news</td>\n",
              "      <td>0</td>\n",
              "    </tr>\n",
              "    <tr>\n",
              "      <th>9</th>\n",
              "      <td>الاتحاد الاوروبي تفاوض لشراء لقاحات الكورونا م...</td>\n",
              "      <td>info_news</td>\n",
              "      <td>1</td>\n",
              "    </tr>\n",
              "  </tbody>\n",
              "</table>\n",
              "</div>\n",
              "      <button class=\"colab-df-convert\" onclick=\"convertToInteractive('df-264e6547-4023-4276-811b-d06c8a311c3b')\"\n",
              "              title=\"Convert this dataframe to an interactive table.\"\n",
              "              style=\"display:none;\">\n",
              "        \n",
              "  <svg xmlns=\"http://www.w3.org/2000/svg\" height=\"24px\"viewBox=\"0 0 24 24\"\n",
              "       width=\"24px\">\n",
              "    <path d=\"M0 0h24v24H0V0z\" fill=\"none\"/>\n",
              "    <path d=\"M18.56 5.44l.94 2.06.94-2.06 2.06-.94-2.06-.94-.94-2.06-.94 2.06-2.06.94zm-11 1L8.5 8.5l.94-2.06 2.06-.94-2.06-.94L8.5 2.5l-.94 2.06-2.06.94zm10 10l.94 2.06.94-2.06 2.06-.94-2.06-.94-.94-2.06-.94 2.06-2.06.94z\"/><path d=\"M17.41 7.96l-1.37-1.37c-.4-.4-.92-.59-1.43-.59-.52 0-1.04.2-1.43.59L10.3 9.45l-7.72 7.72c-.78.78-.78 2.05 0 2.83L4 21.41c.39.39.9.59 1.41.59.51 0 1.02-.2 1.41-.59l7.78-7.78 2.81-2.81c.8-.78.8-2.07 0-2.86zM5.41 20L4 18.59l7.72-7.72 1.47 1.35L5.41 20z\"/>\n",
              "  </svg>\n",
              "      </button>\n",
              "      \n",
              "  <style>\n",
              "    .colab-df-container {\n",
              "      display:flex;\n",
              "      flex-wrap:wrap;\n",
              "      gap: 12px;\n",
              "    }\n",
              "\n",
              "    .colab-df-convert {\n",
              "      background-color: #E8F0FE;\n",
              "      border: none;\n",
              "      border-radius: 50%;\n",
              "      cursor: pointer;\n",
              "      display: none;\n",
              "      fill: #1967D2;\n",
              "      height: 32px;\n",
              "      padding: 0 0 0 0;\n",
              "      width: 32px;\n",
              "    }\n",
              "\n",
              "    .colab-df-convert:hover {\n",
              "      background-color: #E2EBFA;\n",
              "      box-shadow: 0px 1px 2px rgba(60, 64, 67, 0.3), 0px 1px 3px 1px rgba(60, 64, 67, 0.15);\n",
              "      fill: #174EA6;\n",
              "    }\n",
              "\n",
              "    [theme=dark] .colab-df-convert {\n",
              "      background-color: #3B4455;\n",
              "      fill: #D2E3FC;\n",
              "    }\n",
              "\n",
              "    [theme=dark] .colab-df-convert:hover {\n",
              "      background-color: #434B5C;\n",
              "      box-shadow: 0px 1px 3px 1px rgba(0, 0, 0, 0.15);\n",
              "      filter: drop-shadow(0px 1px 2px rgba(0, 0, 0, 0.3));\n",
              "      fill: #FFFFFF;\n",
              "    }\n",
              "  </style>\n",
              "\n",
              "      <script>\n",
              "        const buttonEl =\n",
              "          document.querySelector('#df-264e6547-4023-4276-811b-d06c8a311c3b button.colab-df-convert');\n",
              "        buttonEl.style.display =\n",
              "          google.colab.kernel.accessAllowed ? 'block' : 'none';\n",
              "\n",
              "        async function convertToInteractive(key) {\n",
              "          const element = document.querySelector('#df-264e6547-4023-4276-811b-d06c8a311c3b');\n",
              "          const dataTable =\n",
              "            await google.colab.kernel.invokeFunction('convertToInteractive',\n",
              "                                                     [key], {});\n",
              "          if (!dataTable) return;\n",
              "\n",
              "          const docLinkHtml = 'Like what you see? Visit the ' +\n",
              "            '<a target=\"_blank\" href=https://colab.research.google.com/notebooks/data_table.ipynb>data table notebook</a>'\n",
              "            + ' to learn more about interactive tables.';\n",
              "          element.innerHTML = '';\n",
              "          dataTable['output_type'] = 'display_data';\n",
              "          await google.colab.output.renderOutput(dataTable, element);\n",
              "          const docLink = document.createElement('div');\n",
              "          docLink.innerHTML = docLinkHtml;\n",
              "          element.appendChild(docLink);\n",
              "        }\n",
              "      </script>\n",
              "    </div>\n",
              "  </div>\n",
              "  "
            ]
          },
          "metadata": {},
          "execution_count": 7
        }
      ],
      "source": [
        "dev.head(10)"
      ]
    },
    {
      "cell_type": "code",
      "execution_count": null,
      "metadata": {
        "id": "kh3WXuubrd5e",
        "outputId": "c7b9010a-5332-4406-d28c-67e358436295",
        "colab": {
          "base_uri": "https://localhost:8080/"
        }
      },
      "outputs": [
        {
          "output_type": "stream",
          "name": "stdout",
          "text": [
            "(6988,) (6988,) (6988,)\n",
            "(1000,) (1000,) (1000,)\n"
          ]
        }
      ],
      "source": [
        "text_train, category_train, stance_train = np.array(train['text']), np.array(train['category']), np.array(train['stance'])\n",
        "text_dev, category_dev, stance_dev = np.array(dev['text']), np.array(dev['category']), np.array(dev['stance'])\n",
        "\n",
        "print(text_train.shape, category_train.shape, stance_train.shape)\n",
        "print(text_dev.shape, category_dev.shape, stance_dev.shape)"
      ]
    },
    {
      "cell_type": "code",
      "execution_count": null,
      "metadata": {
        "id": "PvBTBwhtrd5e"
      },
      "outputs": [],
      "source": [
        "def clean_str(text):\n",
        "    search = [\"أ\",\"إ\",\"آ\",\"ة\",\"_\",\"-\",\"/\",\".\",\"،\",\" و \",\" يا \",'\"',\"ـ\",\"'\",\"ى\",\"\\\\\",'\\n', '\\t','\"','?','؟','!']\n",
        "    replace = [\"ا\",\"ا\",\"ا\",\"ه\",\" \",\" \",\"\",\"\",\"\",\" و\",\" يا\",\"\",\"\",\"\",\"ي\",\"\",' ', ' ',' ',' ? ',' ؟ ',' ! ']\n",
        "    \n",
        "    #remove tashkeel\n",
        "    p_tashkeel = re.compile(r'[\\u0617-\\u061A\\u064B-\\u0652]')\n",
        "    text = re.sub(p_tashkeel,\"\", text)\n",
        "    \n",
        "    #remove longation\n",
        "    p_longation = re.compile(r'(.)\\1+')\n",
        "    subst = r\"\\1\\1\"\n",
        "    text = re.sub(p_longation, subst, text)\n",
        "    \n",
        "    text = text.replace('وو', 'و')\n",
        "    text = text.replace('يي', 'ي')\n",
        "    text = text.replace('اا', 'ا')\n",
        "    \n",
        "    for i in range(0, len(search)):\n",
        "        text = text.replace(search[i], replace[i])\n",
        "    \n",
        "    #trim    \n",
        "    text = text.strip()\n",
        "\n",
        "    return text\n",
        "\n",
        "def PreProcessing(text, unk='<UNK>'):\n",
        "\n",
        "    # remove links\n",
        "    text = [re.sub(r'https?:\\/\\/.*[\\r\\n]*', '', x, flags=re.MULTILINE) for x in text]\n",
        "\n",
        "    # Clean/Normalize Arabic Text\n",
        "    text = [clean_str(x) for x in text] \n",
        "\n",
        "    # remove emojis\n",
        "    emoji_pattern = re.compile(\"[\"\n",
        "        u\"\\U0001F600-\\U0001F64F\"  # emoticons\n",
        "        u\"\\U0001F300-\\U0001F5FF\"  # symbols & pictographs\n",
        "        u\"\\U0001F680-\\U0001F6FF\"  # transport & map symbols\n",
        "        u\"\\U0001F1E0-\\U0001F1FF\"  # flags (iOS)\n",
        "                           \"]+\", flags=re.UNICODE)\n",
        "    \n",
        "    text = [emoji_pattern.sub(r'', x) for x in text] # no emoji\n",
        "\n",
        "    # remove english words\n",
        "    text = [re.sub(r'\\s*[A-Za-z]+\\b', '' , x) for x in text]\n",
        "\n",
        "    # tokenize\n",
        "    text = [nltk.tokenize.word_tokenize(x) for x in text]\n",
        "\n",
        "    # # remove stop-words\n",
        "    # stopwords = set(nltk.corpus.stopwords.words(\"arabic\"))\n",
        "\n",
        "    # for i in range(len(text)):\n",
        "    #     text[i] = [word for word in text[i] if word not in stopwords]\n",
        "\n",
        "    for i in range(len(text)):\n",
        "      text[i] = [word for word in text[i] if len(word)>2]\n",
        "\n",
        "    \n",
        "    for i in range(len(text)):\n",
        "      if len(text[i])==0:\n",
        "        text[i] = unk\n",
        "\n",
        "    return text"
      ]
    },
    {
      "cell_type": "code",
      "execution_count": null,
      "metadata": {
        "id": "LDLCPKlErd5f",
        "outputId": "eea3f615-3111-4ed1-b183-3a0fc8cb2fc6",
        "colab": {
          "base_uri": "https://localhost:8080/"
        }
      },
      "outputs": [
        {
          "output_type": "stream",
          "name": "stdout",
          "text": [
            "بيل غيتس يتلقى لقاح #كوفيد19 من غير تصوير الابرة و لا السيرنجة و لا الدواء و لابس بولو صيفي في عز الشتاء و يقول ان إحدى مزايا عمر ال 65 عامًا هي انه مؤهل للحصول على اللقاح ... يعنى ما كان يحتاج اللقاح لو كان عمره اصغر من 65 🤔 https://t.co/QQKFFUNwBn\n",
            "#مريم_رجوي: <LF>حظر خامنئي المجرم شراء #لقاح_كورونا يعد مجزرة متعمدة بحق الشعب الإيراني<LF><LF>نقل موقع مريم رجوي موقف رئيسة الجمهورية المنتخبة للمقاومة الإيرانية من تصريحات خامنئي المجرم حول حظر استيراد لقاح كورونا من الولايات المتحدة و بريطانيا و فرنسا. <LF>#اللقاح_حق_للناس https://t.co/AYXMbXjVKn\n",
            "['بيل', 'غيتس', 'يتلقي', 'لقاح', 'كوفيد19', 'غير', 'تصوير', 'الابره', 'ولا', 'السيرنجه', 'ولا', 'الدواء', 'ولابس', 'بولو', 'صيفي', 'الشتاء', 'ويقول', 'احدي', 'مزايا', 'عمر', 'عاما', 'انه', 'مؤهل', 'للحصول', 'علي', 'اللقاح', 'يعني', 'كان', 'يحتاج', 'اللقاح', 'كان', 'عمره', 'اصغر']\n",
            "['مريم', 'رجوي', 'حظر', 'خامنئي', 'المجرم', 'شراء', 'لقاح', 'كورونا', 'يعد', 'مجزره', 'متعمده', 'بحق', 'الشعب', 'الايراني', 'نقل', 'موقع', 'مريم', 'رجوي', 'موقف', 'رئيسه', 'الجمهوريه', 'المنتخبه', 'للمقاومه', 'الايرانيه', 'تصريحات', 'خامنئي', 'المجرم', 'حول', 'حظر', 'استيراد', 'لقاح', 'كورونا', 'الولايات', 'المتحده', 'وبريطانيا', 'وفرنسا', 'اللقاح', 'للناس']\n"
          ]
        }
      ],
      "source": [
        "# print(max(text_train, key=len))\n",
        "print(text_train[0])\n",
        "print(text_dev[0])\n",
        "text_train = PreProcessing(text_train)\n",
        "text_dev = PreProcessing(text_dev)\n",
        "print(text_train[0])\n",
        "print(text_dev[0])"
      ]
    },
    {
      "cell_type": "code",
      "execution_count": null,
      "metadata": {
        "id": "Ld8pW0r2rd5f",
        "outputId": "6c6bae53-3af1-4ac7-d9b3-b1292ef887d0",
        "colab": {
          "base_uri": "https://localhost:8080/"
        }
      },
      "outputs": [
        {
          "output_type": "stream",
          "name": "stdout",
          "text": [
            "['بيل', 'غيتس', 'يتلقي', 'لقاح', 'كوفيد19', 'غير', 'تصوير', 'الابره', 'ولا', 'السيرنجه', 'ولا', 'الدواء', 'ولابس', 'بولو', 'صيفي', 'الشتاء', 'ويقول', 'احدي', 'مزايا', 'عمر', 'عاما', 'انه', 'مؤهل', 'للحصول', 'علي', 'اللقاح', 'يعني', 'كان', 'يحتاج', 'اللقاح', 'كان', 'عمره', 'اصغر']\n"
          ]
        }
      ],
      "source": [
        "with open('processed_train.txt','w', encoding='utf8') as f:\n",
        "\tfor i in text_train:\n",
        "\t\tf.write('%s\\n'%i)\n",
        "print(text_train[0])"
      ]
    },
    {
      "cell_type": "code",
      "source": [
        "!pip install gensim nltk\n",
        "import gensim\n",
        "from gensim.models import word2vec\n",
        "\n",
        "t_model = gensim.models.Word2Vec.load('./Downloads/full_uni_cbow_300_twitter.mdl')"
      ],
      "metadata": {
        "id": "voMeahEZ1NZV",
        "colab": {
          "base_uri": "https://localhost:8080/"
        },
        "outputId": "4eb489b0-4be2-4efe-b515-619c29d5f6d2"
      },
      "execution_count": null,
      "outputs": [
        {
          "output_type": "stream",
          "name": "stdout",
          "text": [
            "Looking in indexes: https://pypi.org/simple, https://us-python.pkg.dev/colab-wheels/public/simple/\n",
            "Requirement already satisfied: gensim in /usr/local/lib/python3.8/dist-packages (3.6.0)\n",
            "Requirement already satisfied: nltk in /usr/local/lib/python3.8/dist-packages (3.7)\n",
            "Requirement already satisfied: six>=1.5.0 in /usr/local/lib/python3.8/dist-packages (from gensim) (1.15.0)\n",
            "Requirement already satisfied: smart-open>=1.2.1 in /usr/local/lib/python3.8/dist-packages (from gensim) (6.3.0)\n",
            "Requirement already satisfied: numpy>=1.11.3 in /usr/local/lib/python3.8/dist-packages (from gensim) (1.21.6)\n",
            "Requirement already satisfied: scipy>=0.18.1 in /usr/local/lib/python3.8/dist-packages (from gensim) (1.7.3)\n",
            "Requirement already satisfied: tqdm in /usr/local/lib/python3.8/dist-packages (from nltk) (4.64.1)\n",
            "Requirement already satisfied: regex>=2021.8.3 in /usr/local/lib/python3.8/dist-packages (from nltk) (2022.6.2)\n",
            "Requirement already satisfied: click in /usr/local/lib/python3.8/dist-packages (from nltk) (7.1.2)\n",
            "Requirement already satisfied: joblib in /usr/local/lib/python3.8/dist-packages (from nltk) (1.2.0)\n"
          ]
        }
      ]
    },
    {
      "cell_type": "code",
      "source": [
        "\n",
        "# token = 'الحق'\n",
        "# most_similar = t_model.wv.most_similar( token, topn=10 )\n",
        "# for term, score in most_similar:\n",
        "#     print(term, score)\n",
        "\n",
        "# word_vector = t_model.wv[token]\n",
        "# print(len(word_vector),word_vector)\n",
        "# print(len(t_model.wv.index2word))\n",
        "# print(t_model.wv.index2word[0])"
      ],
      "metadata": {
        "id": "9sr0cCu3FIYm"
      },
      "execution_count": null,
      "outputs": []
    },
    {
      "cell_type": "code",
      "source": [
        "def BuildVocab(pad='<PAD>', unk='<UNK>'):\n",
        "\n",
        "    vocab = [word for word in t_model.wv.index2word]\n",
        "    vocab = [pad, unk] + vocab\n",
        "\n",
        "    id2word = {i: word for i, word in enumerate(vocab)}\n",
        "    word2id = {word: i for i, word in id2word.items()}\n",
        "    vocab_size = len(vocab)\n",
        "\n",
        "    return vocab_size, vocab, id2word, word2id    "
      ],
      "metadata": {
        "id": "CaRmYInYaXzw"
      },
      "execution_count": null,
      "outputs": []
    },
    {
      "cell_type": "code",
      "source": [
        "vocab_size, vocab, id2word, word2id = BuildVocab()\n",
        "print(vocab_size)"
      ],
      "metadata": {
        "colab": {
          "base_uri": "https://localhost:8080/"
        },
        "id": "ACTDBbQyc4oa",
        "outputId": "a0967e71-a55a-4443-a4d0-96e8d165d39b"
      },
      "execution_count": null,
      "outputs": [
        {
          "output_type": "stream",
          "name": "stdout",
          "text": [
            "1259758\n"
          ]
        }
      ]
    },
    {
      "cell_type": "code",
      "source": [
        "def BuildingEmbeddingMatrix():\n",
        "  matrix_len = vocab_size\n",
        "  emb_dim = 300\n",
        "\n",
        "  emb_matrix = np.zeros((matrix_len, emb_dim))\n",
        "\n",
        "  for i, word in enumerate(vocab):\n",
        "      try: \n",
        "          emb_matrix[i] = t_model.wv[word]\n",
        "      except KeyError:\n",
        "          emb_matrix[i] = np.random.normal(scale=0.6, size=(emb_dim, ))\n",
        "  \n",
        "  return emb_matrix"
      ],
      "metadata": {
        "id": "KXKlQZa6YWs_"
      },
      "execution_count": null,
      "outputs": []
    },
    {
      "cell_type": "code",
      "source": [
        "emb_matrix = BuildingEmbeddingMatrix()\n",
        "emb_matrix = torch.from_numpy(emb_matrix)\n",
        "# print(len(emb_matrix[0]))"
      ],
      "metadata": {
        "id": "pu4moegJeQZg"
      },
      "execution_count": null,
      "outputs": []
    },
    {
      "cell_type": "code",
      "source": [
        "import gc\n",
        "del t_model\n",
        "gc.collect()"
      ],
      "metadata": {
        "colab": {
          "base_uri": "https://localhost:8080/"
        },
        "id": "acffqlMAyJo_",
        "outputId": "3b874ee3-c5c4-432e-c4ce-973771b5121b"
      },
      "execution_count": null,
      "outputs": [
        {
          "output_type": "execute_result",
          "data": {
            "text/plain": [
              "11"
            ]
          },
          "metadata": {},
          "execution_count": 18
        }
      ]
    },
    {
      "cell_type": "code",
      "execution_count": null,
      "metadata": {
        "id": "Fx9vfUb-rd5g",
        "outputId": "ff491e43-4e72-47a3-d9ca-481e1bfecf0b",
        "colab": {
          "base_uri": "https://localhost:8080/"
        }
      },
      "outputs": [
        {
          "output_type": "stream",
          "name": "stdout",
          "text": [
            "{'advice', 'info_news', 'rumors', 'plan', 'personal', 'others', 'restrictions', 'unrelated', 'requests', 'celebrity'}\n",
            "9\n"
          ]
        }
      ],
      "source": [
        "categories = set(category_train)\n",
        "print(categories)\n",
        "category2id = {word:i for i, word in enumerate(list(categories))}\n",
        "print(category2id['celebrity'])"
      ]
    },
    {
      "cell_type": "markdown",
      "metadata": {
        "id": "JkC59A38rd5g"
      },
      "source": [
        "# Model Building"
      ]
    },
    {
      "cell_type": "markdown",
      "metadata": {
        "id": "80sBLdC-rd5g"
      },
      "source": [
        "## LSTM"
      ]
    },
    {
      "cell_type": "markdown",
      "metadata": {
        "id": "q_nWgk6hrd5g"
      },
      "source": [
        "### Ideas to try\n",
        "1) bi-directional\n",
        "2) pre-training\n",
        "3) multi-layers\n",
        "4) BERT\n",
        "5) transformers notebook\n",
        "6) packed_padded_sequences\n",
        "7) pre-trained embedding"
      ]
    },
    {
      "cell_type": "markdown",
      "metadata": {
        "id": "lRfuLFcArd5h"
      },
      "source": [
        "### Building Model"
      ]
    },
    {
      "cell_type": "code",
      "execution_count": null,
      "metadata": {
        "id": "DwS45gP9rd5h"
      },
      "outputs": [],
      "source": [
        "class Dataset(torch.utils.data.Dataset):\n",
        "\n",
        "  def __init__(self, x, y, pad='<PAD>', unk='<UNK>', word2id=word2id):\n",
        "\n",
        "    x = x.copy()\n",
        "\n",
        "    # src lengths to be used in pack padded\n",
        "    self.seq_lengths = torch.LongTensor(list(map(len, x)))\n",
        "\n",
        "    # print(x[0], self.seq_lengths[0])\n",
        "\n",
        "    for i in range(len(x)):\n",
        "      x[i] = [word2id[word] if word in word2id else word2id[unk] for word in x[i]]\n",
        "    \n",
        "    # print(x[0])\n",
        "\n",
        "    self.X = torch.nn.utils.rnn.pad_sequence([torch.tensor(sentence) for sentence in x], batch_first=True, padding_value=word2id[pad])\n",
        "\n",
        "    print(self.X[0])\n",
        "\n",
        "    # sort sequeces decreasing in size\n",
        "    self.seq_lengths, perm_idx = self.seq_lengths.sort(0, descending=True)\n",
        "    self.X = self.X[perm_idx]\n",
        "\n",
        "\n",
        "    print(self.X.shape)\n",
        "\n",
        "    print(min(self.seq_lengths))\n",
        "    \n",
        "    self.Y = torch.tensor(y)\n",
        "    self.len = len(x)\n",
        "    self.pad = pad\n",
        "\n",
        "  def __len__(self):\n",
        "    return self.len\n",
        "\n",
        "  def __getitem__(self, idx):\n",
        "    return self.X[idx], self.Y[idx], self.seq_lengths[idx]"
      ]
    },
    {
      "cell_type": "code",
      "execution_count": null,
      "metadata": {
        "id": "gPb16UsPrd5h",
        "colab": {
          "base_uri": "https://localhost:8080/"
        },
        "outputId": "db2e7b43-5da4-4b02-bc9c-08c14d672cac"
      },
      "outputs": [
        {
          "output_type": "stream",
          "name": "stdout",
          "text": [
            "tensor([ 9280, 40161, 16060, 43868,     1,   113,  3557, 32246,    23,     1,\n",
            "           23, 10460, 39927, 74361, 17413,  2353,  2362,  3345, 25753,   554,\n",
            "         3283,    98, 38562, 10166,    11, 92234,   141,    42,  1872, 92234,\n",
            "           42,  1624,  4666,     0,     0,     0,     0,     0,     0,     0,\n",
            "            0,     0,     0,     0,     0,     0,     0,     0,     0,     0,\n",
            "            0,     0,     0,     0,     0,     0,     0,     0,     0,     0,\n",
            "            0,     0,     0,     0,     0,     0,     0,     0,     0,     0,\n",
            "            0,     0,     0,     0,     0,     0,     0,     0,     0,     0,\n",
            "            0,     0,     0,     0,     0,     0,     0,     0,     0,     0,\n",
            "            0,     0,     0,     0,     0,     0,     0,     0,     0,     0,\n",
            "            0,     0,     0,     0,     0,     0])\n",
            "torch.Size([6988, 106])\n",
            "tensor(2)\n",
            "tensor([ 9280, 40161, 16060, 43868,     1,   113,  3557, 32246,    23,     1,\n",
            "           23, 10460, 39927, 74361, 17413,  2353,  2362,  3345, 25753,   554,\n",
            "         3283,    98, 38562, 10166,    11, 92234,   141,    42,  1872, 92234,\n",
            "           42,  1624,  4666,     0,     0,     0,     0,     0,     0,     0,\n",
            "            0,     0,     0,     0,     0,     0,     0,     0,     0,     0,\n",
            "            0,     0,     0,     0,     0,     0,     0,     0,     0,     0,\n",
            "            0,     0,     0,     0,     0,     0,     0,     0,     0,     0,\n",
            "            0,     0,     0,     0,     0,     0,     0,     0,     0,     0,\n",
            "            0,     0,     0,     0,     0,     0,     0,     0,     0,     0,\n",
            "            0,     0,     0,     0,     0,     0,     0,     0,     0,     0,\n",
            "            0,     0,     0,     0,     0,     0])\n",
            "torch.Size([6988, 106])\n",
            "tensor(2)\n",
            "tensor([ 1152, 17492,  6484, 16525,  8625,  5980, 43868, 21509,  2731,  8653,\n",
            "        68615,  1849,   416,  3259,  3411,   855,  1152, 17492,  2094, 13655,\n",
            "         6095, 18610, 22974,  5646,  7673, 16525,  8625,   289,  6484, 31782,\n",
            "        43868, 21509,  5787,  2199, 38107, 25588, 92234,   310,     0,     0,\n",
            "            0,     0,     0,     0,     0,     0])\n",
            "torch.Size([1000, 46])\n",
            "tensor(2)\n",
            "tensor([ 1152, 17492,  6484, 16525,  8625,  5980, 43868, 21509,  2731,  8653,\n",
            "        68615,  1849,   416,  3259,  3411,   855,  1152, 17492,  2094, 13655,\n",
            "         6095, 18610, 22974,  5646,  7673, 16525,  8625,   289,  6484, 31782,\n",
            "        43868, 21509,  5787,  2199, 38107, 25588, 92234,   310,     0,     0,\n",
            "            0,     0,     0,     0,     0,     0])\n",
            "torch.Size([1000, 46])\n",
            "tensor(2)\n"
          ]
        }
      ],
      "source": [
        "stance_train_dataset = Dataset(text_train, stance_train + 1)\n",
        "category_train_dataset = Dataset(text_train, [category2id[category] for category in category_train])\n",
        "\n",
        "stance_dev_dataset = Dataset(text_dev, stance_dev + 1)\n",
        "category_dev_dataset = Dataset(text_dev, [category2id[category] for category in category_dev])"
      ]
    },
    {
      "cell_type": "code",
      "execution_count": null,
      "metadata": {
        "id": "L42QcTDDrd5h"
      },
      "outputs": [],
      "source": [
        "def create_emb_layer(emb_matrix, non_trainable=False):\n",
        "    num_embeddings, embedding_dim = emb_matrix.shape\n",
        "    emb_layer = nn.Embedding(num_embeddings, embedding_dim)\n",
        "    emb_layer.load_state_dict({'weight': emb_matrix})\n",
        "    \n",
        "    if non_trainable:\n",
        "        emb_layer.weight.requires_grad = False\n",
        "\n",
        "    return emb_layer, num_embeddings, embedding_dim\n",
        "\n",
        "class LSTM(nn.Module):\n",
        "    def __init__(self, input_dim, emb_dim, hid_dim, output_dim, dropout):\n",
        "        super().__init__()\n",
        "\n",
        "        self.hid_dim = hid_dim\n",
        "        self.output_dim = output_dim\n",
        "\n",
        "        self.embedding, num_embeddings, embedding_dim = create_emb_layer(emb_matrix, True)\n",
        "        self.lstm = nn.LSTM(emb_dim, hid_dim, dropout=dropout)\n",
        "\n",
        "        self.fc_out = nn.Linear(hid_dim, output_dim)\n",
        "\n",
        "        self.dropout = nn.Dropout(dropout)\n",
        "\n",
        "    def forward(self, src, src_len):\n",
        "        #src = [src len, batch size]\n",
        "        \n",
        "        embedded = self.embedding(src)\n",
        "        embedded = self.dropout(embedded)\n",
        "        #embedded = [src len, batch size, emb dim]\n",
        "\n",
        "        packed_embedded =  torch.nn.utils.rnn.pack_padded_sequence(embedded, src_len.cpu().numpy(), batch_first=False)\n",
        "\n",
        "        outputs, (hidden, cell) = self.lstm(packed_embedded)\n",
        "        #outputs = [src len, batch size, hid dim]\n",
        "        #hidden = [n layers * n directions, batch size, hid dim]\n",
        "        #cell = [n layers * n directions, batch size, hid dim]\n",
        "        #outputs are always from the top hidden layer\n",
        "\n",
        "        prediction = self.fc_out(hidden)\n",
        "        #prediction = [1, batch size, output dim]\n",
        "\n",
        "        prediction = prediction.squeeze(0)\n",
        "        #prediction = [batch size, output dim]\n",
        "\n",
        "        return prediction        "
      ]
    },
    {
      "cell_type": "code",
      "execution_count": null,
      "metadata": {
        "id": "I6IVDLwErd5i"
      },
      "outputs": [],
      "source": [
        "device = torch.device('cuda' if torch.cuda.is_available() else 'cpu')"
      ]
    },
    {
      "cell_type": "markdown",
      "metadata": {
        "id": "3TDwiyZ1rd5i"
      },
      "source": [
        "### Training"
      ]
    },
    {
      "cell_type": "code",
      "execution_count": null,
      "metadata": {
        "id": "36jndiE0rd5i"
      },
      "outputs": [],
      "source": [
        "def train(model, train_dataset, train_dataloader, optimizer, criterion, clip):\n",
        "    \n",
        "    model.train()\n",
        "        \n",
        "    total_acc_train = 0.0\n",
        "    total_loss_train = 0.0\n",
        "\n",
        "    for train_input, train_label, src_len in tqdm(train_dataloader):\n",
        "\n",
        "        train_input = train_input.to(device).permute(1, 0)\n",
        "        # print(train_input.shape)\n",
        "        train_label = train_label.to(device)\n",
        "\n",
        "        output = model(train_input, src_len)\n",
        "        # print(output.shape, train_label.shape)\n",
        "        \n",
        "        output_dim = output.shape[-1]\n",
        "        output = output.view(-1, output_dim)\n",
        "        train_label = train_label.view(-1)\n",
        "\n",
        "        batch_loss = criterion(output, train_label)\n",
        "\n",
        "        total_loss_train += batch_loss\n",
        "        \n",
        "        acc = torch.sum(torch.argmax(output, -1) == train_label) \n",
        "        total_acc_train += acc\n",
        "\n",
        "        optimizer.zero_grad()\n",
        "\n",
        "        batch_loss.backward()\n",
        "\n",
        "        # torch.nn.utils.clip_grad_norm_(model.parameters(), clip)\n",
        "        \n",
        "        optimizer.step()\n",
        "\n",
        "    # calculate loss    \n",
        "    epoch_loss = total_loss_train / len(train_dataset)\n",
        "    \n",
        "    # calculate accuracy\n",
        "    epoch_acc = total_acc_train / len(train_dataset)\n",
        "\n",
        "    # calculate f1 score\n",
        "    train_input, train_label, src_len = train_dataset[:]\n",
        "    train_input = train_input.to(device).permute(1, 0)\n",
        "    train_label = train_label.to(device)\n",
        "    output = model(train_input, src_len)\n",
        "\n",
        "    output_dim = output.shape[-1]\n",
        "    output = output.view(-1, output_dim)\n",
        "    train_label = train_label.view(-1)\n",
        "    y_true, y_pred = train_label, torch.argmax(output, -1)\n",
        "\n",
        "    f1_macro = f1_score(y_true.cpu(), y_pred.cpu(), average='macro')\n",
        "\n",
        "    return epoch_loss, epoch_acc, f1_macro"
      ]
    },
    {
      "cell_type": "code",
      "execution_count": null,
      "metadata": {
        "id": "MJ6lazqerd5i"
      },
      "outputs": [],
      "source": [
        "def evaluate(model, test_dataset, test_dataloader, criterion):\n",
        "\n",
        "  model.eval()\n",
        "\n",
        "  total_acc_test = 0.0\n",
        "  total_loss_test = 0.0\n",
        "  \n",
        "  with torch.no_grad():\n",
        "\n",
        "    for test_input, test_label, src_len in tqdm(test_dataloader):\n",
        "\n",
        "      test_input = test_input.to(device).permute(1, 0)\n",
        "      test_label = test_label.to(device)\n",
        "\n",
        "\n",
        "      output = model(test_input, src_len)\n",
        "\n",
        "      batch_loss = criterion(output.view(-1, model.output_dim), test_label.view(-1))\n",
        "\n",
        "      total_loss_test += batch_loss\n",
        "\n",
        "      acc = torch.sum(torch.argmax(output, -1)==test_label)\n",
        "      total_acc_test += acc\n",
        "\n",
        "    # calculate loss\n",
        "    total_loss_test /= len(test_dataset)\n",
        "\n",
        "    # calculate accuracy\n",
        "    total_acc_test /= len(test_dataset)\n",
        "\n",
        "    # calculate f1 score\n",
        "    test_input, test_label, src_len = test_dataset[:]\n",
        "    test_input = test_input.to(device).permute(1, 0)\n",
        "    test_label = test_label.to(device)\n",
        "    output = model(test_input, src_len)\n",
        "\n",
        "    output_dim = output.shape[-1]\n",
        "    output = output.view(-1, output_dim)\n",
        "    test_label = test_label.view(-1)\n",
        "    y_true, y_pred = test_label, torch.argmax(output, -1)\n",
        "\n",
        "    f1_macro = f1_score(y_true.cpu(), y_pred.cpu(), average='macro')\n",
        "  \n",
        "  return total_loss_test, total_acc_test, f1_macro"
      ]
    },
    {
      "cell_type": "code",
      "execution_count": null,
      "metadata": {
        "id": "vYqgoxmird5j"
      },
      "outputs": [],
      "source": [
        "def train_evaluate(model, train_dataset, dev_dataset, model_name, batch_size=512, epochs=20, learning_rate=0.01, clip=1):\n",
        "\n",
        "  train_dataloader = torch.utils.data.DataLoader(train_dataset, batch_size=batch_size)\n",
        "\n",
        "  dev_dataloader = torch.utils.data.DataLoader(dev_dataset, batch_size=batch_size)\n",
        "\n",
        "  # criterion = nn.CrossEntropyLoss(ignore_index = TRG_PAD_IDX)\n",
        "  criterion = nn.CrossEntropyLoss()\n",
        "\n",
        "  optimizer = torch.optim.Adam(model.parameters(), lr=learning_rate)\n",
        "\n",
        "  use_cuda = torch.cuda.is_available()\n",
        "  device = torch.device(\"cuda\" if use_cuda else \"cpu\")\n",
        "  \n",
        "  model = model.to(device)\n",
        "  criterion = criterion.to(device)\n",
        "\n",
        "  best_f1_macro = 0\n",
        "\n",
        "  for epoch_num in range(epochs):\n",
        "\n",
        "    epoch_loss, epoch_acc, train_f1_macro = train(model, train_dataset, train_dataloader, optimizer, criterion, clip)\n",
        "    dev_loss, dev_acc, dev_f1_macro = evaluate(model, dev_dataset, dev_dataloader, criterion)\n",
        "\n",
        "    if dev_f1_macro > best_f1_macro:\n",
        "      best_f1_macro = dev_f1_macro\n",
        "      torch.save(model.state_dict(), 'best_'+model_name+'.pt')\n",
        "\n",
        "    print(f'Train = Epochs: {epoch_num + 1} | Loss: {epoch_loss} | Accuracy: {epoch_acc} | f1_macro : {train_f1_macro}')\n",
        "    print(f'Dev = Epochs: {epoch_num + 1} | Loss: {dev_loss} | Accuracy: {dev_acc} | f1_macro : {dev_f1_macro}')    \n",
        "\n",
        "  model.load_state_dict(torch.load('best_'+model_name+'.pt'))\n",
        "\n",
        "  dev_loss, dev_acc, dev_f1_macro = evaluate(model, dev_dataset, dev_dataloader, criterion)\n",
        "\n",
        "  print(f'Best Dev = Loss: {dev_loss} | Accuracy: {dev_acc} | f1_macro : {dev_f1_macro}')"
      ]
    },
    {
      "cell_type": "code",
      "execution_count": null,
      "metadata": {
        "id": "8aoD3ZRurd5j",
        "outputId": "adfc3734-0cc7-465f-d1d8-58dfd8294a69",
        "colab": {
          "base_uri": "https://localhost:8080/"
        }
      },
      "outputs": [
        {
          "output_type": "stream",
          "name": "stderr",
          "text": [
            "/usr/local/lib/python3.8/dist-packages/torch/nn/modules/rnn.py:67: UserWarning: dropout option adds dropout after all but last recurrent layer, so non-zero dropout expects num_layers greater than 1, but got dropout=0.5 and num_layers=1\n",
            "  warnings.warn(\"dropout option adds dropout after all but last \"\n"
          ]
        },
        {
          "output_type": "stream",
          "name": "stdout",
          "text": [
            "The model has 1,668,611 trainable parameters\n"
          ]
        }
      ],
      "source": [
        "INPUT_DIM = vocab_size\n",
        "OUTPUT_DIM = 3\n",
        "EMB_DIM = 300 #256\n",
        "HID_DIM = 512 #512\n",
        "DROPOUT = 0.5\n",
        "\n",
        "emb_matrix.to(device)\n",
        "stance_model = LSTM(INPUT_DIM, EMB_DIM, HID_DIM, OUTPUT_DIM, DROPOUT).to(device)\n",
        "\n",
        "def init_weights(m):\n",
        "    for name, param in m.named_parameters():\n",
        "        nn.init.uniform_(param.data, -0.08, 0.08)\n",
        "        \n",
        "# stance_model.apply(init_weights)\n",
        "\n",
        "def count_parameters(model):\n",
        "    return sum(p.numel() for p in model.parameters() if p.requires_grad)\n",
        "\n",
        "print(f'The model has {count_parameters(stance_model):,} trainable parameters')"
      ]
    },
    {
      "cell_type": "code",
      "execution_count": null,
      "metadata": {
        "id": "7jSm5kHWrd5j",
        "outputId": "4cbbb616-80a1-4b8f-b02a-b76d4beffa80",
        "colab": {
          "base_uri": "https://localhost:8080/"
        }
      },
      "outputs": [
        {
          "output_type": "stream",
          "name": "stderr",
          "text": [
            "100%|██████████| 14/14 [00:01<00:00,  8.22it/s]\n",
            "100%|██████████| 2/2 [00:00<00:00, 87.39it/s]\n"
          ]
        },
        {
          "output_type": "stream",
          "name": "stdout",
          "text": [
            "Train = Epochs: 1 | Loss: 0.0016761963488534093 | Accuracy: 0.6881797313690186 | f1_macro : 0.2979401174261628\n",
            "Dev = Epochs: 1 | Loss: 0.0012787414016202092 | Accuracy: 0.8040000200271606 | f1_macro : 0.29711751662971175\n"
          ]
        },
        {
          "output_type": "stream",
          "name": "stderr",
          "text": [
            "100%|██████████| 14/14 [00:00<00:00, 26.62it/s]\n",
            "100%|██████████| 2/2 [00:00<00:00, 98.91it/s]\n"
          ]
        },
        {
          "output_type": "stream",
          "name": "stdout",
          "text": [
            "Train = Epochs: 2 | Loss: 0.0012971303658559918 | Accuracy: 0.7900686860084534 | f1_macro : 0.3032155483821168\n",
            "Dev = Epochs: 2 | Loss: 0.0012713299365714192 | Accuracy: 0.8040000200271606 | f1_macro : 0.29711751662971175\n"
          ]
        },
        {
          "output_type": "stream",
          "name": "stderr",
          "text": [
            "100%|██████████| 14/14 [00:00<00:00, 30.84it/s]\n",
            "100%|██████████| 2/2 [00:00<00:00, 87.66it/s]\n"
          ]
        },
        {
          "output_type": "stream",
          "name": "stdout",
          "text": [
            "Train = Epochs: 3 | Loss: 0.0012468205532059073 | Accuracy: 0.7925013899803162 | f1_macro : 0.3191647215944832\n",
            "Dev = Epochs: 3 | Loss: 0.0012946464121341705 | Accuracy: 0.8030000329017639 | f1_macro : 0.2969125531521538\n"
          ]
        },
        {
          "output_type": "stream",
          "name": "stderr",
          "text": [
            "100%|██████████| 14/14 [00:00<00:00, 30.56it/s]\n",
            "100%|██████████| 2/2 [00:00<00:00, 97.62it/s]\n"
          ]
        },
        {
          "output_type": "stream",
          "name": "stdout",
          "text": [
            "Train = Epochs: 4 | Loss: 0.001213718089275062 | Accuracy: 0.7946479320526123 | f1_macro : 0.3212042924152704\n",
            "Dev = Epochs: 4 | Loss: 0.001312458305619657 | Accuracy: 0.8040000200271606 | f1_macro : 0.29711751662971175\n"
          ]
        },
        {
          "output_type": "stream",
          "name": "stderr",
          "text": [
            "100%|██████████| 14/14 [00:00<00:00, 30.77it/s]\n",
            "100%|██████████| 2/2 [00:00<00:00, 88.92it/s]\n"
          ]
        },
        {
          "output_type": "stream",
          "name": "stdout",
          "text": [
            "Train = Epochs: 5 | Loss: 0.0011689293896779418 | Accuracy: 0.7985116839408875 | f1_macro : 0.3490400010046384\n",
            "Dev = Epochs: 5 | Loss: 0.0013499411288648844 | Accuracy: 0.8040000200271606 | f1_macro : 0.3073729543496985\n"
          ]
        },
        {
          "output_type": "stream",
          "name": "stderr",
          "text": [
            "100%|██████████| 14/14 [00:00<00:00, 26.40it/s]\n",
            "100%|██████████| 2/2 [00:00<00:00, 88.79it/s]\n"
          ]
        },
        {
          "output_type": "stream",
          "name": "stdout",
          "text": [
            "Train = Epochs: 6 | Loss: 0.001135959173552692 | Accuracy: 0.8000858426094055 | f1_macro : 0.38407876780404654\n",
            "Dev = Epochs: 6 | Loss: 0.0013651772169396281 | Accuracy: 0.800000011920929 | f1_macro : 0.3063919255115977\n"
          ]
        },
        {
          "output_type": "stream",
          "name": "stderr",
          "text": [
            "100%|██████████| 14/14 [00:00<00:00, 30.97it/s]\n",
            "100%|██████████| 2/2 [00:00<00:00, 90.53it/s]\n"
          ]
        },
        {
          "output_type": "stream",
          "name": "stdout",
          "text": [
            "Train = Epochs: 7 | Loss: 0.0010960103245452046 | Accuracy: 0.8050944209098816 | f1_macro : 0.40681974278664423\n",
            "Dev = Epochs: 7 | Loss: 0.0013972677988931537 | Accuracy: 0.800000011920929 | f1_macro : 0.3112100205921717\n"
          ]
        },
        {
          "output_type": "stream",
          "name": "stderr",
          "text": [
            "100%|██████████| 14/14 [00:00<00:00, 26.65it/s]\n",
            "100%|██████████| 2/2 [00:00<00:00, 88.10it/s]\n"
          ]
        },
        {
          "output_type": "stream",
          "name": "stdout",
          "text": [
            "Train = Epochs: 8 | Loss: 0.0010619156528264284 | Accuracy: 0.8096737265586853 | f1_macro : 0.4487416658943208\n",
            "Dev = Epochs: 8 | Loss: 0.0014468637527897954 | Accuracy: 0.7950000166893005 | f1_macro : 0.3144724556489263\n"
          ]
        },
        {
          "output_type": "stream",
          "name": "stderr",
          "text": [
            "100%|██████████| 14/14 [00:00<00:00, 26.96it/s]\n",
            "100%|██████████| 2/2 [00:00<00:00, 84.24it/s]\n"
          ]
        },
        {
          "output_type": "stream",
          "name": "stdout",
          "text": [
            "Train = Epochs: 9 | Loss: 0.0010206870501860976 | Accuracy: 0.8138236999511719 | f1_macro : 0.47461994343007036\n",
            "Dev = Epochs: 9 | Loss: 0.001529464265331626 | Accuracy: 0.7940000295639038 | f1_macro : 0.33132622418336705\n"
          ]
        },
        {
          "output_type": "stream",
          "name": "stderr",
          "text": [
            "100%|██████████| 14/14 [00:00<00:00, 26.62it/s]\n",
            "100%|██████████| 2/2 [00:00<00:00, 85.67it/s]\n"
          ]
        },
        {
          "output_type": "stream",
          "name": "stdout",
          "text": [
            "Train = Epochs: 10 | Loss: 0.0009931293316185474 | Accuracy: 0.8174012303352356 | f1_macro : 0.48195816404553177\n",
            "Dev = Epochs: 10 | Loss: 0.0015918752178549767 | Accuracy: 0.7880000472068787 | f1_macro : 0.3173945303522768\n"
          ]
        },
        {
          "output_type": "stream",
          "name": "stderr",
          "text": [
            "100%|██████████| 14/14 [00:00<00:00, 30.47it/s]\n",
            "100%|██████████| 2/2 [00:00<00:00, 90.25it/s]\n"
          ]
        },
        {
          "output_type": "stream",
          "name": "stdout",
          "text": [
            "Train = Epochs: 11 | Loss: 0.0009683131356723607 | Accuracy: 0.8219805359840393 | f1_macro : 0.5084653389755407\n",
            "Dev = Epochs: 11 | Loss: 0.001595882000401616 | Accuracy: 0.7880000472068787 | f1_macro : 0.3368082779181307\n"
          ]
        },
        {
          "output_type": "stream",
          "name": "stderr",
          "text": [
            "100%|██████████| 14/14 [00:00<00:00, 26.57it/s]\n",
            "100%|██████████| 2/2 [00:00<00:00, 86.31it/s]\n"
          ]
        },
        {
          "output_type": "stream",
          "name": "stdout",
          "text": [
            "Train = Epochs: 12 | Loss: 0.0009378723916597664 | Accuracy: 0.83171147108078 | f1_macro : 0.538721670694493\n",
            "Dev = Epochs: 12 | Loss: 0.0016297631664201617 | Accuracy: 0.7790000438690186 | f1_macro : 0.32195769874214747\n"
          ]
        },
        {
          "output_type": "stream",
          "name": "stderr",
          "text": [
            "100%|██████████| 14/14 [00:00<00:00, 30.32it/s]\n",
            "100%|██████████| 2/2 [00:00<00:00, 83.48it/s]\n"
          ]
        },
        {
          "output_type": "stream",
          "name": "stdout",
          "text": [
            "Train = Epochs: 13 | Loss: 0.000905512017197907 | Accuracy: 0.8358614444732666 | f1_macro : 0.5879472372620925\n",
            "Dev = Epochs: 13 | Loss: 0.001652013510465622 | Accuracy: 0.7870000600814819 | f1_macro : 0.35198929281890295\n"
          ]
        },
        {
          "output_type": "stream",
          "name": "stderr",
          "text": [
            "100%|██████████| 14/14 [00:00<00:00, 27.13it/s]\n",
            "100%|██████████| 2/2 [00:00<00:00, 68.42it/s]\n"
          ]
        },
        {
          "output_type": "stream",
          "name": "stdout",
          "text": [
            "Train = Epochs: 14 | Loss: 0.0009049322688952088 | Accuracy: 0.8354321718215942 | f1_macro : 0.5919811043243174\n",
            "Dev = Epochs: 14 | Loss: 0.0016741903964430094 | Accuracy: 0.7710000276565552 | f1_macro : 0.3379375705260676\n"
          ]
        },
        {
          "output_type": "stream",
          "name": "stderr",
          "text": [
            "100%|██████████| 14/14 [00:00<00:00, 30.79it/s]\n",
            "100%|██████████| 2/2 [00:00<00:00, 85.09it/s]\n"
          ]
        },
        {
          "output_type": "stream",
          "name": "stdout",
          "text": [
            "Train = Epochs: 15 | Loss: 0.0008683985797688365 | Accuracy: 0.8397251963615417 | f1_macro : 0.6247275404153103\n",
            "Dev = Epochs: 15 | Loss: 0.0017523921560496092 | Accuracy: 0.7680000066757202 | f1_macro : 0.3325755805486977\n"
          ]
        },
        {
          "output_type": "stream",
          "name": "stderr",
          "text": [
            "100%|██████████| 14/14 [00:00<00:00, 30.32it/s]\n",
            "100%|██████████| 2/2 [00:00<00:00, 87.95it/s]\n"
          ]
        },
        {
          "output_type": "stream",
          "name": "stdout",
          "text": [
            "Train = Epochs: 16 | Loss: 0.0008562186849303544 | Accuracy: 0.846737265586853 | f1_macro : 0.6362689369564665\n",
            "Dev = Epochs: 16 | Loss: 0.001768201240338385 | Accuracy: 0.7600000500679016 | f1_macro : 0.32963554608251244\n"
          ]
        },
        {
          "output_type": "stream",
          "name": "stderr",
          "text": [
            "100%|██████████| 14/14 [00:00<00:00, 30.06it/s]\n",
            "100%|██████████| 2/2 [00:00<00:00, 86.96it/s]\n"
          ]
        },
        {
          "output_type": "stream",
          "name": "stdout",
          "text": [
            "Train = Epochs: 17 | Loss: 0.0008271705592051148 | Accuracy: 0.8498855233192444 | f1_macro : 0.6310138422254071\n",
            "Dev = Epochs: 17 | Loss: 0.0017904189880937338 | Accuracy: 0.7680000066757202 | f1_macro : 0.3427360572542049\n"
          ]
        },
        {
          "output_type": "stream",
          "name": "stderr",
          "text": [
            "100%|██████████| 14/14 [00:00<00:00, 26.35it/s]\n",
            "100%|██████████| 2/2 [00:00<00:00, 52.50it/s]\n"
          ]
        },
        {
          "output_type": "stream",
          "name": "stdout",
          "text": [
            "Train = Epochs: 18 | Loss: 0.0008316556341014802 | Accuracy: 0.8487406969070435 | f1_macro : 0.6318205461544547\n",
            "Dev = Epochs: 18 | Loss: 0.001844170386902988 | Accuracy: 0.7660000324249268 | f1_macro : 0.3463924147285777\n"
          ]
        },
        {
          "output_type": "stream",
          "name": "stderr",
          "text": [
            "100%|██████████| 14/14 [00:00<00:00, 30.80it/s]\n",
            "100%|██████████| 2/2 [00:00<00:00, 36.85it/s]\n"
          ]
        },
        {
          "output_type": "stream",
          "name": "stdout",
          "text": [
            "Train = Epochs: 19 | Loss: 0.0007949349237605929 | Accuracy: 0.8543216586112976 | f1_macro : 0.6367966493589187\n",
            "Dev = Epochs: 19 | Loss: 0.0018669343553483486 | Accuracy: 0.781000018119812 | f1_macro : 0.34205477567912074\n"
          ]
        },
        {
          "output_type": "stream",
          "name": "stderr",
          "text": [
            "100%|██████████| 14/14 [00:00<00:00, 29.31it/s]\n",
            "100%|██████████| 2/2 [00:00<00:00, 91.00it/s]\n"
          ]
        },
        {
          "output_type": "stream",
          "name": "stdout",
          "text": [
            "Train = Epochs: 20 | Loss: 0.0007825379725545645 | Accuracy: 0.8537492752075195 | f1_macro : 0.6440529838364707\n",
            "Dev = Epochs: 20 | Loss: 0.0019352296367287636 | Accuracy: 0.7690000534057617 | f1_macro : 0.33306847123204664\n"
          ]
        },
        {
          "output_type": "stream",
          "name": "stderr",
          "text": [
            "100%|██████████| 2/2 [00:00<00:00, 62.13it/s]"
          ]
        },
        {
          "output_type": "stream",
          "name": "stdout",
          "text": [
            "Best Dev = Loss: 0.001652013510465622 | Accuracy: 0.7870000600814819 | f1_macro : 0.35198929281890295\n"
          ]
        },
        {
          "output_type": "stream",
          "name": "stderr",
          "text": [
            "\n"
          ]
        }
      ],
      "source": [
        "train_evaluate(stance_model, stance_train_dataset, stance_dev_dataset, 'LSTM_stance_model')"
      ]
    },
    {
      "cell_type": "code",
      "execution_count": null,
      "metadata": {
        "id": "Pj3MGpk6rd5j",
        "colab": {
          "base_uri": "https://localhost:8080/"
        },
        "outputId": "03685f5d-4d34-4ca8-bf09-3cb731257dec"
      },
      "outputs": [
        {
          "output_type": "stream",
          "name": "stderr",
          "text": [
            "/usr/local/lib/python3.8/dist-packages/torch/nn/modules/rnn.py:67: UserWarning: dropout option adds dropout after all but last recurrent layer, so non-zero dropout expects num_layers greater than 1, but got dropout=0.5 and num_layers=1\n",
            "  warnings.warn(\"dropout option adds dropout after all but last \"\n"
          ]
        },
        {
          "output_type": "stream",
          "name": "stdout",
          "text": [
            "The model has 161,810 trainable parameters\n"
          ]
        }
      ],
      "source": [
        "INPUT_DIM = vocab_size\n",
        "OUTPUT_DIM = 10\n",
        "EMB_DIM = 300 #256\n",
        "HID_DIM = 100 #512\n",
        "DROPOUT = 0.5\n",
        "\n",
        "category_model = LSTM(INPUT_DIM, EMB_DIM, HID_DIM, OUTPUT_DIM, DROPOUT).to(device)\n",
        "\n",
        "def init_weights(m):\n",
        "    for name, param in m.named_parameters():\n",
        "        nn.init.uniform_(param.data, -0.08, 0.08)\n",
        "        \n",
        "# category_model.apply(init_weights)\n",
        "\n",
        "def count_parameters(model):\n",
        "    return sum(p.numel() for p in model.parameters() if p.requires_grad)\n",
        "\n",
        "print(f'The model has {count_parameters(category_model):,} trainable parameters')"
      ]
    },
    {
      "cell_type": "code",
      "execution_count": null,
      "metadata": {
        "id": "7ko0HjsFrd5k",
        "colab": {
          "base_uri": "https://localhost:8080/"
        },
        "outputId": "db5f4abe-a94f-4c86-ef83-7a4447e6e721"
      },
      "outputs": [
        {
          "output_type": "stream",
          "name": "stderr",
          "text": [
            "100%|██████████| 14/14 [00:00<00:00, 95.32it/s]\n",
            "100%|██████████| 2/2 [00:00<00:00, 185.77it/s]\n"
          ]
        },
        {
          "output_type": "stream",
          "name": "stdout",
          "text": [
            "Train = Epochs: 1 | Loss: 0.003327268175780773 | Accuracy: 0.4743846356868744 | f1_macro : 0.06817581588379551\n",
            "Dev = Epochs: 1 | Loss: 0.002977822907269001 | Accuracy: 0.5450000166893005 | f1_macro : 0.07055016181229774\n"
          ]
        },
        {
          "output_type": "stream",
          "name": "stderr",
          "text": [
            "100%|██████████| 14/14 [00:00<00:00, 94.78it/s]\n",
            "100%|██████████| 2/2 [00:00<00:00, 169.53it/s]\n"
          ]
        },
        {
          "output_type": "stream",
          "name": "stdout",
          "text": [
            "Train = Epochs: 2 | Loss: 0.0030256854370236397 | Accuracy: 0.5173153877258301 | f1_macro : 0.06818824860888427\n",
            "Dev = Epochs: 2 | Loss: 0.0029775407165288925 | Accuracy: 0.5450000166893005 | f1_macro : 0.07055016181229774\n"
          ]
        },
        {
          "output_type": "stream",
          "name": "stderr",
          "text": [
            "100%|██████████| 14/14 [00:00<00:00, 99.92it/s]\n",
            "100%|██████████| 2/2 [00:00<00:00, 139.73it/s]\n"
          ]
        },
        {
          "output_type": "stream",
          "name": "stdout",
          "text": [
            "Train = Epochs: 3 | Loss: 0.0029920313972979784 | Accuracy: 0.5171722769737244 | f1_macro : 0.06838942221590348\n",
            "Dev = Epochs: 3 | Loss: 0.0029786869417876005 | Accuracy: 0.5450000166893005 | f1_macro : 0.07055016181229774\n"
          ]
        },
        {
          "output_type": "stream",
          "name": "stderr",
          "text": [
            "100%|██████████| 14/14 [00:00<00:00, 124.78it/s]\n",
            "100%|██████████| 2/2 [00:00<00:00, 197.81it/s]\n"
          ]
        },
        {
          "output_type": "stream",
          "name": "stdout",
          "text": [
            "Train = Epochs: 4 | Loss: 0.0029585901647806168 | Accuracy: 0.5176016092300415 | f1_macro : 0.06933277642226819\n",
            "Dev = Epochs: 4 | Loss: 0.002987214596942067 | Accuracy: 0.5450000166893005 | f1_macro : 0.07205045116905129\n"
          ]
        },
        {
          "output_type": "stream",
          "name": "stderr",
          "text": [
            "100%|██████████| 14/14 [00:00<00:00, 96.30it/s]\n",
            "100%|██████████| 2/2 [00:00<00:00, 163.31it/s]\n"
          ]
        },
        {
          "output_type": "stream",
          "name": "stdout",
          "text": [
            "Train = Epochs: 5 | Loss: 0.0029221016447991133 | Accuracy: 0.5190325975418091 | f1_macro : 0.07238525628535736\n",
            "Dev = Epochs: 5 | Loss: 0.0030150802340358496 | Accuracy: 0.5440000295639038 | f1_macro : 0.07475574718152536\n"
          ]
        },
        {
          "output_type": "stream",
          "name": "stderr",
          "text": [
            "100%|██████████| 14/14 [00:00<00:00, 95.78it/s]\n",
            "100%|██████████| 2/2 [00:00<00:00, 178.22it/s]\n"
          ]
        },
        {
          "output_type": "stream",
          "name": "stdout",
          "text": [
            "Train = Epochs: 6 | Loss: 0.0028828594367951155 | Accuracy: 0.5216084718704224 | f1_macro : 0.07716238751438978\n",
            "Dev = Epochs: 6 | Loss: 0.003025543875992298 | Accuracy: 0.5360000133514404 | f1_macro : 0.07135849355170504\n"
          ]
        },
        {
          "output_type": "stream",
          "name": "stderr",
          "text": [
            "100%|██████████| 14/14 [00:00<00:00, 119.96it/s]\n",
            "100%|██████████| 2/2 [00:00<00:00, 162.66it/s]\n"
          ]
        },
        {
          "output_type": "stream",
          "name": "stdout",
          "text": [
            "Train = Epochs: 7 | Loss: 0.0028581502847373486 | Accuracy: 0.5221808552742004 | f1_macro : 0.08663897409373936\n",
            "Dev = Epochs: 7 | Loss: 0.0030434003565460443 | Accuracy: 0.5420000553131104 | f1_macro : 0.07550078766125082\n"
          ]
        },
        {
          "output_type": "stream",
          "name": "stderr",
          "text": [
            "100%|██████████| 14/14 [00:00<00:00, 95.76it/s]\n",
            "100%|██████████| 2/2 [00:00<00:00, 170.57it/s]\n"
          ]
        },
        {
          "output_type": "stream",
          "name": "stdout",
          "text": [
            "Train = Epochs: 8 | Loss: 0.0028206517454236746 | Accuracy: 0.5251860022544861 | f1_macro : 0.09494222539144902\n",
            "Dev = Epochs: 8 | Loss: 0.0030596558935940266 | Accuracy: 0.5420000553131104 | f1_macro : 0.07332001879699249\n"
          ]
        },
        {
          "output_type": "stream",
          "name": "stderr",
          "text": [
            "100%|██████████| 14/14 [00:00<00:00, 125.78it/s]\n",
            "100%|██████████| 2/2 [00:00<00:00, 173.42it/s]\n"
          ]
        },
        {
          "output_type": "stream",
          "name": "stdout",
          "text": [
            "Train = Epochs: 9 | Loss: 0.002785559743642807 | Accuracy: 0.5269032716751099 | f1_macro : 0.1119481003243988\n",
            "Dev = Epochs: 9 | Loss: 0.0030792716424912214 | Accuracy: 0.5320000052452087 | f1_macro : 0.07514311886088208\n"
          ]
        },
        {
          "output_type": "stream",
          "name": "stderr",
          "text": [
            "100%|██████████| 14/14 [00:00<00:00, 112.78it/s]\n",
            "100%|██████████| 2/2 [00:00<00:00, 160.78it/s]\n"
          ]
        },
        {
          "output_type": "stream",
          "name": "stdout",
          "text": [
            "Train = Epochs: 10 | Loss: 0.0027468553744256496 | Accuracy: 0.5323411226272583 | f1_macro : 0.12225165120759181\n",
            "Dev = Epochs: 10 | Loss: 0.0031225215643644333 | Accuracy: 0.5320000052452087 | f1_macro : 0.0738567188207476\n"
          ]
        },
        {
          "output_type": "stream",
          "name": "stderr",
          "text": [
            "100%|██████████| 14/14 [00:00<00:00, 128.54it/s]\n",
            "100%|██████████| 2/2 [00:00<00:00, 161.66it/s]\n"
          ]
        },
        {
          "output_type": "stream",
          "name": "stdout",
          "text": [
            "Train = Epochs: 11 | Loss: 0.002725360682234168 | Accuracy: 0.5337721705436707 | f1_macro : 0.13251351788454385\n",
            "Dev = Epochs: 11 | Loss: 0.003156650345772505 | Accuracy: 0.5290000438690186 | f1_macro : 0.07366750633548874\n"
          ]
        },
        {
          "output_type": "stream",
          "name": "stderr",
          "text": [
            "100%|██████████| 14/14 [00:00<00:00, 129.64it/s]\n",
            "100%|██████████| 2/2 [00:00<00:00, 124.04it/s]\n"
          ]
        },
        {
          "output_type": "stream",
          "name": "stdout",
          "text": [
            "Train = Epochs: 12 | Loss: 0.0026989656034857035 | Accuracy: 0.5343445539474487 | f1_macro : 0.1398794625250041\n",
            "Dev = Epochs: 12 | Loss: 0.003166728187352419 | Accuracy: 0.5290000438690186 | f1_macro : 0.0802075011096316\n"
          ]
        },
        {
          "output_type": "stream",
          "name": "stderr",
          "text": [
            "100%|██████████| 14/14 [00:00<00:00, 88.69it/s]\n",
            "100%|██████████| 2/2 [00:00<00:00, 166.90it/s]\n"
          ]
        },
        {
          "output_type": "stream",
          "name": "stdout",
          "text": [
            "Train = Epochs: 13 | Loss: 0.0026807785034179688 | Accuracy: 0.5412135124206543 | f1_macro : 0.15836478804114693\n",
            "Dev = Epochs: 13 | Loss: 0.0031739866826683283 | Accuracy: 0.5300000309944153 | f1_macro : 0.09004663197344454\n"
          ]
        },
        {
          "output_type": "stream",
          "name": "stderr",
          "text": [
            "100%|██████████| 14/14 [00:00<00:00, 92.00it/s]\n",
            "100%|██████████| 2/2 [00:00<00:00, 185.66it/s]\n"
          ]
        },
        {
          "output_type": "stream",
          "name": "stdout",
          "text": [
            "Train = Epochs: 14 | Loss: 0.0026505955029278994 | Accuracy: 0.5455065965652466 | f1_macro : 0.16779656411636562\n",
            "Dev = Epochs: 14 | Loss: 0.003197582671418786 | Accuracy: 0.5270000100135803 | f1_macro : 0.09045664126443212\n"
          ]
        },
        {
          "output_type": "stream",
          "name": "stderr",
          "text": [
            "100%|██████████| 14/14 [00:00<00:00, 93.53it/s]\n",
            "100%|██████████| 2/2 [00:00<00:00, 158.67it/s]\n"
          ]
        },
        {
          "output_type": "stream",
          "name": "stdout",
          "text": [
            "Train = Epochs: 15 | Loss: 0.0026324032805860043 | Accuracy: 0.5470806956291199 | f1_macro : 0.15966310641785295\n",
            "Dev = Epochs: 15 | Loss: 0.0032106086146086454 | Accuracy: 0.5300000309944153 | f1_macro : 0.09713368389468537\n"
          ]
        },
        {
          "output_type": "stream",
          "name": "stderr",
          "text": [
            "100%|██████████| 14/14 [00:00<00:00, 94.27it/s]\n",
            "100%|██████████| 2/2 [00:00<00:00, 174.71it/s]\n"
          ]
        },
        {
          "output_type": "stream",
          "name": "stdout",
          "text": [
            "Train = Epochs: 16 | Loss: 0.0025970463175326586 | Accuracy: 0.5485117435455322 | f1_macro : 0.18641036711628917\n",
            "Dev = Epochs: 16 | Loss: 0.003227886278182268 | Accuracy: 0.5180000066757202 | f1_macro : 0.10337461387594057\n"
          ]
        },
        {
          "output_type": "stream",
          "name": "stderr",
          "text": [
            "100%|██████████| 14/14 [00:00<00:00, 93.69it/s]\n",
            "100%|██████████| 2/2 [00:00<00:00, 170.86it/s]\n"
          ]
        },
        {
          "output_type": "stream",
          "name": "stdout",
          "text": [
            "Train = Epochs: 17 | Loss: 0.002586816903203726 | Accuracy: 0.5512306690216064 | f1_macro : 0.211558659440015\n",
            "Dev = Epochs: 17 | Loss: 0.003219515085220337 | Accuracy: 0.5230000019073486 | f1_macro : 0.1047906179625524\n"
          ]
        },
        {
          "output_type": "stream",
          "name": "stderr",
          "text": [
            "100%|██████████| 14/14 [00:00<00:00, 92.17it/s]\n",
            "100%|██████████| 2/2 [00:00<00:00, 166.16it/s]\n"
          ]
        },
        {
          "output_type": "stream",
          "name": "stdout",
          "text": [
            "Train = Epochs: 18 | Loss: 0.0025873309932649136 | Accuracy: 0.553806483745575 | f1_macro : 0.2126181340983942\n",
            "Dev = Epochs: 18 | Loss: 0.0032386756502091885 | Accuracy: 0.5270000100135803 | f1_macro : 0.10165565539665584\n"
          ]
        },
        {
          "output_type": "stream",
          "name": "stderr",
          "text": [
            "100%|██████████| 14/14 [00:00<00:00, 105.84it/s]\n",
            "100%|██████████| 2/2 [00:00<00:00, 164.51it/s]\n"
          ]
        },
        {
          "output_type": "stream",
          "name": "stdout",
          "text": [
            "Train = Epochs: 19 | Loss: 0.0025586411356925964 | Accuracy: 0.5560961365699768 | f1_macro : 0.21517146069674423\n",
            "Dev = Epochs: 19 | Loss: 0.003245460567995906 | Accuracy: 0.5220000147819519 | f1_macro : 0.10086471641753211\n"
          ]
        },
        {
          "output_type": "stream",
          "name": "stderr",
          "text": [
            "100%|██████████| 14/14 [00:00<00:00, 109.14it/s]\n",
            "100%|██████████| 2/2 [00:00<00:00, 170.83it/s]\n"
          ]
        },
        {
          "output_type": "stream",
          "name": "stdout",
          "text": [
            "Train = Epochs: 20 | Loss: 0.0025318004190921783 | Accuracy: 0.5619633793830872 | f1_macro : 0.2218532840379659\n",
            "Dev = Epochs: 20 | Loss: 0.0032672507222741842 | Accuracy: 0.5200000405311584 | f1_macro : 0.09709828606314849\n"
          ]
        },
        {
          "output_type": "stream",
          "name": "stderr",
          "text": [
            "100%|██████████| 2/2 [00:00<00:00, 126.43it/s]"
          ]
        },
        {
          "output_type": "stream",
          "name": "stdout",
          "text": [
            "Best Dev = Loss: 0.003219515085220337 | Accuracy: 0.5230000019073486 | f1_macro : 0.1047906179625524\n"
          ]
        },
        {
          "output_type": "stream",
          "name": "stderr",
          "text": [
            "\n"
          ]
        }
      ],
      "source": [
        "train_evaluate(category_model, category_train_dataset, category_dev_dataset, 'LSTM_category_model')"
      ]
    },
    {
      "cell_type": "markdown",
      "metadata": {
        "id": "BL-2uIcErd5k"
      },
      "source": [
        "## Dumped"
      ]
    }
  ],
  "metadata": {
    "kernelspec": {
      "display_name": "pytorch",
      "language": "python",
      "name": "python3"
    },
    "language_info": {
      "codemirror_mode": {
        "name": "ipython",
        "version": 3
      },
      "file_extension": ".py",
      "mimetype": "text/x-python",
      "name": "python",
      "nbconvert_exporter": "python",
      "pygments_lexer": "ipython3",
      "version": "3.10.6"
    },
    "orig_nbformat": 4,
    "vscode": {
      "interpreter": {
        "hash": "f707ed687e1cc7dca614d866740125e744cc3f7963ec2d63a60d682146be2e45"
      }
    },
    "colab": {
      "provenance": [],
      "include_colab_link": true
    },
    "accelerator": "GPU",
    "gpuClass": "standard"
  },
  "nbformat": 4,
  "nbformat_minor": 0
}