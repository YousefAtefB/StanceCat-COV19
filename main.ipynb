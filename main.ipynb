{
 "cells": [
  {
   "attachments": {},
   "cell_type": "markdown",
   "metadata": {},
   "source": [
    "# Importing libraries"
   ]
  },
  {
   "cell_type": "code",
   "execution_count": 529,
   "metadata": {},
   "outputs": [],
   "source": [
    "import pandas as pd\n",
    "import numpy as np\n",
    "import torch\n",
    "import torch.nn as nn\n",
    "import torch.nn.functional as F\n",
    "import torch.optim as optim\n",
    "import re\n",
    "import nltk\n",
    "from tqdm import tqdm"
   ]
  },
  {
   "attachments": {},
   "cell_type": "markdown",
   "metadata": {},
   "source": [
    "# Data PreProcessing"
   ]
  },
  {
   "cell_type": "code",
   "execution_count": 530,
   "metadata": {},
   "outputs": [],
   "source": [
    "train = pd.read_csv('Dataset/train.csv')\n",
    "text_train, category_train, stance_train = train['text'], train['category'], train['stance']\n",
    "\n",
    "dev = pd.read_csv('Dataset/dev.csv')\n",
    "text_dev, category_dev, stance_dev = dev['text'], dev['category'], dev['stance']"
   ]
  },
  {
   "cell_type": "code",
   "execution_count": 531,
   "metadata": {},
   "outputs": [
    {
     "data": {
      "text/html": [
       "<div>\n",
       "<style scoped>\n",
       "    .dataframe tbody tr th:only-of-type {\n",
       "        vertical-align: middle;\n",
       "    }\n",
       "\n",
       "    .dataframe tbody tr th {\n",
       "        vertical-align: top;\n",
       "    }\n",
       "\n",
       "    .dataframe thead th {\n",
       "        text-align: right;\n",
       "    }\n",
       "</style>\n",
       "<table border=\"1\" class=\"dataframe\">\n",
       "  <thead>\n",
       "    <tr style=\"text-align: right;\">\n",
       "      <th></th>\n",
       "      <th>text</th>\n",
       "      <th>category</th>\n",
       "      <th>stance</th>\n",
       "    </tr>\n",
       "  </thead>\n",
       "  <tbody>\n",
       "    <tr>\n",
       "      <th>0</th>\n",
       "      <td>بيل غيتس يتلقى لقاح #كوفيد19 من غير تصوير الاب...</td>\n",
       "      <td>celebrity</td>\n",
       "      <td>1</td>\n",
       "    </tr>\n",
       "    <tr>\n",
       "      <th>1</th>\n",
       "      <td>وزير الصحة لحد اليوم وتحديدا هلأ بمؤتمروا الصح...</td>\n",
       "      <td>info_news</td>\n",
       "      <td>1</td>\n",
       "    </tr>\n",
       "    <tr>\n",
       "      <th>2</th>\n",
       "      <td>قولكن  رح يكونو اد المسؤولية ب لبنان لما يوصل ...</td>\n",
       "      <td>info_news</td>\n",
       "      <td>1</td>\n",
       "    </tr>\n",
       "    <tr>\n",
       "      <th>3</th>\n",
       "      <td>#تركيا.. وزير الصحة فخر الدين قوجة يتلقى أول ج...</td>\n",
       "      <td>celebrity</td>\n",
       "      <td>1</td>\n",
       "    </tr>\n",
       "    <tr>\n",
       "      <th>4</th>\n",
       "      <td>وئام وهاب يشتم الدول الخليجية في كل طلة اعلامي...</td>\n",
       "      <td>personal</td>\n",
       "      <td>0</td>\n",
       "    </tr>\n",
       "    <tr>\n",
       "      <th>5</th>\n",
       "      <td>لقاح #كورونا في أميركا.. قلق متزايد من \"التوزي...</td>\n",
       "      <td>info_news</td>\n",
       "      <td>0</td>\n",
       "    </tr>\n",
       "    <tr>\n",
       "      <th>6</th>\n",
       "      <td>لبنان اشترى مليونان لقاح امريكي اذا شلنا يلي ع...</td>\n",
       "      <td>info_news</td>\n",
       "      <td>1</td>\n",
       "    </tr>\n",
       "    <tr>\n",
       "      <th>7</th>\n",
       "      <td>من عوارض لقاح كورونا&lt;LF&gt;هو تهكير حسابك عتويتر&lt;...</td>\n",
       "      <td>personal</td>\n",
       "      <td>0</td>\n",
       "    </tr>\n",
       "    <tr>\n",
       "      <th>8</th>\n",
       "      <td>هناك 1780 مليونيراً في لبنان. ماذا لو فُرضت ال...</td>\n",
       "      <td>unrelated</td>\n",
       "      <td>0</td>\n",
       "    </tr>\n",
       "    <tr>\n",
       "      <th>9</th>\n",
       "      <td>دعبول حضرتك منو انت وتطلب من قائد دولة إسلامية...</td>\n",
       "      <td>info_news</td>\n",
       "      <td>1</td>\n",
       "    </tr>\n",
       "  </tbody>\n",
       "</table>\n",
       "</div>"
      ],
      "text/plain": [
       "                                                text   category  stance\n",
       "0  بيل غيتس يتلقى لقاح #كوفيد19 من غير تصوير الاب...  celebrity       1\n",
       "1  وزير الصحة لحد اليوم وتحديدا هلأ بمؤتمروا الصح...  info_news       1\n",
       "2  قولكن  رح يكونو اد المسؤولية ب لبنان لما يوصل ...  info_news       1\n",
       "3  #تركيا.. وزير الصحة فخر الدين قوجة يتلقى أول ج...  celebrity       1\n",
       "4  وئام وهاب يشتم الدول الخليجية في كل طلة اعلامي...   personal       0\n",
       "5  لقاح #كورونا في أميركا.. قلق متزايد من \"التوزي...  info_news       0\n",
       "6  لبنان اشترى مليونان لقاح امريكي اذا شلنا يلي ع...  info_news       1\n",
       "7  من عوارض لقاح كورونا<LF>هو تهكير حسابك عتويتر<...   personal       0\n",
       "8  هناك 1780 مليونيراً في لبنان. ماذا لو فُرضت ال...  unrelated       0\n",
       "9  دعبول حضرتك منو انت وتطلب من قائد دولة إسلامية...  info_news       1"
      ]
     },
     "execution_count": 531,
     "metadata": {},
     "output_type": "execute_result"
    }
   ],
   "source": [
    "train.head(10)"
   ]
  },
  {
   "cell_type": "code",
   "execution_count": 532,
   "metadata": {},
   "outputs": [
    {
     "data": {
      "text/html": [
       "<div>\n",
       "<style scoped>\n",
       "    .dataframe tbody tr th:only-of-type {\n",
       "        vertical-align: middle;\n",
       "    }\n",
       "\n",
       "    .dataframe tbody tr th {\n",
       "        vertical-align: top;\n",
       "    }\n",
       "\n",
       "    .dataframe thead th {\n",
       "        text-align: right;\n",
       "    }\n",
       "</style>\n",
       "<table border=\"1\" class=\"dataframe\">\n",
       "  <thead>\n",
       "    <tr style=\"text-align: right;\">\n",
       "      <th></th>\n",
       "      <th>text</th>\n",
       "      <th>category</th>\n",
       "      <th>stance</th>\n",
       "    </tr>\n",
       "  </thead>\n",
       "  <tbody>\n",
       "    <tr>\n",
       "      <th>0</th>\n",
       "      <td>#مريم_رجوي: &lt;LF&gt;حظر خامنئي المجرم شراء #لقاح_ك...</td>\n",
       "      <td>info_news</td>\n",
       "      <td>1</td>\n",
       "    </tr>\n",
       "    <tr>\n",
       "      <th>1</th>\n",
       "      <td>#الصحة:&lt;LF&gt;•تم إعطاء 259.530 جرعة من لقاح #كور...</td>\n",
       "      <td>plan</td>\n",
       "      <td>1</td>\n",
       "    </tr>\n",
       "    <tr>\n",
       "      <th>2</th>\n",
       "      <td>#خادم_الحرمين - حفظه الله - يتلقى الجرعة الأول...</td>\n",
       "      <td>celebrity</td>\n",
       "      <td>1</td>\n",
       "    </tr>\n",
       "    <tr>\n",
       "      <th>3</th>\n",
       "      <td>#الصحه_العالميه: لقاحات #كورونا آمنة ولا خوف م...</td>\n",
       "      <td>info_news</td>\n",
       "      <td>1</td>\n",
       "    </tr>\n",
       "    <tr>\n",
       "      <th>4</th>\n",
       "      <td>#وزيرة_الصحة \"#هالة_زايد\" تقول إنه يجرى مراجعة...</td>\n",
       "      <td>info_news</td>\n",
       "      <td>1</td>\n",
       "    </tr>\n",
       "    <tr>\n",
       "      <th>5</th>\n",
       "      <td>2️⃣ وانتهى الفريق من الدراسات قبل السريرية ونش...</td>\n",
       "      <td>info_news</td>\n",
       "      <td>1</td>\n",
       "    </tr>\n",
       "    <tr>\n",
       "      <th>6</th>\n",
       "      <td>عاجل 🔴 &lt;LF&gt;.&lt;LF&gt;&lt;LF&gt;.&lt;LF&gt;&lt;LF&gt;وزارة الصحة :&lt;LF&gt;...</td>\n",
       "      <td>plan</td>\n",
       "      <td>1</td>\n",
       "    </tr>\n",
       "    <tr>\n",
       "      <th>7</th>\n",
       "      <td>#فيديو | السفير الأميركي لدى السعودية بعد تلقي...</td>\n",
       "      <td>info_news</td>\n",
       "      <td>1</td>\n",
       "    </tr>\n",
       "    <tr>\n",
       "      <th>8</th>\n",
       "      <td>تصريحات وبس الحكومة مع السيسي علي حسب اللقطة! ...</td>\n",
       "      <td>info_news</td>\n",
       "      <td>0</td>\n",
       "    </tr>\n",
       "    <tr>\n",
       "      <th>9</th>\n",
       "      <td>الاتحاد الاوروبي تفاوض لشراء لقاحات الكورونا م...</td>\n",
       "      <td>info_news</td>\n",
       "      <td>1</td>\n",
       "    </tr>\n",
       "  </tbody>\n",
       "</table>\n",
       "</div>"
      ],
      "text/plain": [
       "                                                text   category  stance\n",
       "0  #مريم_رجوي: <LF>حظر خامنئي المجرم شراء #لقاح_ك...  info_news       1\n",
       "1  #الصحة:<LF>•تم إعطاء 259.530 جرعة من لقاح #كور...       plan       1\n",
       "2  #خادم_الحرمين - حفظه الله - يتلقى الجرعة الأول...  celebrity       1\n",
       "3  #الصحه_العالميه: لقاحات #كورونا آمنة ولا خوف م...  info_news       1\n",
       "4  #وزيرة_الصحة \"#هالة_زايد\" تقول إنه يجرى مراجعة...  info_news       1\n",
       "5  2️⃣ وانتهى الفريق من الدراسات قبل السريرية ونش...  info_news       1\n",
       "6  عاجل 🔴 <LF>.<LF><LF>.<LF><LF>وزارة الصحة :<LF>...       plan       1\n",
       "7  #فيديو | السفير الأميركي لدى السعودية بعد تلقي...  info_news       1\n",
       "8  تصريحات وبس الحكومة مع السيسي علي حسب اللقطة! ...  info_news       0\n",
       "9  الاتحاد الاوروبي تفاوض لشراء لقاحات الكورونا م...  info_news       1"
      ]
     },
     "execution_count": 532,
     "metadata": {},
     "output_type": "execute_result"
    }
   ],
   "source": [
    "dev.head(10)"
   ]
  },
  {
   "cell_type": "code",
   "execution_count": 533,
   "metadata": {},
   "outputs": [
    {
     "name": "stdout",
     "output_type": "stream",
     "text": [
      "(6988,) (6988,) (6988,)\n",
      "(1000,) (1000,) (1000,)\n"
     ]
    }
   ],
   "source": [
    "text_train, category_train, stance_train = np.array(train['text']), np.array(train['category']), np.array(train['stance'])\n",
    "text_dev, category_dev, stance_dev = np.array(dev['text']), np.array(dev['category']), np.array(dev['stance'])\n",
    "\n",
    "print(text_train.shape, category_train.shape, stance_train.shape)\n",
    "print(text_dev.shape, category_dev.shape, stance_dev.shape)"
   ]
  },
  {
   "cell_type": "code",
   "execution_count": 534,
   "metadata": {},
   "outputs": [],
   "source": [
    "def PreProcessing(text):\n",
    "\n",
    "    # remove links\n",
    "    text = [re.sub(r'https?:\\/\\/.*[\\r\\n]*', '', x, flags=re.MULTILINE) for x in text]\n",
    "    # text = [re.sub(r'https?:\\/\\/\\S*', '', x, flags=re.MULTILINE) for x in text]\n",
    "\n",
    "    # remove emojis\n",
    "    emoji_pattern = re.compile(\"[\"\n",
    "        u\"\\U0001F600-\\U0001F64F\"  # emoticons\n",
    "        u\"\\U0001F300-\\U0001F5FF\"  # symbols & pictographs\n",
    "        u\"\\U0001F680-\\U0001F6FF\"  # transport & map symbols\n",
    "        u\"\\U0001F1E0-\\U0001F1FF\"  # flags (iOS)\n",
    "                           \"]+\", flags=re.UNICODE)\n",
    "    \n",
    "    text = [emoji_pattern.sub(r'', x) for x in text] # no emoji\n",
    "\n",
    "    # remove english words\n",
    "    text = [re.sub(r'\\s*[A-Za-z]+\\b', '' , x) for x in text]\n",
    "\n",
    "    # tokenize\n",
    "    text = [nltk.tokenize.word_tokenize(x) for x in text]\n",
    "\n",
    "    # # remove stop-words\n",
    "    # stopwords = set(nltk.corpus.stopwords.words(\"arabic\"))\n",
    "\n",
    "    # for i in range(len(text)):\n",
    "    #     text[i] = [word for word in text[i] if word not in stopwords]\n",
    "\n",
    "\n",
    "    for i in range(len(text)):\n",
    "        text[i] = [word for word in text[i] if len(word)>2]\n",
    "    \n",
    "    return text"
   ]
  },
  {
   "cell_type": "code",
   "execution_count": 535,
   "metadata": {},
   "outputs": [],
   "source": [
    "text_train = PreProcessing(text_train)\n",
    "text_dev = PreProcessing(text_dev)"
   ]
  },
  {
   "cell_type": "code",
   "execution_count": 536,
   "metadata": {},
   "outputs": [
    {
     "name": "stdout",
     "output_type": "stream",
     "text": [
      "['بيل', 'غيتس', 'يتلقى', 'لقاح', 'كوفيد19', 'غير', 'تصوير', 'الابرة', 'السيرنجة', 'الدواء', 'لابس', 'بولو', 'صيفي', 'الشتاء', 'يقول', 'إحدى', 'مزايا', 'عمر', 'عامًا', 'انه', 'مؤهل', 'للحصول', 'على', 'اللقاح', '...', 'يعنى', 'كان', 'يحتاج', 'اللقاح', 'كان', 'عمره', 'اصغر']\n"
     ]
    }
   ],
   "source": [
    "with open('processed_train.txt','w', encoding='utf8') as f:\n",
    "\tfor i in text_train:\n",
    "\t\tf.write('%s\\n'%i)\n",
    "print(text_train[0])"
   ]
  },
  {
   "cell_type": "code",
   "execution_count": 537,
   "metadata": {},
   "outputs": [],
   "source": [
    "def BuildVocab(text, pad='<pad>', unk='<unk>'):\n",
    "    vocab = set([pad, unk])\n",
    "    \n",
    "    for x in text:\n",
    "        vocab |= set(x)\n",
    "\n",
    "    id2word = {i: word for i, word in enumerate(list(vocab))}\n",
    "    word2id = {word: i for i, word in id2word.items()}\n",
    "    vocab_size = len(vocab)\n",
    "\n",
    "    return vocab_size, vocab, id2word, word2id    "
   ]
  },
  {
   "cell_type": "code",
   "execution_count": 538,
   "metadata": {},
   "outputs": [
    {
     "name": "stdout",
     "output_type": "stream",
     "text": [
      "32053\n"
     ]
    }
   ],
   "source": [
    "vocab_size, vocab, id2word, word2id = BuildVocab(text_train)\n",
    "print(vocab_size)"
   ]
  },
  {
   "cell_type": "code",
   "execution_count": 539,
   "metadata": {},
   "outputs": [
    {
     "name": "stdout",
     "output_type": "stream",
     "text": [
      "{'personal', 'requests', 'advice', 'celebrity', 'restrictions', 'rumors', 'plan', 'info_news', 'others', 'unrelated'}\n",
      "3\n"
     ]
    }
   ],
   "source": [
    "categories = set(category_train)\n",
    "print(categories)\n",
    "category2id = {word:i for i, word in enumerate(list(categories))}\n",
    "print(category2id['celebrity'])"
   ]
  },
  {
   "attachments": {},
   "cell_type": "markdown",
   "metadata": {},
   "source": [
    "# Model Building"
   ]
  },
  {
   "attachments": {},
   "cell_type": "markdown",
   "metadata": {},
   "source": [
    "## LSTM"
   ]
  },
  {
   "attachments": {},
   "cell_type": "markdown",
   "metadata": {},
   "source": [
    "### Ideas to try\n",
    "1) bi-directional\n",
    "2) pre-training\n",
    "3) multi-layers\n",
    "4) BERT\n",
    "5) transformers notebook"
   ]
  },
  {
   "attachments": {},
   "cell_type": "markdown",
   "metadata": {},
   "source": [
    "### Building Model"
   ]
  },
  {
   "cell_type": "code",
   "execution_count": 540,
   "metadata": {},
   "outputs": [],
   "source": [
    "class Dataset(torch.utils.data.Dataset):\n",
    "\n",
    "  def __init__(self, x, y, pad='<pad>', unk='<unk>', word2id=word2id):\n",
    "\n",
    "    x = x.copy()\n",
    "\n",
    "    print(x[0])\n",
    "\n",
    "    for i in range(len(x)):\n",
    "      x[i] = [word2id[word] if word in word2id else word2id[unk] for word in x[i]]\n",
    "    \n",
    "    print(x[0])\n",
    "\n",
    "    self.X = torch.nn.utils.rnn.pad_sequence([torch.tensor(sentence) for sentence in x], batch_first=True, padding_value=word2id[pad])\n",
    "\n",
    "    print(self.X[0])\n",
    "\n",
    "    print(self.X.shape)\n",
    "    \n",
    "    self.Y = torch.tensor(y)\n",
    "    self.len = len(x)\n",
    "    self.pad = pad\n",
    "\n",
    "  def __len__(self):\n",
    "    return self.len\n",
    "\n",
    "  def __getitem__(self, idx):\n",
    "    return self.X[idx], self.Y[idx]"
   ]
  },
  {
   "cell_type": "code",
   "execution_count": 541,
   "metadata": {},
   "outputs": [
    {
     "name": "stdout",
     "output_type": "stream",
     "text": [
      "['بيل', 'غيتس', 'يتلقى', 'لقاح', 'كوفيد19', 'غير', 'تصوير', 'الابرة', 'السيرنجة', 'الدواء', 'لابس', 'بولو', 'صيفي', 'الشتاء', 'يقول', 'إحدى', 'مزايا', 'عمر', 'عامًا', 'انه', 'مؤهل', 'للحصول', 'على', 'اللقاح', '...', 'يعنى', 'كان', 'يحتاج', 'اللقاح', 'كان', 'عمره', 'اصغر']\n",
      "[21104, 8193, 14285, 28007, 21617, 10046, 11945, 22540, 28807, 6137, 18493, 15310, 6906, 6046, 6908, 22650, 28257, 14790, 15196, 25980, 4592, 1232, 27141, 22906, 974, 7456, 17061, 794, 22906, 17061, 24121, 24754]\n",
      "tensor([21104,  8193, 14285, 28007, 21617, 10046, 11945, 22540, 28807,  6137,\n",
      "        18493, 15310,  6906,  6046,  6908, 22650, 28257, 14790, 15196, 25980,\n",
      "         4592,  1232, 27141, 22906,   974,  7456, 17061,   794, 22906, 17061,\n",
      "        24121, 24754, 25903, 25903, 25903, 25903, 25903, 25903, 25903, 25903,\n",
      "        25903, 25903, 25903, 25903, 25903, 25903, 25903, 25903, 25903, 25903,\n",
      "        25903, 25903, 25903, 25903, 25903, 25903, 25903, 25903, 25903, 25903,\n",
      "        25903, 25903, 25903, 25903, 25903, 25903, 25903, 25903, 25903, 25903,\n",
      "        25903, 25903, 25903, 25903, 25903, 25903, 25903, 25903, 25903, 25903,\n",
      "        25903, 25903, 25903, 25903, 25903, 25903, 25903, 25903, 25903, 25903,\n",
      "        25903, 25903, 25903, 25903, 25903, 25903, 25903, 25903, 25903, 25903,\n",
      "        25903, 25903, 25903])\n",
      "torch.Size([6988, 103])\n",
      "['بيل', 'غيتس', 'يتلقى', 'لقاح', 'كوفيد19', 'غير', 'تصوير', 'الابرة', 'السيرنجة', 'الدواء', 'لابس', 'بولو', 'صيفي', 'الشتاء', 'يقول', 'إحدى', 'مزايا', 'عمر', 'عامًا', 'انه', 'مؤهل', 'للحصول', 'على', 'اللقاح', '...', 'يعنى', 'كان', 'يحتاج', 'اللقاح', 'كان', 'عمره', 'اصغر']\n",
      "[21104, 8193, 14285, 28007, 21617, 10046, 11945, 22540, 28807, 6137, 18493, 15310, 6906, 6046, 6908, 22650, 28257, 14790, 15196, 25980, 4592, 1232, 27141, 22906, 974, 7456, 17061, 794, 22906, 17061, 24121, 24754]\n",
      "tensor([21104,  8193, 14285, 28007, 21617, 10046, 11945, 22540, 28807,  6137,\n",
      "        18493, 15310,  6906,  6046,  6908, 22650, 28257, 14790, 15196, 25980,\n",
      "         4592,  1232, 27141, 22906,   974,  7456, 17061,   794, 22906, 17061,\n",
      "        24121, 24754, 25903, 25903, 25903, 25903, 25903, 25903, 25903, 25903,\n",
      "        25903, 25903, 25903, 25903, 25903, 25903, 25903, 25903, 25903, 25903,\n",
      "        25903, 25903, 25903, 25903, 25903, 25903, 25903, 25903, 25903, 25903,\n",
      "        25903, 25903, 25903, 25903, 25903, 25903, 25903, 25903, 25903, 25903,\n",
      "        25903, 25903, 25903, 25903, 25903, 25903, 25903, 25903, 25903, 25903,\n",
      "        25903, 25903, 25903, 25903, 25903, 25903, 25903, 25903, 25903, 25903,\n",
      "        25903, 25903, 25903, 25903, 25903, 25903, 25903, 25903, 25903, 25903,\n",
      "        25903, 25903, 25903])\n",
      "torch.Size([6988, 103])\n",
      "['مريم_رجوي', 'حظر', 'خامنئي', 'المجرم', 'شراء', 'لقاح_كورونا', 'يعد', 'مجزرة', 'متعمدة', 'بحق', 'الشعب', 'الإيراني', 'نقل', 'موقع', 'مريم', 'رجوي', 'موقف', 'رئيسة', 'الجمهورية', 'المنتخبة', 'للمقاومة', 'الإيرانية', 'تصريحات', 'خامنئي', 'المجرم', 'حول', 'حظر', 'استيراد', 'لقاح', 'كورونا', 'الولايات', 'المتحدة', 'بريطانيا', 'فرنسا', 'اللقاح_حق_للناس']\n",
      "[13968, 3798, 31242, 19605, 26157, 26079, 7464, 30733, 16970, 22466, 17960, 29322, 6221, 23187, 23503, 6623, 23692, 6928, 4313, 16650, 16650, 552, 27879, 31242, 19605, 21611, 3798, 14261, 28007, 22621, 6373, 7216, 16590, 31200, 21354]\n",
      "tensor([13968,  3798, 31242, 19605, 26157, 26079,  7464, 30733, 16970, 22466,\n",
      "        17960, 29322,  6221, 23187, 23503,  6623, 23692,  6928,  4313, 16650,\n",
      "        16650,   552, 27879, 31242, 19605, 21611,  3798, 14261, 28007, 22621,\n",
      "         6373,  7216, 16590, 31200, 21354, 25903, 25903, 25903, 25903, 25903,\n",
      "        25903, 25903, 25903, 25903, 25903])\n",
      "torch.Size([1000, 45])\n",
      "['مريم_رجوي', 'حظر', 'خامنئي', 'المجرم', 'شراء', 'لقاح_كورونا', 'يعد', 'مجزرة', 'متعمدة', 'بحق', 'الشعب', 'الإيراني', 'نقل', 'موقع', 'مريم', 'رجوي', 'موقف', 'رئيسة', 'الجمهورية', 'المنتخبة', 'للمقاومة', 'الإيرانية', 'تصريحات', 'خامنئي', 'المجرم', 'حول', 'حظر', 'استيراد', 'لقاح', 'كورونا', 'الولايات', 'المتحدة', 'بريطانيا', 'فرنسا', 'اللقاح_حق_للناس']\n",
      "[13968, 3798, 31242, 19605, 26157, 26079, 7464, 30733, 16970, 22466, 17960, 29322, 6221, 23187, 23503, 6623, 23692, 6928, 4313, 16650, 16650, 552, 27879, 31242, 19605, 21611, 3798, 14261, 28007, 22621, 6373, 7216, 16590, 31200, 21354]\n",
      "tensor([13968,  3798, 31242, 19605, 26157, 26079,  7464, 30733, 16970, 22466,\n",
      "        17960, 29322,  6221, 23187, 23503,  6623, 23692,  6928,  4313, 16650,\n",
      "        16650,   552, 27879, 31242, 19605, 21611,  3798, 14261, 28007, 22621,\n",
      "         6373,  7216, 16590, 31200, 21354, 25903, 25903, 25903, 25903, 25903,\n",
      "        25903, 25903, 25903, 25903, 25903])\n",
      "torch.Size([1000, 45])\n"
     ]
    }
   ],
   "source": [
    "stance_train_dataset = Dataset(text_train, stance_train + 1)\n",
    "category_train_dataset = Dataset(text_train, [category2id[category] for category in category_train])\n",
    "\n",
    "stance_dev_dataset = Dataset(text_dev, stance_dev + 1)\n",
    "category_dev_dataset = Dataset(text_dev, [category2id[category] for category in category_dev])"
   ]
  },
  {
   "cell_type": "code",
   "execution_count": 542,
   "metadata": {},
   "outputs": [],
   "source": [
    "class LSTM(nn.Module):\n",
    "    def __init__(self, input_dim, emb_dim, hid_dim, output_dim, dropout):\n",
    "        super().__init__()\n",
    "\n",
    "        self.hid_dim = hid_dim\n",
    "        self.output_dim = output_dim\n",
    "\n",
    "        self.embedding = nn.Embedding(input_dim, emb_dim)\n",
    "        self.lstm = nn.LSTM(emb_dim, hid_dim, dropout=dropout)\n",
    "\n",
    "        self.fc_out = nn.Linear(hid_dim, output_dim)\n",
    "\n",
    "        self.dropout = nn.Dropout(dropout)\n",
    "\n",
    "    def forward(self, src):\n",
    "        #src = [src len, batch size]\n",
    "        \n",
    "        embedded = self.embedding(src)\n",
    "        embedded = self.dropout(embedded)\n",
    "        #embedded = [src len, batch size, emb dim]\n",
    "\n",
    "        outputs, (hidden, cell) = self.lstm(embedded)\n",
    "        #outputs = [src len, batch size, hid dim]\n",
    "        #hidden = [n layers * n directions, batch size, hid dim]\n",
    "        #cell = [n layers * n directions, batch size, hid dim]\n",
    "        #outputs are always from the top hidden layer\n",
    "\n",
    "        prediction = self.fc_out(hidden)\n",
    "        #prediction = [1, batch size, output dim]\n",
    "\n",
    "        prediction = prediction.squeeze(0)\n",
    "        #prediction = [batch size, output dim]\n",
    "\n",
    "        return prediction        "
   ]
  },
  {
   "cell_type": "code",
   "execution_count": 543,
   "metadata": {},
   "outputs": [],
   "source": [
    "device = torch.device('cuda' if torch.cuda.is_available() else 'cpu')"
   ]
  },
  {
   "attachments": {},
   "cell_type": "markdown",
   "metadata": {},
   "source": [
    "### Training"
   ]
  },
  {
   "cell_type": "code",
   "execution_count": 544,
   "metadata": {},
   "outputs": [],
   "source": [
    "\n",
    "def train(model, train_dataset, batch_size=512, epochs=5, learning_rate=0.01):\n",
    "  \n",
    "  train_dataloader = torch.utils.data.DataLoader(train_dataset, batch_size=batch_size)\n",
    "\n",
    "  # criterion = nn.CrossEntropyLoss(ignore_index = TRG_PAD_IDX)\n",
    "  criterion = nn.CrossEntropyLoss()\n",
    "\n",
    "  optimizer = torch.optim.Adam(model.parameters(), lr=learning_rate)\n",
    "\n",
    "  use_cuda = torch.cuda.is_available()\n",
    "  device = torch.device(\"cuda\" if use_cuda else \"cpu\")\n",
    "  \n",
    "  model = model.to(device)\n",
    "  criterion = criterion.to(device)\n",
    "\n",
    "  for epoch_num in range(epochs):\n",
    "    total_acc_train = 0.0\n",
    "    total_loss_train = 0.0\n",
    "\n",
    "    for train_input, train_label in tqdm(train_dataloader):\n",
    "\n",
    "      train_input = train_input.to(device).permute(1, 0)\n",
    "      # print(train_input.shape)\n",
    "      train_label = train_label.to(device)\n",
    "\n",
    "      output = model(train_input)\n",
    "\n",
    "      # print(output.shape, train_label.shape)\n",
    "      \n",
    "      batch_loss = criterion(output.view(-1, model.output_dim), train_label.view(-1))\n",
    "\n",
    "      total_loss_train += batch_loss\n",
    "      \n",
    "      acc = torch.sum(torch.argmax(output, -1) == train_label) \n",
    "      total_acc_train += acc\n",
    "\n",
    "      optimizer.zero_grad()\n",
    "\n",
    "      batch_loss.backward()\n",
    "\n",
    "      optimizer.step()\n",
    "      \n",
    "    epoch_loss = total_loss_train / len(train_dataset)\n",
    "\n",
    "    epoch_acc = total_acc_train / len(train_dataset)\n",
    "\n",
    "    print(\n",
    "        f'Epochs: {epoch_num + 1} | Train Loss: {epoch_loss} \\\n",
    "        | Train Accuracy: {epoch_acc}\\n')\n"
   ]
  },
  {
   "cell_type": "code",
   "execution_count": 545,
   "metadata": {},
   "outputs": [],
   "source": [
    "\n",
    "def train_temp(model, train_dataset, batch_size=128, epochs=10, learning_rate=0.01):\n",
    "  \n",
    "  train_dataloader = torch.utils.data.DataLoader(train_dataset, batch_size=batch_size)\n",
    "\n",
    "  # criterion = nn.CrossEntropyLoss(ignore_index = TRG_PAD_IDX)\n",
    "  criterion = nn.CrossEntropyLoss()\n",
    "\n",
    "  optimizer = torch.optim.Adam(model.parameters(), lr=learning_rate)\n",
    "\n",
    "  use_cuda = torch.cuda.is_available()\n",
    "  device = torch.device(\"cuda\" if use_cuda else \"cpu\")\n",
    "  \n",
    "  model = model.to(device)\n",
    "  criterion = criterion.to(device)\n",
    "\n",
    "  for epoch_num in range(epochs):\n",
    "    total_acc_train = 0.0\n",
    "    total_loss_train = 0.0\n",
    "\n",
    "    train_input, train_label = next(iter(train_dataloader))   \n",
    "\n",
    "    train_input = train_input.to(device).permute(1, 0)\n",
    "    print(train_input.shape)\n",
    "    train_label = train_label.to(device)\n",
    "\n",
    "    output = model(train_input)\n",
    "\n",
    "    # print(output.shape, train_label.shape)\n",
    "    # print(output, train_label)      \n",
    "    batch_loss = criterion(output.view(-1, model.output_dim), train_label.view(-1))\n",
    "\n",
    "    total_loss_train += batch_loss\n",
    "    \n",
    "    acc = torch.sum(torch.argmax(output, -1) == train_label) \n",
    "    total_acc_train += acc\n",
    "\n",
    "    optimizer.zero_grad()\n",
    "\n",
    "    batch_loss.backward()\n",
    "\n",
    "    optimizer.step()\n",
    "    \n",
    "    epoch_loss = total_loss_train / batch_size\n",
    "\n",
    "    epoch_acc = total_acc_train / batch_size\n",
    "\n",
    "    print(\n",
    "        f'Epochs: {epoch_num + 1} | Train Loss: {epoch_loss} \\\n",
    "        | Train Accuracy: {epoch_acc}\\n')\n"
   ]
  },
  {
   "cell_type": "code",
   "execution_count": 550,
   "metadata": {},
   "outputs": [],
   "source": [
    "INPUT_DIM = vocab_size\n",
    "OUTPUT_DIM = 3\n",
    "EMB_DIM = 50 #256\n",
    "HID_DIM = 50 #512\n",
    "DROPOUT = 0.0\n",
    "\n",
    "model = LSTM(INPUT_DIM, EMB_DIM, HID_DIM, OUTPUT_DIM, DROPOUT).to(device)"
   ]
  },
  {
   "cell_type": "code",
   "execution_count": 551,
   "metadata": {},
   "outputs": [
    {
     "data": {
      "text/plain": [
       "LSTM(\n",
       "  (embedding): Embedding(32053, 50)\n",
       "  (lstm): LSTM(50, 50)\n",
       "  (fc_out): Linear(in_features=50, out_features=3, bias=True)\n",
       "  (dropout): Dropout(p=0.0, inplace=False)\n",
       ")"
      ]
     },
     "execution_count": 551,
     "metadata": {},
     "output_type": "execute_result"
    }
   ],
   "source": [
    "def init_weights(m):\n",
    "    for name, param in m.named_parameters():\n",
    "        nn.init.uniform_(param.data, -0.08, 0.08)\n",
    "        \n",
    "model.apply(init_weights)"
   ]
  },
  {
   "cell_type": "code",
   "execution_count": 552,
   "metadata": {},
   "outputs": [
    {
     "name": "stdout",
     "output_type": "stream",
     "text": [
      "The model has 1,623,203 trainable parameters\n"
     ]
    }
   ],
   "source": [
    "def count_parameters(model):\n",
    "    return sum(p.numel() for p in model.parameters() if p.requires_grad)\n",
    "\n",
    "print(f'The model has {count_parameters(model):,} trainable parameters')"
   ]
  },
  {
   "cell_type": "code",
   "execution_count": 553,
   "metadata": {},
   "outputs": [
    {
     "name": "stderr",
     "output_type": "stream",
     "text": [
      "100%|██████████| 14/14 [00:04<00:00,  2.95it/s]\n"
     ]
    },
    {
     "name": "stdout",
     "output_type": "stream",
     "text": [
      "Epochs: 1 | Train Loss: 0.0015264508547261357         | Train Accuracy: 0.6893245577812195\n",
      "\n"
     ]
    },
    {
     "name": "stderr",
     "output_type": "stream",
     "text": [
      "100%|██████████| 14/14 [00:04<00:00,  3.04it/s]\n"
     ]
    },
    {
     "name": "stdout",
     "output_type": "stream",
     "text": [
      "Epochs: 2 | Train Loss: 0.0012766626896336675         | Train Accuracy: 0.7925014495849609\n",
      "\n"
     ]
    },
    {
     "name": "stderr",
     "output_type": "stream",
     "text": [
      "100%|██████████| 14/14 [00:04<00:00,  3.07it/s]\n"
     ]
    },
    {
     "name": "stdout",
     "output_type": "stream",
     "text": [
      "Epochs: 3 | Train Loss: 0.001275514718145132         | Train Accuracy: 0.7925014495849609\n",
      "\n"
     ]
    },
    {
     "name": "stderr",
     "output_type": "stream",
     "text": [
      "100%|██████████| 14/14 [00:04<00:00,  3.07it/s]\n"
     ]
    },
    {
     "name": "stdout",
     "output_type": "stream",
     "text": [
      "Epochs: 4 | Train Loss: 0.0012777815572917461         | Train Accuracy: 0.7925014495849609\n",
      "\n"
     ]
    },
    {
     "name": "stderr",
     "output_type": "stream",
     "text": [
      "100%|██████████| 14/14 [00:04<00:00,  3.05it/s]"
     ]
    },
    {
     "name": "stdout",
     "output_type": "stream",
     "text": [
      "Epochs: 5 | Train Loss: 0.0012797316303476691         | Train Accuracy: 0.7925014495849609\n",
      "\n"
     ]
    },
    {
     "name": "stderr",
     "output_type": "stream",
     "text": [
      "\n"
     ]
    }
   ],
   "source": [
    "train(model, stance_train_dataset)"
   ]
  },
  {
   "cell_type": "code",
   "execution_count": 558,
   "metadata": {},
   "outputs": [],
   "source": [
    "INPUT_DIM = vocab_size\n",
    "OUTPUT_DIM = 10\n",
    "EMB_DIM = 100 #256\n",
    "HID_DIM = 100 #512\n",
    "DROPOUT = 0.0\n",
    "\n",
    "model = LSTM(INPUT_DIM, EMB_DIM, HID_DIM, OUTPUT_DIM, DROPOUT).to(device)"
   ]
  },
  {
   "cell_type": "code",
   "execution_count": 559,
   "metadata": {},
   "outputs": [
    {
     "data": {
      "text/plain": [
       "LSTM(\n",
       "  (embedding): Embedding(32053, 100)\n",
       "  (lstm): LSTM(100, 100)\n",
       "  (fc_out): Linear(in_features=100, out_features=10, bias=True)\n",
       "  (dropout): Dropout(p=0.0, inplace=False)\n",
       ")"
      ]
     },
     "execution_count": 559,
     "metadata": {},
     "output_type": "execute_result"
    }
   ],
   "source": [
    "def init_weights(m):\n",
    "    for name, param in m.named_parameters():\n",
    "        nn.init.uniform_(param.data, -0.08, 0.08)\n",
    "        \n",
    "model.apply(init_weights)"
   ]
  },
  {
   "cell_type": "code",
   "execution_count": 560,
   "metadata": {},
   "outputs": [
    {
     "name": "stdout",
     "output_type": "stream",
     "text": [
      "The model has 3,287,110 trainable parameters\n"
     ]
    }
   ],
   "source": [
    "def count_parameters(model):\n",
    "    return sum(p.numel() for p in model.parameters() if p.requires_grad)\n",
    "\n",
    "print(f'The model has {count_parameters(model):,} trainable parameters')"
   ]
  },
  {
   "cell_type": "code",
   "execution_count": 561,
   "metadata": {},
   "outputs": [
    {
     "name": "stderr",
     "output_type": "stream",
     "text": [
      "100%|██████████| 14/14 [00:08<00:00,  1.69it/s]\n"
     ]
    },
    {
     "name": "stdout",
     "output_type": "stream",
     "text": [
      "Epochs: 1 | Train Loss: 0.003323575481772423         | Train Accuracy: 0.48983973264694214\n",
      "\n"
     ]
    },
    {
     "name": "stderr",
     "output_type": "stream",
     "text": [
      "100%|██████████| 14/14 [00:08<00:00,  1.63it/s]\n"
     ]
    },
    {
     "name": "stdout",
     "output_type": "stream",
     "text": [
      "Epochs: 2 | Train Loss: 0.0030574765987694263         | Train Accuracy: 0.5174584984779358\n",
      "\n"
     ]
    },
    {
     "name": "stderr",
     "output_type": "stream",
     "text": [
      "100%|██████████| 14/14 [00:07<00:00,  1.81it/s]\n"
     ]
    },
    {
     "name": "stdout",
     "output_type": "stream",
     "text": [
      "Epochs: 3 | Train Loss: 0.003046886995434761         | Train Accuracy: 0.5174584984779358\n",
      "\n"
     ]
    },
    {
     "name": "stderr",
     "output_type": "stream",
     "text": [
      "100%|██████████| 14/14 [00:10<00:00,  1.38it/s]\n"
     ]
    },
    {
     "name": "stdout",
     "output_type": "stream",
     "text": [
      "Epochs: 4 | Train Loss: 0.0030411402694880962         | Train Accuracy: 0.5174584984779358\n",
      "\n"
     ]
    },
    {
     "name": "stderr",
     "output_type": "stream",
     "text": [
      "100%|██████████| 14/14 [00:09<00:00,  1.41it/s]"
     ]
    },
    {
     "name": "stdout",
     "output_type": "stream",
     "text": [
      "Epochs: 5 | Train Loss: 0.003039042931050062         | Train Accuracy: 0.5174584984779358\n",
      "\n"
     ]
    },
    {
     "name": "stderr",
     "output_type": "stream",
     "text": [
      "\n"
     ]
    }
   ],
   "source": [
    "train(model, category_train_dataset)"
   ]
  },
  {
   "cell_type": "code",
   "execution_count": null,
   "metadata": {},
   "outputs": [],
   "source": []
  }
 ],
 "metadata": {
  "kernelspec": {
   "display_name": "pytorch",
   "language": "python",
   "name": "python3"
  },
  "language_info": {
   "codemirror_mode": {
    "name": "ipython",
    "version": 3
   },
   "file_extension": ".py",
   "mimetype": "text/x-python",
   "name": "python",
   "nbconvert_exporter": "python",
   "pygments_lexer": "ipython3",
   "version": "3.10.6"
  },
  "orig_nbformat": 4,
  "vscode": {
   "interpreter": {
    "hash": "f707ed687e1cc7dca614d866740125e744cc3f7963ec2d63a60d682146be2e45"
   }
  }
 },
 "nbformat": 4,
 "nbformat_minor": 2
}
