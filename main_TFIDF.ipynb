{
  "cells": [
    {
      "cell_type": "markdown",
      "metadata": {
        "id": "view-in-github"
      },
      "source": [
        "<a href=\"https://colab.research.google.com/github/YousefAtefB/StanceCat-COV19/blob/main/main_TFIDF.ipynb\" target=\"_parent\"><img src=\"https://colab.research.google.com/assets/colab-badge.svg\" alt=\"Open In Colab\"/></a>"
      ]
    },
    {
      "cell_type": "markdown",
      "metadata": {
        "id": "76FZTz_krd5a"
      },
      "source": [
        "# Importing libraries"
      ]
    },
    {
      "cell_type": "code",
      "execution_count": 27,
      "metadata": {
        "id": "ywTU_lpard5b",
        "colab": {
          "base_uri": "https://localhost:8080/"
        },
        "outputId": "aa3e3374-2c59-44b5-cff4-9bc96e39b971"
      },
      "outputs": [
        {
          "output_type": "stream",
          "name": "stderr",
          "text": [
            "[nltk_data] Downloading package punkt to /root/nltk_data...\n",
            "[nltk_data]   Package punkt is already up-to-date!\n",
            "[nltk_data] Downloading package stopwords to /root/nltk_data...\n",
            "[nltk_data]   Package stopwords is already up-to-date!\n"
          ]
        },
        {
          "output_type": "stream",
          "name": "stdout",
          "text": [
            "Looking in indexes: https://pypi.org/simple, https://us-python.pkg.dev/colab-wheels/public/simple/\n",
            "Requirement already satisfied: emoji==1.4.2 in /usr/local/lib/python3.8/dist-packages (1.4.2)\n"
          ]
        }
      ],
      "source": [
        "import pandas as pd\n",
        "import numpy as np\n",
        "\n",
        "import re\n",
        "import nltk\n",
        "nltk.download('punkt')\n",
        "nltk.download('stopwords')\n",
        "\n",
        "import string\n",
        "!pip install emoji==1.4.2\n",
        "import emoji\n",
        "\n",
        "from sklearn import svm\n",
        "from sklearn.naive_bayes import CategoricalNB\n",
        "from sklearn.metrics import f1_score\n",
        "\n",
        "from sklearn.feature_extraction.text import TfidfVectorizer"
      ]
    },
    {
      "cell_type": "markdown",
      "metadata": {
        "id": "1VijNZrNrd5c"
      },
      "source": [
        "# Data PreProcessing"
      ]
    },
    {
      "cell_type": "code",
      "execution_count": 28,
      "metadata": {
        "id": "dEQBDR91rd5d"
      },
      "outputs": [],
      "source": [
        "train = pd.read_csv('Dataset/train.csv')\n",
        "text_train, category_train, stance_train = train['text'], train['category'], train['stance']\n",
        "\n",
        "dev = pd.read_csv('Dataset/dev.csv')\n",
        "text_dev, category_dev, stance_dev = dev['text'], dev['category'], dev['stance']"
      ]
    },
    {
      "cell_type": "code",
      "execution_count": 29,
      "metadata": {
        "id": "UMeRhzy8rd5d",
        "outputId": "f82331ee-5e6d-4645-fa68-41a0deacc6b3",
        "colab": {
          "base_uri": "https://localhost:8080/",
          "height": 363
        }
      },
      "outputs": [
        {
          "output_type": "execute_result",
          "data": {
            "text/plain": [
              "                                                text   category  stance\n",
              "0  بيل غيتس يتلقى لقاح #كوفيد19 من غير تصوير الاب...  celebrity       1\n",
              "1  وزير الصحة لحد اليوم وتحديدا هلأ بمؤتمروا الصح...  info_news       1\n",
              "2  قولكن  رح يكونو اد المسؤولية ب لبنان لما يوصل ...  info_news       1\n",
              "3  #تركيا.. وزير الصحة فخر الدين قوجة يتلقى أول ج...  celebrity       1\n",
              "4  وئام وهاب يشتم الدول الخليجية في كل طلة اعلامي...   personal       0\n",
              "5  لقاح #كورونا في أميركا.. قلق متزايد من \"التوزي...  info_news       0\n",
              "6  لبنان اشترى مليونان لقاح امريكي اذا شلنا يلي ع...  info_news       1\n",
              "7  من عوارض لقاح كورونا<LF>هو تهكير حسابك عتويتر<...   personal       0\n",
              "8  هناك 1780 مليونيراً في لبنان. ماذا لو فُرضت ال...  unrelated       0\n",
              "9  دعبول حضرتك منو انت وتطلب من قائد دولة إسلامية...  info_news       1"
            ],
            "text/html": [
              "\n",
              "  <div id=\"df-1c76fc94-4625-4a2a-9359-8e7d8bccd089\">\n",
              "    <div class=\"colab-df-container\">\n",
              "      <div>\n",
              "<style scoped>\n",
              "    .dataframe tbody tr th:only-of-type {\n",
              "        vertical-align: middle;\n",
              "    }\n",
              "\n",
              "    .dataframe tbody tr th {\n",
              "        vertical-align: top;\n",
              "    }\n",
              "\n",
              "    .dataframe thead th {\n",
              "        text-align: right;\n",
              "    }\n",
              "</style>\n",
              "<table border=\"1\" class=\"dataframe\">\n",
              "  <thead>\n",
              "    <tr style=\"text-align: right;\">\n",
              "      <th></th>\n",
              "      <th>text</th>\n",
              "      <th>category</th>\n",
              "      <th>stance</th>\n",
              "    </tr>\n",
              "  </thead>\n",
              "  <tbody>\n",
              "    <tr>\n",
              "      <th>0</th>\n",
              "      <td>بيل غيتس يتلقى لقاح #كوفيد19 من غير تصوير الاب...</td>\n",
              "      <td>celebrity</td>\n",
              "      <td>1</td>\n",
              "    </tr>\n",
              "    <tr>\n",
              "      <th>1</th>\n",
              "      <td>وزير الصحة لحد اليوم وتحديدا هلأ بمؤتمروا الصح...</td>\n",
              "      <td>info_news</td>\n",
              "      <td>1</td>\n",
              "    </tr>\n",
              "    <tr>\n",
              "      <th>2</th>\n",
              "      <td>قولكن  رح يكونو اد المسؤولية ب لبنان لما يوصل ...</td>\n",
              "      <td>info_news</td>\n",
              "      <td>1</td>\n",
              "    </tr>\n",
              "    <tr>\n",
              "      <th>3</th>\n",
              "      <td>#تركيا.. وزير الصحة فخر الدين قوجة يتلقى أول ج...</td>\n",
              "      <td>celebrity</td>\n",
              "      <td>1</td>\n",
              "    </tr>\n",
              "    <tr>\n",
              "      <th>4</th>\n",
              "      <td>وئام وهاب يشتم الدول الخليجية في كل طلة اعلامي...</td>\n",
              "      <td>personal</td>\n",
              "      <td>0</td>\n",
              "    </tr>\n",
              "    <tr>\n",
              "      <th>5</th>\n",
              "      <td>لقاح #كورونا في أميركا.. قلق متزايد من \"التوزي...</td>\n",
              "      <td>info_news</td>\n",
              "      <td>0</td>\n",
              "    </tr>\n",
              "    <tr>\n",
              "      <th>6</th>\n",
              "      <td>لبنان اشترى مليونان لقاح امريكي اذا شلنا يلي ع...</td>\n",
              "      <td>info_news</td>\n",
              "      <td>1</td>\n",
              "    </tr>\n",
              "    <tr>\n",
              "      <th>7</th>\n",
              "      <td>من عوارض لقاح كورونا&lt;LF&gt;هو تهكير حسابك عتويتر&lt;...</td>\n",
              "      <td>personal</td>\n",
              "      <td>0</td>\n",
              "    </tr>\n",
              "    <tr>\n",
              "      <th>8</th>\n",
              "      <td>هناك 1780 مليونيراً في لبنان. ماذا لو فُرضت ال...</td>\n",
              "      <td>unrelated</td>\n",
              "      <td>0</td>\n",
              "    </tr>\n",
              "    <tr>\n",
              "      <th>9</th>\n",
              "      <td>دعبول حضرتك منو انت وتطلب من قائد دولة إسلامية...</td>\n",
              "      <td>info_news</td>\n",
              "      <td>1</td>\n",
              "    </tr>\n",
              "  </tbody>\n",
              "</table>\n",
              "</div>\n",
              "      <button class=\"colab-df-convert\" onclick=\"convertToInteractive('df-1c76fc94-4625-4a2a-9359-8e7d8bccd089')\"\n",
              "              title=\"Convert this dataframe to an interactive table.\"\n",
              "              style=\"display:none;\">\n",
              "        \n",
              "  <svg xmlns=\"http://www.w3.org/2000/svg\" height=\"24px\"viewBox=\"0 0 24 24\"\n",
              "       width=\"24px\">\n",
              "    <path d=\"M0 0h24v24H0V0z\" fill=\"none\"/>\n",
              "    <path d=\"M18.56 5.44l.94 2.06.94-2.06 2.06-.94-2.06-.94-.94-2.06-.94 2.06-2.06.94zm-11 1L8.5 8.5l.94-2.06 2.06-.94-2.06-.94L8.5 2.5l-.94 2.06-2.06.94zm10 10l.94 2.06.94-2.06 2.06-.94-2.06-.94-.94-2.06-.94 2.06-2.06.94z\"/><path d=\"M17.41 7.96l-1.37-1.37c-.4-.4-.92-.59-1.43-.59-.52 0-1.04.2-1.43.59L10.3 9.45l-7.72 7.72c-.78.78-.78 2.05 0 2.83L4 21.41c.39.39.9.59 1.41.59.51 0 1.02-.2 1.41-.59l7.78-7.78 2.81-2.81c.8-.78.8-2.07 0-2.86zM5.41 20L4 18.59l7.72-7.72 1.47 1.35L5.41 20z\"/>\n",
              "  </svg>\n",
              "      </button>\n",
              "      \n",
              "  <style>\n",
              "    .colab-df-container {\n",
              "      display:flex;\n",
              "      flex-wrap:wrap;\n",
              "      gap: 12px;\n",
              "    }\n",
              "\n",
              "    .colab-df-convert {\n",
              "      background-color: #E8F0FE;\n",
              "      border: none;\n",
              "      border-radius: 50%;\n",
              "      cursor: pointer;\n",
              "      display: none;\n",
              "      fill: #1967D2;\n",
              "      height: 32px;\n",
              "      padding: 0 0 0 0;\n",
              "      width: 32px;\n",
              "    }\n",
              "\n",
              "    .colab-df-convert:hover {\n",
              "      background-color: #E2EBFA;\n",
              "      box-shadow: 0px 1px 2px rgba(60, 64, 67, 0.3), 0px 1px 3px 1px rgba(60, 64, 67, 0.15);\n",
              "      fill: #174EA6;\n",
              "    }\n",
              "\n",
              "    [theme=dark] .colab-df-convert {\n",
              "      background-color: #3B4455;\n",
              "      fill: #D2E3FC;\n",
              "    }\n",
              "\n",
              "    [theme=dark] .colab-df-convert:hover {\n",
              "      background-color: #434B5C;\n",
              "      box-shadow: 0px 1px 3px 1px rgba(0, 0, 0, 0.15);\n",
              "      filter: drop-shadow(0px 1px 2px rgba(0, 0, 0, 0.3));\n",
              "      fill: #FFFFFF;\n",
              "    }\n",
              "  </style>\n",
              "\n",
              "      <script>\n",
              "        const buttonEl =\n",
              "          document.querySelector('#df-1c76fc94-4625-4a2a-9359-8e7d8bccd089 button.colab-df-convert');\n",
              "        buttonEl.style.display =\n",
              "          google.colab.kernel.accessAllowed ? 'block' : 'none';\n",
              "\n",
              "        async function convertToInteractive(key) {\n",
              "          const element = document.querySelector('#df-1c76fc94-4625-4a2a-9359-8e7d8bccd089');\n",
              "          const dataTable =\n",
              "            await google.colab.kernel.invokeFunction('convertToInteractive',\n",
              "                                                     [key], {});\n",
              "          if (!dataTable) return;\n",
              "\n",
              "          const docLinkHtml = 'Like what you see? Visit the ' +\n",
              "            '<a target=\"_blank\" href=https://colab.research.google.com/notebooks/data_table.ipynb>data table notebook</a>'\n",
              "            + ' to learn more about interactive tables.';\n",
              "          element.innerHTML = '';\n",
              "          dataTable['output_type'] = 'display_data';\n",
              "          await google.colab.output.renderOutput(dataTable, element);\n",
              "          const docLink = document.createElement('div');\n",
              "          docLink.innerHTML = docLinkHtml;\n",
              "          element.appendChild(docLink);\n",
              "        }\n",
              "      </script>\n",
              "    </div>\n",
              "  </div>\n",
              "  "
            ]
          },
          "metadata": {},
          "execution_count": 29
        }
      ],
      "source": [
        "train.head(10)"
      ]
    },
    {
      "cell_type": "code",
      "execution_count": 30,
      "metadata": {
        "id": "Bpq0eUk-rd5e",
        "outputId": "b9666e5b-712c-42ef-d5cd-069f93eb7e26",
        "colab": {
          "base_uri": "https://localhost:8080/",
          "height": 363
        }
      },
      "outputs": [
        {
          "output_type": "execute_result",
          "data": {
            "text/plain": [
              "                                                text   category  stance\n",
              "0  #مريم_رجوي: <LF>حظر خامنئي المجرم شراء #لقاح_ك...  info_news       1\n",
              "1  #الصحة:<LF>•تم إعطاء 259.530 جرعة من لقاح #كور...       plan       1\n",
              "2  #خادم_الحرمين - حفظه الله - يتلقى الجرعة الأول...  celebrity       1\n",
              "3  #الصحه_العالميه: لقاحات #كورونا آمنة ولا خوف م...  info_news       1\n",
              "4  #وزيرة_الصحة \"#هالة_زايد\" تقول إنه يجرى مراجعة...  info_news       1\n",
              "5  2️⃣ وانتهى الفريق من الدراسات قبل السريرية ونش...  info_news       1\n",
              "6  عاجل 🔴 <LF>.<LF><LF>.<LF><LF>وزارة الصحة :<LF>...       plan       1\n",
              "7  #فيديو | السفير الأميركي لدى السعودية بعد تلقي...  info_news       1\n",
              "8  تصريحات وبس الحكومة مع السيسي علي حسب اللقطة! ...  info_news       0\n",
              "9  الاتحاد الاوروبي تفاوض لشراء لقاحات الكورونا م...  info_news       1"
            ],
            "text/html": [
              "\n",
              "  <div id=\"df-d882d9f7-da5b-47e6-ab41-978bdc3ac34c\">\n",
              "    <div class=\"colab-df-container\">\n",
              "      <div>\n",
              "<style scoped>\n",
              "    .dataframe tbody tr th:only-of-type {\n",
              "        vertical-align: middle;\n",
              "    }\n",
              "\n",
              "    .dataframe tbody tr th {\n",
              "        vertical-align: top;\n",
              "    }\n",
              "\n",
              "    .dataframe thead th {\n",
              "        text-align: right;\n",
              "    }\n",
              "</style>\n",
              "<table border=\"1\" class=\"dataframe\">\n",
              "  <thead>\n",
              "    <tr style=\"text-align: right;\">\n",
              "      <th></th>\n",
              "      <th>text</th>\n",
              "      <th>category</th>\n",
              "      <th>stance</th>\n",
              "    </tr>\n",
              "  </thead>\n",
              "  <tbody>\n",
              "    <tr>\n",
              "      <th>0</th>\n",
              "      <td>#مريم_رجوي: &lt;LF&gt;حظر خامنئي المجرم شراء #لقاح_ك...</td>\n",
              "      <td>info_news</td>\n",
              "      <td>1</td>\n",
              "    </tr>\n",
              "    <tr>\n",
              "      <th>1</th>\n",
              "      <td>#الصحة:&lt;LF&gt;•تم إعطاء 259.530 جرعة من لقاح #كور...</td>\n",
              "      <td>plan</td>\n",
              "      <td>1</td>\n",
              "    </tr>\n",
              "    <tr>\n",
              "      <th>2</th>\n",
              "      <td>#خادم_الحرمين - حفظه الله - يتلقى الجرعة الأول...</td>\n",
              "      <td>celebrity</td>\n",
              "      <td>1</td>\n",
              "    </tr>\n",
              "    <tr>\n",
              "      <th>3</th>\n",
              "      <td>#الصحه_العالميه: لقاحات #كورونا آمنة ولا خوف م...</td>\n",
              "      <td>info_news</td>\n",
              "      <td>1</td>\n",
              "    </tr>\n",
              "    <tr>\n",
              "      <th>4</th>\n",
              "      <td>#وزيرة_الصحة \"#هالة_زايد\" تقول إنه يجرى مراجعة...</td>\n",
              "      <td>info_news</td>\n",
              "      <td>1</td>\n",
              "    </tr>\n",
              "    <tr>\n",
              "      <th>5</th>\n",
              "      <td>2️⃣ وانتهى الفريق من الدراسات قبل السريرية ونش...</td>\n",
              "      <td>info_news</td>\n",
              "      <td>1</td>\n",
              "    </tr>\n",
              "    <tr>\n",
              "      <th>6</th>\n",
              "      <td>عاجل 🔴 &lt;LF&gt;.&lt;LF&gt;&lt;LF&gt;.&lt;LF&gt;&lt;LF&gt;وزارة الصحة :&lt;LF&gt;...</td>\n",
              "      <td>plan</td>\n",
              "      <td>1</td>\n",
              "    </tr>\n",
              "    <tr>\n",
              "      <th>7</th>\n",
              "      <td>#فيديو | السفير الأميركي لدى السعودية بعد تلقي...</td>\n",
              "      <td>info_news</td>\n",
              "      <td>1</td>\n",
              "    </tr>\n",
              "    <tr>\n",
              "      <th>8</th>\n",
              "      <td>تصريحات وبس الحكومة مع السيسي علي حسب اللقطة! ...</td>\n",
              "      <td>info_news</td>\n",
              "      <td>0</td>\n",
              "    </tr>\n",
              "    <tr>\n",
              "      <th>9</th>\n",
              "      <td>الاتحاد الاوروبي تفاوض لشراء لقاحات الكورونا م...</td>\n",
              "      <td>info_news</td>\n",
              "      <td>1</td>\n",
              "    </tr>\n",
              "  </tbody>\n",
              "</table>\n",
              "</div>\n",
              "      <button class=\"colab-df-convert\" onclick=\"convertToInteractive('df-d882d9f7-da5b-47e6-ab41-978bdc3ac34c')\"\n",
              "              title=\"Convert this dataframe to an interactive table.\"\n",
              "              style=\"display:none;\">\n",
              "        \n",
              "  <svg xmlns=\"http://www.w3.org/2000/svg\" height=\"24px\"viewBox=\"0 0 24 24\"\n",
              "       width=\"24px\">\n",
              "    <path d=\"M0 0h24v24H0V0z\" fill=\"none\"/>\n",
              "    <path d=\"M18.56 5.44l.94 2.06.94-2.06 2.06-.94-2.06-.94-.94-2.06-.94 2.06-2.06.94zm-11 1L8.5 8.5l.94-2.06 2.06-.94-2.06-.94L8.5 2.5l-.94 2.06-2.06.94zm10 10l.94 2.06.94-2.06 2.06-.94-2.06-.94-.94-2.06-.94 2.06-2.06.94z\"/><path d=\"M17.41 7.96l-1.37-1.37c-.4-.4-.92-.59-1.43-.59-.52 0-1.04.2-1.43.59L10.3 9.45l-7.72 7.72c-.78.78-.78 2.05 0 2.83L4 21.41c.39.39.9.59 1.41.59.51 0 1.02-.2 1.41-.59l7.78-7.78 2.81-2.81c.8-.78.8-2.07 0-2.86zM5.41 20L4 18.59l7.72-7.72 1.47 1.35L5.41 20z\"/>\n",
              "  </svg>\n",
              "      </button>\n",
              "      \n",
              "  <style>\n",
              "    .colab-df-container {\n",
              "      display:flex;\n",
              "      flex-wrap:wrap;\n",
              "      gap: 12px;\n",
              "    }\n",
              "\n",
              "    .colab-df-convert {\n",
              "      background-color: #E8F0FE;\n",
              "      border: none;\n",
              "      border-radius: 50%;\n",
              "      cursor: pointer;\n",
              "      display: none;\n",
              "      fill: #1967D2;\n",
              "      height: 32px;\n",
              "      padding: 0 0 0 0;\n",
              "      width: 32px;\n",
              "    }\n",
              "\n",
              "    .colab-df-convert:hover {\n",
              "      background-color: #E2EBFA;\n",
              "      box-shadow: 0px 1px 2px rgba(60, 64, 67, 0.3), 0px 1px 3px 1px rgba(60, 64, 67, 0.15);\n",
              "      fill: #174EA6;\n",
              "    }\n",
              "\n",
              "    [theme=dark] .colab-df-convert {\n",
              "      background-color: #3B4455;\n",
              "      fill: #D2E3FC;\n",
              "    }\n",
              "\n",
              "    [theme=dark] .colab-df-convert:hover {\n",
              "      background-color: #434B5C;\n",
              "      box-shadow: 0px 1px 3px 1px rgba(0, 0, 0, 0.15);\n",
              "      filter: drop-shadow(0px 1px 2px rgba(0, 0, 0, 0.3));\n",
              "      fill: #FFFFFF;\n",
              "    }\n",
              "  </style>\n",
              "\n",
              "      <script>\n",
              "        const buttonEl =\n",
              "          document.querySelector('#df-d882d9f7-da5b-47e6-ab41-978bdc3ac34c button.colab-df-convert');\n",
              "        buttonEl.style.display =\n",
              "          google.colab.kernel.accessAllowed ? 'block' : 'none';\n",
              "\n",
              "        async function convertToInteractive(key) {\n",
              "          const element = document.querySelector('#df-d882d9f7-da5b-47e6-ab41-978bdc3ac34c');\n",
              "          const dataTable =\n",
              "            await google.colab.kernel.invokeFunction('convertToInteractive',\n",
              "                                                     [key], {});\n",
              "          if (!dataTable) return;\n",
              "\n",
              "          const docLinkHtml = 'Like what you see? Visit the ' +\n",
              "            '<a target=\"_blank\" href=https://colab.research.google.com/notebooks/data_table.ipynb>data table notebook</a>'\n",
              "            + ' to learn more about interactive tables.';\n",
              "          element.innerHTML = '';\n",
              "          dataTable['output_type'] = 'display_data';\n",
              "          await google.colab.output.renderOutput(dataTable, element);\n",
              "          const docLink = document.createElement('div');\n",
              "          docLink.innerHTML = docLinkHtml;\n",
              "          element.appendChild(docLink);\n",
              "        }\n",
              "      </script>\n",
              "    </div>\n",
              "  </div>\n",
              "  "
            ]
          },
          "metadata": {},
          "execution_count": 30
        }
      ],
      "source": [
        "dev.head(10)"
      ]
    },
    {
      "cell_type": "code",
      "execution_count": 31,
      "metadata": {
        "id": "kh3WXuubrd5e",
        "outputId": "f3441a69-c409-4788-e623-6b8b9ea27e0a",
        "colab": {
          "base_uri": "https://localhost:8080/"
        }
      },
      "outputs": [
        {
          "output_type": "stream",
          "name": "stdout",
          "text": [
            "(6988,) (6988,) (6988,)\n",
            "(1000,) (1000,) (1000,)\n"
          ]
        }
      ],
      "source": [
        "text_train, category_train, stance_train = np.array(train['text']), np.array(train['category']), np.array(train['stance'])\n",
        "text_dev, category_dev, stance_dev = np.array(dev['text']), np.array(dev['category']), np.array(dev['stance'])\n",
        "\n",
        "print(text_train.shape, category_train.shape, stance_train.shape)\n",
        "print(text_dev.shape, category_dev.shape, stance_dev.shape)"
      ]
    },
    {
      "cell_type": "code",
      "execution_count": 32,
      "metadata": {
        "id": "974WG9BjXpIa"
      },
      "outputs": [],
      "source": [
        "# Clean/Normalize Arabic Text \n",
        "# taskeel, longation, ... etc\n",
        "def clean_str(text):\n",
        "    search = [\"أ\",\"إ\",\"آ\",\"ة\",\"_\",\"-\",\"/\",\".\",\"،\",\" و \",\" يا \",'\"',\"ـ\",\"'\",\"ى\",\"\\\\\",'\\n', '\\t','\"','?','؟','!']\n",
        "    replace = [\"ا\",\"ا\",\"ا\",\"ه\",\" \",\" \",\"\",\"\",\"\",\" و\",\" يا\",\"\",\"\",\"\",\"ي\",\"\",' ', ' ',' ',' ? ',' ؟ ',' ! ']\n",
        "    \n",
        "    #remove tashkeel\n",
        "    p_tashkeel = re.compile(r'[\\u0617-\\u061A\\u064B-\\u0652]')\n",
        "    text = re.sub(p_tashkeel,\"\", text)\n",
        "    \n",
        "    #remove longation\n",
        "    p_longation = re.compile(r'(.)\\1+')\n",
        "    subst = r\"\\1\\1\"\n",
        "    text = re.sub(p_longation, subst, text)\n",
        "    \n",
        "    text = text.replace('وو', 'و')\n",
        "    text = text.replace('يي', 'ي')\n",
        "    text = text.replace('اا', 'ا')\n",
        "    \n",
        "    for i in range(0, len(search)):\n",
        "        text = text.replace(search[i], replace[i])\n",
        "    \n",
        "    #trim    \n",
        "    text = text.strip()\n",
        "\n",
        "    return text\n",
        "\n",
        "def PreProcessing(text, unk='<UNK>'):\n",
        "\n",
        "  for i in range(len(text)):\n",
        "\n",
        "    # remove links\n",
        "    text[i] = re.sub(r'https?:\\/\\/.*[\\r\\n]*', '', text[i], flags=re.MULTILINE)\n",
        "\n",
        "    # limit repeated emojis to 2\n",
        "    prev_emoji = None\n",
        "    cnt = 0\n",
        "    remove_duplicate_emoji = []\n",
        "    for c in text[i]:\n",
        "        if c in emoji.UNICODE_EMOJI['en']:\n",
        "            if prev_emoji == c and cnt >=2:\n",
        "                continue\n",
        "            if prev_emoji != c:\n",
        "              cnt = 0\n",
        "            prev_emoji = c\n",
        "            cnt+=1\n",
        "        remove_duplicate_emoji.append(c)\n",
        "    text[i] = \"\".join(remove_duplicate_emoji)\n",
        "\n",
        "    # seperate emojis\n",
        "    text[i] = ''.join((' '+c+' ') if c in emoji.UNICODE_EMOJI['en'] else c for c in text[i])\n",
        "\n",
        "    # Clean/Normalize Arabic Text\n",
        "    text[i] = clean_str(text[i]) \n",
        "\n",
        "    # remove english words\n",
        "    text[i] = re.sub(r'\\s*[A-Za-z]+\\b', '' , text[i])\n",
        "\n",
        "    # remove numbers\n",
        "    text[i] = re.sub(\"\\d+\", \" \", text[i])\n",
        "\n",
        "    # remove punctuations\n",
        "    text[i] = text[i].translate(str.maketrans('', '', string.punctuation))\n",
        "\n",
        "    # tokenize\n",
        "    text[i] = nltk.tokenize.word_tokenize(text[i])\n",
        "\n",
        "    # remove stop-words\n",
        "    stopwords = set(nltk.corpus.stopwords.words(\"arabic\"))\n",
        "    text[i] = [word for word in text[i] if word not in stopwords]\n",
        "\n",
        "    # remove emojis\n",
        "    text[i] = [word for word in text[i] if word not in emoji.UNICODE_EMOJI['en']]\n",
        "\n",
        "    # remove empty words\n",
        "    text[i] = [word for word in text[i] if len(word)>2]\n",
        "\n",
        "    # if the tweet became empty just add add <UNK> token \n",
        "    if len(text[i])==0:\n",
        "      text[i] = [unk]\n",
        "\n",
        "  return text"
      ]
    },
    {
      "cell_type": "code",
      "execution_count": 33,
      "metadata": {
        "id": "LDLCPKlErd5f",
        "outputId": "1bd667eb-ad4a-4045-b2df-4f2591c3f4ba",
        "colab": {
          "base_uri": "https://localhost:8080/"
        }
      },
      "outputs": [
        {
          "output_type": "stream",
          "name": "stdout",
          "text": [
            "بيل غيتس يتلقى لقاح #كوفيد19 من غير تصوير الابرة و لا السيرنجة و لا الدواء و لابس بولو صيفي في عز الشتاء و يقول ان إحدى مزايا عمر ال 65 عامًا هي انه مؤهل للحصول على اللقاح ... يعنى ما كان يحتاج اللقاح لو كان عمره اصغر من 65 🤔 https://t.co/QQKFFUNwBn \n",
            " ['بيل', 'غيتس', 'يتلقي', 'لقاح', 'كوفيد', 'تصوير', 'الابره', 'السيرنجه', 'الدواء', 'ولابس', 'بولو', 'صيفي', 'الشتاء', 'ويقول', 'احدي', 'مزايا', 'عمر', 'عاما', 'انه', 'مؤهل', 'للحصول', 'علي', 'اللقاح', 'يعني', 'يحتاج', 'اللقاح', 'عمره', 'اصغر']\n",
            "#مريم_رجوي: <LF>حظر خامنئي المجرم شراء #لقاح_كورونا يعد مجزرة متعمدة بحق الشعب الإيراني<LF><LF>نقل موقع مريم رجوي موقف رئيسة الجمهورية المنتخبة للمقاومة الإيرانية من تصريحات خامنئي المجرم حول حظر استيراد لقاح كورونا من الولايات المتحدة و بريطانيا و فرنسا. <LF>#اللقاح_حق_للناس https://t.co/AYXMbXjVKn \n",
            " ['مريم', 'رجوي', 'حظر', 'خامنئي', 'المجرم', 'شراء', 'لقاح', 'كورونا', 'يعد', 'مجزره', 'متعمده', 'بحق', 'الشعب', 'الايرانينقل', 'موقع', 'مريم', 'رجوي', 'موقف', 'رئيسه', 'الجمهوريه', 'المنتخبه', 'للمقاومه', 'الايرانيه', 'تصريحات', 'خامنئي', 'المجرم', 'حول', 'حظر', 'استيراد', 'لقاح', 'كورونا', 'الولايات', 'المتحده', 'وبريطانيا', 'وفرنسا', 'اللقاح', 'للناس']\n",
            "98\n",
            "بيل\n",
            "غيتس\n",
            "يتلقي\n",
            "لقاح\n",
            "كوفيد\n",
            "تصوير\n",
            "الابره\n",
            "السيرنجه\n",
            "الدواء\n",
            "ولابس\n",
            "بولو\n",
            "صيفي\n",
            "الشتاء\n",
            "ويقول\n",
            "احدي\n",
            "مزايا\n",
            "عمر\n",
            "عاما\n",
            "انه\n",
            "مؤهل\n",
            "للحصول\n",
            "علي\n",
            "اللقاح\n",
            "يعني\n",
            "يحتاج\n",
            "اللقاح\n",
            "عمره\n",
            "اصغر\n"
          ]
        }
      ],
      "source": [
        "# print(max(text_train, key=len))\n",
        "pre_text_train = PreProcessing(np.array(text_train))\n",
        "pre_text_dev = PreProcessing(np.array(text_dev))\n",
        "print(text_train[0], '\\n', pre_text_train[0])\n",
        "print(text_dev[0], '\\n', pre_text_dev[0])\n",
        "print(len(max(pre_text_train,key=len)))\n",
        "# for word in text_dev[0]:\n",
        "#   print(word)\n",
        "for word in pre_text_train[0]:\n",
        "  print(word)"
      ]
    },
    {
      "cell_type": "code",
      "execution_count": 34,
      "metadata": {
        "id": "Ld8pW0r2rd5f",
        "outputId": "4e1cc45f-dd51-465e-c7b7-1ee92de81a2f",
        "colab": {
          "base_uri": "https://localhost:8080/"
        }
      },
      "outputs": [
        {
          "output_type": "stream",
          "name": "stdout",
          "text": [
            "['بيل', 'غيتس', 'يتلقي', 'لقاح', 'كوفيد', 'تصوير', 'الابره', 'السيرنجه', 'الدواء', 'ولابس', 'بولو', 'صيفي', 'الشتاء', 'ويقول', 'احدي', 'مزايا', 'عمر', 'عاما', 'انه', 'مؤهل', 'للحصول', 'علي', 'اللقاح', 'يعني', 'يحتاج', 'اللقاح', 'عمره', 'اصغر']\n"
          ]
        }
      ],
      "source": [
        "with open('our_processed_train.txt','w', encoding='utf8') as f:\n",
        "\tfor i in pre_text_train:\n",
        "\t\tf.write('%s\\n'%i)\n",
        "print(pre_text_train[0])"
      ]
    },
    {
      "cell_type": "markdown",
      "source": [
        "# TFIDF"
      ],
      "metadata": {
        "id": "UF4BHmaBj9x_"
      }
    },
    {
      "cell_type": "code",
      "execution_count": 35,
      "metadata": {
        "id": "f7KTsZq7r24b"
      },
      "outputs": [],
      "source": [
        "def get_TFIDF(in_corpus):\n",
        "  \"\"\"\n",
        "  Takes list of lists of words   \n",
        "  Returns 4-tuple:\n",
        "    - 2D array: list of vectors representing each word\n",
        "    - 2D array: list of vectors representing each document\n",
        "    - vocabulary (in the same order of first tuple returned)\n",
        "    - vectorizer -> can be used for with transform() for dev/test set\n",
        "  \"\"\"\n",
        "  corpus = [' '.join(l) for l in in_corpus]\n",
        "  print('corpus size: ', len(corpus))\n",
        "  vectorizer = TfidfVectorizer()\n",
        "  X = vectorizer.fit_transform(corpus)\n",
        "  return X.getH().toarray(), X.toarray(), vectorizer.get_feature_names_out(), vectorizer"
      ]
    },
    {
      "cell_type": "code",
      "execution_count": 36,
      "metadata": {
        "id": "zbL8uawMtAxT"
      },
      "outputs": [],
      "source": [
        "def cosine_similarity(word1, word2, vocab):\n",
        "  # vocab = vectorizer_TF_IDF.get_feature_names_out()\n",
        "  ind1 = np.where(vocab==word1)[0].item()\n",
        "  ind2 = np.where(vocab==word2)[0].item()\n",
        "  return np.dot(temp_TF_IDF[ind1], temp_TF_IDF[ind2])/(np.sqrt(np.sum(temp_TF_IDF[ind1]**2))*np.sqrt(np.sum(temp_TF_IDF[ind2]**2)))"
      ]
    },
    {
      "cell_type": "code",
      "execution_count": 37,
      "metadata": {
        "id": "OuNUZ9YWvNOK"
      },
      "outputs": [],
      "source": [
        "from sklearn.decomposition import PCA\n",
        "def apply_PCA(list_of_features, n_components): # take best n_components features for all samples\n",
        "  pca = PCA(n_components=n_components)\n",
        "  return pca.fit_transform(list_of_features)"
      ]
    },
    {
      "cell_type": "code",
      "execution_count": 38,
      "metadata": {
        "id": "rn-k8mD00Lbi"
      },
      "outputs": [],
      "source": [
        "import matplotlib.pyplot as plt\n",
        "def plot_annotated(points, labels=[]):\n",
        "  \"\"\"\n",
        "  [[0 1]\n",
        "  [2 3]]\n",
        "  -> (0,1), (2, 3)\n",
        "  \"\"\"\n",
        "  plt.scatter(points[:,0], points[:,1])\n",
        "  for i, txt in enumerate(labels):\n",
        "    plt.annotate(txt, (points[i,0], points[i,1]))\n",
        "  plt.show()"
      ]
    },
    {
      "cell_type": "code",
      "execution_count": 39,
      "metadata": {
        "colab": {
          "base_uri": "https://localhost:8080/",
          "height": 525
        },
        "id": "lG5MvaMLgJM9",
        "outputId": "a968b54d-5577-4d6f-fc57-d088a3706a06"
      },
      "outputs": [
        {
          "output_type": "stream",
          "name": "stdout",
          "text": [
            "corpus size:  4\n",
            "[[0.         0.         0.51184851 0.        ]\n",
            " [0.46979139 0.6876236  0.         0.46979139]\n",
            " [0.58028582 0.         0.         0.58028582]\n",
            " [0.38408524 0.28108867 0.26710379 0.38408524]\n",
            " [0.         0.         0.51184851 0.        ]\n",
            " [0.         0.53864762 0.         0.        ]\n",
            " [0.38408524 0.28108867 0.26710379 0.38408524]\n",
            " [0.         0.         0.51184851 0.        ]\n",
            " [0.38408524 0.28108867 0.26710379 0.38408524]]\n",
            "\n",
            "9 9\n"
          ]
        },
        {
          "output_type": "display_data",
          "data": {
            "text/plain": [
              "<Figure size 432x288 with 1 Axes>"
            ],
            "image/png": "[encoded data removed]"
          },
          "metadata": {
            "needs_background": "light"
          }
        },
        {
          "output_type": "stream",
          "name": "stdout",
          "text": [
            "0.813894995377407\n",
            "1.0\n",
            "1.0\n"
          ]
        }
      ],
      "source": [
        "corpus_TF_IDF = [\n",
        "    ['This','is', 'the', 'first', 'document.'],\n",
        "    ['This', 'document', 'is', 'the', 'second', 'document.'],\n",
        "    ['And', 'this', 'is', 'the', 'third', 'one.'],\n",
        "    ['Is', 'this', 'the', 'first', 'document?'],\n",
        "]\n",
        "temp_TF_IDF, temp2_TF_IDF, vocab_tf_idf, vectorizer_TF_IDF = get_TFIDF(corpus_TF_IDF)\n",
        "print(temp_TF_IDF)\n",
        "print(vectorizer_TF_IDF.transform( [' '.join(l) for l in [['hello','world']]]))\n",
        "after_pca = apply_PCA(temp_TF_IDF, 2)\n",
        "print(len(temp_TF_IDF), len(after_pca))\n",
        "plot_annotated(after_pca, vocab_tf_idf)\n",
        "print(cosine_similarity('this', 'first', vocab_tf_idf))\n",
        "print(cosine_similarity('this', 'is', vocab_tf_idf))\n",
        "print(cosine_similarity('one', 'third', vocab_tf_idf))"
      ]
    },
    {
      "cell_type": "code",
      "source": [
        "word_dim = 300"
      ],
      "metadata": {
        "id": "r80f2zWKK9Tq"
      },
      "execution_count": 40,
      "outputs": []
    },
    {
      "cell_type": "code",
      "execution_count": 41,
      "metadata": {
        "colab": {
          "base_uri": "https://localhost:8080/"
        },
        "id": "y-Cc6Oq9Rj8v",
        "outputId": "2cb13c92-1ea6-48e0-b185-ece57db8d3ed"
      },
      "outputs": [
        {
          "output_type": "stream",
          "name": "stdout",
          "text": [
            "corpus size:  6988\n"
          ]
        }
      ],
      "source": [
        "\n",
        "temp_tfidf = get_TFIDF(pre_text_train)\n",
        "\n",
        "# reduce dimensionality of each document\n",
        "reduced_tfidf_train = apply_PCA(temp_tfidf[1], word_dim)\n",
        "\n",
        "# transform dev set with the vectorizer\n",
        "text_dev_for_tfidf = temp_tfidf[3].transform( [' '.join(l) for l in pre_text_dev]).toarray()\n",
        "\n",
        "# reduce dimensionality of dev set\n",
        "reduced_tfidf_dev = apply_PCA(text_dev_for_tfidf, word_dim)"
      ]
    },
    {
      "cell_type": "code",
      "execution_count": 42,
      "metadata": {
        "colab": {
          "base_uri": "https://localhost:8080/"
        },
        "id": "_FFHQRb_W9G3",
        "outputId": "4de9aee3-f31a-4881-ea3b-293ed42e1637"
      },
      "outputs": [
        {
          "output_type": "stream",
          "name": "stdout",
          "text": [
            "(6988, 300)\n",
            "6988\n"
          ]
        }
      ],
      "source": [
        "print(reduced_tfidf_train.shape)\n",
        "print(len(text_train))"
      ]
    },
    {
      "cell_type": "code",
      "source": [
        "print(stance_dev.shape)"
      ],
      "metadata": {
        "colab": {
          "base_uri": "https://localhost:8080/"
        },
        "id": "g2lj9nh9NKR6",
        "outputId": "783bb181-fad7-49a6-bdcf-5ed1fe14715c"
      },
      "execution_count": 43,
      "outputs": [
        {
          "output_type": "stream",
          "name": "stdout",
          "text": [
            "(1000,)\n"
          ]
        }
      ]
    },
    {
      "cell_type": "markdown",
      "source": [
        "# Naïve Bayes"
      ],
      "metadata": {
        "id": "Rg-f_nCAcoPy"
      }
    },
    {
      "cell_type": "code",
      "source": [
        "def NB_TFIDF_stance():\n",
        "  gnb = CategoricalNB()\n",
        "  y_pred_tfidf = gnb.fit(reduced_tfidf_train, stance_train).predict(reduced_tfidf_dev)\n",
        "  print(\"tfidf NB stance accuracy = \", np.sum(y_pred_tfidf==stance_dev)/stance_dev.size)\n",
        "  f1Score_tfidf = f1_score(stance_dev, y_pred_tfidf,  average='macro')\n",
        "  print(\"tfidf NB stance f1 score = \", f1Score_tfidf)\n",
        "\n",
        "NB_TFIDF_stance() "
      ],
      "metadata": {
        "colab": {
          "base_uri": "https://localhost:8080/"
        },
        "id": "MhrUzpUkKTdk",
        "outputId": "9c01fc7e-7e33-41d7-b562-99c0df6b6991"
      },
      "execution_count": 44,
      "outputs": [
        {
          "output_type": "stream",
          "name": "stdout",
          "text": [
            "tfidf NB stance accuracy =  0.804\n",
            "tfidf NB stance f1 score =  0.29711751662971175\n"
          ]
        }
      ]
    },
    {
      "cell_type": "code",
      "source": [
        "def NB_TFIDF_category():\n",
        "  gnb = CategoricalNB()\n",
        "  y_pred_tfidf = gnb.fit(reduced_tfidf_train, category_train).predict(reduced_tfidf_dev)\n",
        "  print(\"tfidf NB categories accuracy = \", np.sum(y_pred_tfidf==category_dev)/category_dev.size)\n",
        "  f1Score_tfidf = f1_score(category_dev, y_pred_tfidf, average='macro')\n",
        "  print(\"tfidf NB categories f1 score = \", f1Score_tfidf)\n",
        "\n",
        "NB_TFIDF_category()"
      ],
      "metadata": {
        "colab": {
          "base_uri": "https://localhost:8080/"
        },
        "id": "jipneod5apZo",
        "outputId": "647c7e08-a0d9-4dcc-919e-b7cf0ffe6999"
      },
      "execution_count": 45,
      "outputs": [
        {
          "output_type": "stream",
          "name": "stdout",
          "text": [
            "tfidf NB categories accuracy =  0.545\n",
            "tfidf NB categories f1 score =  0.07055016181229774\n"
          ]
        }
      ]
    },
    {
      "cell_type": "markdown",
      "source": [
        "# SVM"
      ],
      "metadata": {
        "id": "ocfZY82Ic04s"
      }
    },
    {
      "cell_type": "code",
      "source": [
        "def SVM_TFIDF_stance():\n",
        "  clf = svm.SVC()\n",
        "  clf.fit(reduced_tfidf_train, stance_train)\n",
        "  y_pred_tfidf = clf.predict(reduced_tfidf_dev)\n",
        "  print(\"tfidf SVM stance accuracy = \", np.sum(y_pred_tfidf==stance_dev)/stance_dev.size)\n",
        "  f1Score_tfidf = f1_score(stance_dev, y_pred_tfidf, average='macro')\n",
        "  print(\"tfidf SVM stance f1 score = \", f1Score_tfidf)\n",
        "\n",
        "SVM_TFIDF_stance()"
      ],
      "metadata": {
        "colab": {
          "base_uri": "https://localhost:8080/"
        },
        "id": "OiW0-Vs4RUpp",
        "outputId": "0377ea82-fa4a-4e5b-812c-5a5b27ee117f"
      },
      "execution_count": 46,
      "outputs": [
        {
          "output_type": "stream",
          "name": "stdout",
          "text": [
            "tfidf SVM stance accuracy =  0.804\n",
            "tfidf SVM stance f1 score =  0.29711751662971175\n"
          ]
        }
      ]
    },
    {
      "cell_type": "code",
      "source": [
        "def SVM_TFIDF_category():\n",
        "  clf = svm.SVC()\n",
        "  clf.fit(reduced_tfidf_train, category_train)\n",
        "  y_pred_tfidf = clf.predict(reduced_tfidf_dev)\n",
        "  print(\"tfidf SVM categories accuracy = \", np.sum(y_pred_tfidf==category_dev)/category_dev.size)\n",
        "  f1Score_tfidf = f1_score(category_dev, y_pred_tfidf, average='macro')\n",
        "  print(\"tfidf SVM categories f1 score = \", f1Score_tfidf)\n",
        "\n",
        "SVM_TFIDF_category()"
      ],
      "metadata": {
        "colab": {
          "base_uri": "https://localhost:8080/"
        },
        "id": "Q4TFvU0Ja3iY",
        "outputId": "6d618526-323c-4096-aaf8-02da399c12ff"
      },
      "execution_count": 47,
      "outputs": [
        {
          "output_type": "stream",
          "name": "stdout",
          "text": [
            "tfidf SVM categories accuracy =  0.593\n",
            "tfidf SVM categories f1 score =  0.12742390033003945\n"
          ]
        }
      ]
    }
  ],
  "metadata": {
    "kernelspec": {
      "display_name": "pytorch",
      "language": "python",
      "name": "python3"
    },
    "language_info": {
      "codemirror_mode": {
        "name": "ipython",
        "version": 3
      },
      "file_extension": ".py",
      "mimetype": "text/x-python",
      "name": "python",
      "nbconvert_exporter": "python",
      "pygments_lexer": "ipython3",
      "version": "3.10.6"
    },
    "orig_nbformat": 4,
    "vscode": {
      "interpreter": {
        "hash": "f707ed687e1cc7dca614d866740125e744cc3f7963ec2d63a60d682146be2e45"
      }
    },
    "colab": {
      "provenance": []
    },
    "accelerator": "GPU",
    "gpuClass": "standard"
  },
  "nbformat": 4,
  "nbformat_minor": 0
}